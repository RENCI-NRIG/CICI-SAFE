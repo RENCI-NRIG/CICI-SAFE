{
 "cells": [
  {
   "cell_type": "code",
   "execution_count": 1,
   "metadata": {},
   "outputs": [],
   "source": [
    "# Set up user's project (user's can be multiple ones, so there is no default currently)\n",
    "export OS_PROJECT_NAME='CH-816532'\n",
    "\n",
    "# Set region (again, no default currently)\n",
    "#export OS_REGION_NAME='CHI@TACC'\n",
    "export OS_REGION_NAME='CHI@UC'\n",
    "\n",
    "# Set chameleon keypair name and path to the private ssh key\n",
    "export SSH_KEY_NAME=${USERNAME}-jupyter\n",
    "export SSH_PRIVATE_KEY=${HOME}/work/pruth-chameleon-jupyter\n",
    "\n",
    "\n",
    "#Set the working directory\n",
    "export WORKING_DIR=${HOME}/work/CICI-SAFE/Chameleon-Jupyter-Tridentcom\n",
    "\n",
    "export UNIVERSAL_INFO_FILE=${WORKING_DIR}/universal_info\n",
    "echo \"\" > $UNIVERSAL_INFO_FILE\n",
    "echo OS_REGION_NAME $OS_REGION_NAME >> $UNIVERSAL_INFO_FILE\n",
    "echo OS_PROJECT_NAME $OS_PROJECT_NAME >> $UNIVERSAL_INFO_FILE\n",
    "\n",
    "\n"
   ]
  },
  {
   "cell_type": "markdown",
   "metadata": {},
   "source": [
    "#### Create Lease (if necessary)"
   ]
  },
  {
   "cell_type": "code",
   "execution_count": 2,
   "metadata": {},
   "outputs": [
    {
     "name": "stdout",
     "output_type": "stream",
     "text": [
      "Creating Lease pruth-cici-universal-lease2\n",
      "Matches: ('min=4,max=6', 'resource_properties', '[\"=\", \"$node_type\", \"compute_haswell\"]')\n",
      "Matches: ('min=4', 'max', '6')\n",
      "Matches: (None, 'min', '4')\n",
      "Created a new lease:\n",
      "+--------------+----------------------------------------------------------------------------+\n",
      "| Field        | Value                                                                      |\n",
      "+--------------+----------------------------------------------------------------------------+\n",
      "| created_at   | 2019-04-23 13:26:24                                                        |\n",
      "| degraded     | False                                                                      |\n",
      "| end_date     | 2019-04-24T13:26:00.000000                                                 |\n",
      "| events       | {                                                                          |\n",
      "|              |     \"status\": \"UNDONE\",                                                    |\n",
      "|              |     \"lease_id\": \"480a3fde-d50b-40d8-b48b-781729342b20\",                    |\n",
      "|              |     \"event_type\": \"start_lease\",                                           |\n",
      "|              |     \"created_at\": \"2019-04-23 13:26:31\",                                   |\n",
      "|              |     \"updated_at\": null,                                                    |\n",
      "|              |     \"time\": \"2019-04-23T13:28:00.000000\",                                  |\n",
      "|              |     \"id\": \"4394541e-0e4c-4fab-91e1-2efb43c82914\"                           |\n",
      "|              | }                                                                          |\n",
      "|              | {                                                                          |\n",
      "|              |     \"status\": \"UNDONE\",                                                    |\n",
      "|              |     \"lease_id\": \"480a3fde-d50b-40d8-b48b-781729342b20\",                    |\n",
      "|              |     \"event_type\": \"end_lease\",                                             |\n",
      "|              |     \"created_at\": \"2019-04-23 13:26:31\",                                   |\n",
      "|              |     \"updated_at\": null,                                                    |\n",
      "|              |     \"time\": \"2019-04-24T13:26:00.000000\",                                  |\n",
      "|              |     \"id\": \"a9a0468b-64e4-47f1-bd26-ae297a8f6391\"                           |\n",
      "|              | }                                                                          |\n",
      "|              | {                                                                          |\n",
      "|              |     \"status\": \"UNDONE\",                                                    |\n",
      "|              |     \"lease_id\": \"480a3fde-d50b-40d8-b48b-781729342b20\",                    |\n",
      "|              |     \"event_type\": \"before_end_lease\",                                      |\n",
      "|              |     \"created_at\": \"2019-04-23 13:26:31\",                                   |\n",
      "|              |     \"updated_at\": null,                                                    |\n",
      "|              |     \"time\": \"2019-04-23T13:28:00.000000\",                                  |\n",
      "|              |     \"id\": \"b0aaf534-088c-4be8-aaca-83e81aeb81d0\"                           |\n",
      "|              | }                                                                          |\n",
      "| id           | 480a3fde-d50b-40d8-b48b-781729342b20                                       |\n",
      "| name         | pruth-cici-universal-lease2                                                |\n",
      "| project_id   | d9faac3973a847f1b718fa765fe312e2                                           |\n",
      "| reservations | {                                                                          |\n",
      "|              |     \"status\": \"pending\",                                                   |\n",
      "|              |     \"before_end\": \"default\",                                               |\n",
      "|              |     \"lease_id\": \"480a3fde-d50b-40d8-b48b-781729342b20\",                    |\n",
      "|              |     \"resource_id\": \"735270f1-86b8-4e62-af1f-21e94f3a5917\",                 |\n",
      "|              |     \"max\": 6,                                                              |\n",
      "|              |     \"created_at\": \"2019-04-23 13:26:24\",                                   |\n",
      "|              |     \"min\": 4,                                                              |\n",
      "|              |     \"updated_at\": \"2019-04-23 13:26:31\",                                   |\n",
      "|              |     \"missing_resources\": false,                                            |\n",
      "|              |     \"hypervisor_properties\": \"\",                                           |\n",
      "|              |     \"on_start\": \"default\",                                                 |\n",
      "|              |     \"resource_properties\": \"[\\\"=\\\", \\\"$node_type\\\", \\\"compute_haswell\\\"]\", |\n",
      "|              |     \"id\": \"6f73c9e3-fbdf-4019-b426-6e54b99366cc\",                          |\n",
      "|              |     \"resource_type\": \"physical:host\",                                      |\n",
      "|              |     \"resources_changed\": false                                             |\n",
      "|              | }                                                                          |\n",
      "| start_date   | 2019-04-23T13:28:00.000000                                                 |\n",
      "| status       | PENDING                                                                    |\n",
      "| trust_id     | d01df8d2f31343db81d9fa24684e41ac                                           |\n",
      "| updated_at   | 2019-04-23 13:26:31                                                        |\n",
      "| user_id      | f3a422ce5a4442e3a7a247ddfd98bfc3                                           |\n",
      "+--------------+----------------------------------------------------------------------------+\n"
     ]
    }
   ],
   "source": [
    "# --start-date \"2019-02-10 17:50\" \\\n",
    "# --end-date \"2019-02-11 12:00\" \\\n",
    "START_DATE=`date -d \"+2 min\" +'%F %H:%M'`\n",
    "END_DATE=`date -d \"+1 day\" +'%F %H:%M'`\n",
    "LEASE_NAME=${USERNAME}\"-cici-universal-lease2\"\n",
    "echo LEASE_NAME $LEASE_NAME >> $UNIVERSAL_INFO_FILE\n",
    "\n",
    "NODE_MIN=4\n",
    "NODE_MAX=6\n",
    "\n",
    "NODE_TYPE='compute_haswell'\n",
    "#NODE_TYPE='compute_skylake'\n",
    "\n",
    "echo Creating Lease ${LEASE_NAME}\n",
    "blazar lease-create \\\n",
    "   --physical-reservation min=${NODE_MIN},max=${NODE_MAX},resource_properties='[\"=\", \"$node_type\", \"'${NODE_TYPE}'\"]' \\\n",
    "   --start-date \"${START_DATE}\" \\\n",
    "   --end-date \"${END_DATE}\" \\\n",
    "   ${LEASE_NAME}\n",
    "   "
   ]
  },
  {
   "cell_type": "code",
   "execution_count": 3,
   "metadata": {},
   "outputs": [
    {
     "name": "stdout",
     "output_type": "stream",
     "text": [
      "RESERVATION_ID 480a3fde-d50b-40d8-b48b-781729342b20\n",
      "RESERVATION_RESOURCE_ID 6f73c9e3-fbdf-4019-b426-6e54b99366cc\n",
      "Reservation is PENDING. retrying in 10 seconds.\n",
      "Reservation is PENDING. retrying in 10 seconds.\n",
      "Reservation is PENDING. retrying in 10 seconds.\n",
      "Reservation is PENDING. retrying in 10 seconds.\n",
      "Reservation is PENDING. retrying in 10 seconds.\n",
      "Reservation is PENDING. retrying in 10 seconds.\n",
      "Reservation is PENDING. retrying in 10 seconds.\n",
      "Reservation is PENDING. retrying in 10 seconds.\n",
      "Reservation is STARTING. retrying in 10 seconds.\n",
      "RESERVATION_STATUS ACTIVE\n",
      "\n",
      "OS_REGION_NAME CHI@UC\n",
      "OS_PROJECT_NAME CH-816532\n",
      "LEASE_NAME pruth-cici-universal-lease2\n",
      "RESERVATION_RESOURCE_ID 6f73c9e3-fbdf-4019-b426-6e54b99366cc\n"
     ]
    }
   ],
   "source": [
    "RESERVATION_ID=`blazar lease-show --format value -c id ${LEASE_NAME}`\n",
    "echo RESERVATION_ID $RESERVATION_ID\n",
    "\n",
    "RESERVATION_RESOURCE_ID=`blazar lease-show --format value -c reservations ${RESERVATION_ID} | grep \\\"id\\\" | cut -d \"\\\"\" -f 4`\n",
    "echo RESERVATION_RESOURCE_ID $RESERVATION_RESOURCE_ID\n",
    "\n",
    "while [[ true ]]\n",
    "do \n",
    "\tRESERVATION_STATUS=`blazar lease-show --format value -c status ${RESERVATION_ID}`\n",
    "    \n",
    "    if [[ \"${RESERVATION_STATUS}\" == \"ACTIVE\" ]]; then break; fi\n",
    "    \n",
    "    echo Reservation is ${RESERVATION_STATUS}. retrying in 10 seconds.\n",
    "    sleep 10\n",
    "done\n",
    "\n",
    "echo RESERVATION_STATUS ${RESERVATION_STATUS}\n",
    "\n",
    "echo RESERVATION_RESOURCE_ID $RESERVATION_RESOURCE_ID >> $UNIVERSAL_INFO_FILE\n",
    "\n",
    "cat $UNIVERSAL_INFO_FILE\n"
   ]
  },
  {
   "cell_type": "markdown",
   "metadata": {},
   "source": [
    "#### Clean Up"
   ]
  },
  {
   "cell_type": "code",
   "execution_count": null,
   "metadata": {},
   "outputs": [],
   "source": [
    "LEASE_NAME=`cat $UNIVERSAL_INFO_FILE | grep LEASE_NAME | cut -d \" \" -f 2`\n",
    "blazar lease-delete $LEASE_NAME\n",
    "\n",
    "cat $UNIVERSAL_INFO_FILE\n",
    "mv $UNIVERSAL_INFO_FILE ${UNIVERSAL_INFO_FILE}.old"
   ]
  },
  {
   "cell_type": "code",
   "execution_count": null,
   "metadata": {},
   "outputs": [],
   "source": []
  }
 ],
 "metadata": {
  "kernelspec": {
   "display_name": "Bash",
   "language": "bash",
   "name": "bash"
  },
  "language_info": {
   "codemirror_mode": "shell",
   "file_extension": ".sh",
   "mimetype": "text/x-sh",
   "name": "bash"
  }
 },
 "nbformat": 4,
 "nbformat_minor": 2
}
