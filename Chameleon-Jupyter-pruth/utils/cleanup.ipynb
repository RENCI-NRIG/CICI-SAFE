{
 "cells": [
  {
   "cell_type": "code",
   "execution_count": null,
   "metadata": {},
   "outputs": [],
   "source": [
    "# Set up user's project (user's can be multiple ones, so there is no default currently)\n",
    "export OS_PROJECT_NAME='CH-816532'\n",
    "\n",
    "# Set region (again, no default currently)\n",
    "export OS_REGION_NAME='CHI@TACC'\n",
    "\n",
    "export WORKING_DIR=${HOME}/work/CICI-SAFE/Chameleon-Jupyter-Tridentcom\n",
    "export UNIVERSAL_INFO_FILE=${WORKING_DIR}/universal_info\n",
    "export RIAK_INFO_FILE=${WORKING_DIR}/riak_info"
   ]
  },
  {
   "cell_type": "code",
   "execution_count": null,
   "metadata": {},
   "outputs": [],
   "source": [
    "# Set up user's project (user's can be multiple ones, so there is no default currently)\n",
    "export OS_PROJECT_NAME='CH-816532'\n",
    "\n",
    "# Set region (again, no default currently)\n",
    "export OS_REGION_NAME='CHI@TACC'\n",
    "\n",
    "export WORKING_DIR=${HOME}/work/CICI-SAFE/Chameleon-Jupyter-Tridentcom\n",
    "export INFO_FILE=${WORKING_DIR}/riak_info\n",
    "\n",
    "\n",
    "NODE_NAME=`cat $INFO_FILE | grep RIAK_NODE_NAME | cut -d \" \" -f 2`\n",
    "openstack server delete --wait -y $NODE_NAME\n",
    "\n",
    "PUBLIC_IP=`cat $AUTH_INFO_FILE | grep RIAK_PUBLIC_IP | cut -d \" \" -f 2`\n",
    "openstack server delete floating ip \"$RIAK_PUBLIC_IP\"\n",
    "\n",
    "openstack floating ip create public --format value -c floating_ip_address\n",
    "\n",
    "\n",
    "cat $RIAK_INFO_FILE\n",
    "mv $RIAK_INFO_FILE ${RIAK_INFO_FILE}.old"
   ]
  },
  {
   "cell_type": "code",
   "execution_count": null,
   "metadata": {},
   "outputs": [],
   "source": [
    "# Set up user's project (user's can be multiple ones, so there is no default currently)\n",
    "export OS_PROJECT_NAME='CH-816532'\n",
    "\n",
    "# Set region (again, no default currently)\n",
    "export OS_REGION_NAME='CHI@TACC'\n",
    "\n",
    "export WORKING_DIR=${HOME}/work/CICI-SAFE/Chameleon-Jupyter-Tridentcom\n",
    "export INFO_FILE=${WORKING_DIR}/authority_info\n",
    "\n",
    "NODE_NAME=`cat $AUTH_INFO_FILE | grep AUTH_NODE_NAME | cut -d \" \" -f 2`\n",
    "openstack server delete --wait -y $NODE_NAME\n",
    "\n",
    "PUBLIC_IP=`cat $AUTH_INFO_FILE | grep AUTH_PUBLIC_IP | cut -d \" \" -f 2`\n",
    "openstack server delete floating ip \"$RIAK_PUBLIC_IP\"\n",
    "\n",
    "cat $AUTH_INFO_FILE\n",
    "mv $AUTH_INFO_FILE ${AUTH_INFO_FILE}.old"
   ]
  },
  {
   "cell_type": "code",
   "execution_count": null,
   "metadata": {},
   "outputs": [],
   "source": [
    "# Set up user's project (user's can be multiple ones, so there is no default currently)\n",
    "export OS_PROJECT_NAME='CH-816532'\n",
    "\n",
    "# Set region (again, no default currently)\n",
    "export OS_REGION_NAME='CHI@TACC'\n",
    "\n",
    "export WORKING_DIR=${HOME}/work/CICI-SAFE/Chameleon-Jupyter-Tridentcom\n",
    "export SDX_INFO_FILE=${WORKING_DIR}/sdx_info\n",
    "\n",
    "SDX_STACK_NAME=`cat $SDX_INFO_FILE | grep SDX_STACK_NAME | cut -d \" \" -f 2`\n",
    "openstack stack delete --wait -y $SDX_STACK_NAME\n",
    "\n",
    "LEASE_NAME=`cat $SDX_INFO_FILE | grep LEASE_NAME | cut -d \" \" -f 2`\n",
    "blazar lease-delete $LEASE_NAME\n",
    "\n",
    "cat $SDX_INFO_FILE\n",
    "mv $SDX_INFO_FILE ${SDX_INFO_FILE}.old"
   ]
  },
  {
   "cell_type": "code",
   "execution_count": null,
   "metadata": {},
   "outputs": [],
   "source": [
    "# Set up user's project (user's can be multiple ones, so there is no default currently)\n",
    "export OS_PROJECT_NAME='CH-816532'\n",
    "\n",
    "# Set region (again, no default currently)\n",
    "export OS_REGION_NAME='CHI@TACC'\n",
    "\n",
    "export WORKING_DIR=${HOME}/work/CICI-SAFE/Chameleon-Jupyter-Tridentcom\n",
    "export CLIENT_INFO_FILE=${WORKING_DIR}/client1_info\n",
    "\n",
    "CLIENT_STACK_NAME=`cat $CLIENT_INFO_FILE | grep CLIENT_STACK_NAME | cut -d \" \" -f 2`\n",
    "openstack stack delete --wait -y $CLIENT_STACK_NAME\n",
    "\n",
    "LEASE_NAME=`cat $CLIENT_INFO_FILE | grep LEASE_NAME | cut -d \" \" -f 2`\n",
    "blazar lease-delete $LEASE_NAME\n",
    "\n",
    "cat $CLIENT_INFO_FILE\n",
    "mv $CLIENT_INFO_FILE ${CLIENT_INFO_FILE}.old"
   ]
  },
  {
   "cell_type": "code",
   "execution_count": null,
   "metadata": {},
   "outputs": [],
   "source": []
  }
 ],
 "metadata": {
  "kernelspec": {
   "display_name": "Bash",
   "language": "bash",
   "name": "bash"
  },
  "language_info": {
   "codemirror_mode": "shell",
   "file_extension": ".sh",
   "mimetype": "text/x-sh",
   "name": "bash"
  }
 },
 "nbformat": 4,
 "nbformat_minor": 2
}
