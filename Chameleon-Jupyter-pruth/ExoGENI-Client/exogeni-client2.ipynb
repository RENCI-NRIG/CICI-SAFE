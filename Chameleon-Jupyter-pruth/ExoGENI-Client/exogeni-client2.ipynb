{
 "cells": [
  {
   "cell_type": "markdown",
   "metadata": {},
   "source": [
    "# Run the CICI SAFE Client\n",
    "\n",
    "#### Configure the Envrionment"
   ]
  },
  {
   "cell_type": "code",
   "execution_count": null,
   "metadata": {},
   "outputs": [],
   "source": [
    "# Set up user's project (user's can be multiple ones, so there is no default currently)\n",
    "export OS_PROJECT_NAME='CH-816532'\n",
    "\n",
    "# Set region (again, no default currently)\n",
    "export OS_REGION_NAME='CHI@TACC'\n",
    "\n",
    "# Set chameleon keypair name and path to the private ssh key\n",
    "export SSH_KEY_NAME=${USERNAME}-jupyter\n",
    "export SSH_PRIVATE_KEY=${HOME}/work/pruth-chameleon-jupyter\n",
    "\n",
    "\n",
    "# Set the reservations to use.  \n",
    "# CONTROLLER_RESERVATION_ID can be for any type of node\n",
    "#export CLIENT_RESERVATION_ID='8882c0ea-e92a-404e-8637-73b4c38f4101'\n",
    "\n",
    "export CLIENT_NAME=client2\n",
    "\n",
    "#Set the working directory\n",
    "export WORKING_DIR=${HOME}/work/CICI-SAFE/Chameleon-Jupyter-Tridentcom\n",
    "export UNIVERSAL_INFO_FILE=${WORKING_DIR}/universal_info\n",
    "export CLIENT_INFO_FILE=${WORKING_DIR}/${CLIENT_NAME}_info\n",
    "echo \"\" > $CLIENT_INFO_FILE\n",
    "\n",
    "#Set GENI CERT file\n",
    "export GENI_CERT=${HOME}/work/geni-pruth.pem\n",
    "\n",
    "\n",
    "\n",
    "export CLIENT_NETWORK='sharednet1'\n",
    "export CLIENT_NODE_NAME=${USERNAME}-${CLIENT_NAME}\n",
    "export CLIENT_STACK_NAME=${USERNAME}-${CLIENT_NAME}\n",
    "\n",
    "echo CLIENT_NODE_NAME $CLIENT_NODE_NAME >> $CLIENT_INFO_FILE\n",
    "echo CLIENT_STACK_NAME $CLIENT_STACK_NAME >> $CLIENT_INFO_FILE\n",
    "\n",
    "#SDX Info\n",
    "export SDX_INFO_FILE=${WORKING_DIR}/sdx_info\n",
    "SDX_PUBLIC_IP=`cat $SDX_INFO_FILE | grep SDX_PUBLIC_IP | cut -d \" \" -f 2`\n",
    "echo SDX_PUBLIC_IP: $SDX_PUBLIC_IP\n",
    "\n",
    "#RIAK Info\n",
    "export RIAK_INFO_FILE=${WORKING_DIR}/riak_info\n",
    "RIAK_PUBLIC_IP=`cat $RIAK_INFO_FILE | grep RIAK_PUBLIC_IP | cut -d \" \" -f 2`\n",
    "echo RIAK_PUBLIC_IP: $RIAK_PUBLIC_IP\n",
    "\n"
   ]
  },
  {
   "cell_type": "markdown",
   "metadata": {},
   "source": [
    "#### Create Lease (if necessary)"
   ]
  },
  {
   "cell_type": "code",
   "execution_count": null,
   "metadata": {},
   "outputs": [],
   "source": [
    "#Check of universal reservation\n",
    "if [ -f \"${UNIVERSAL_INFO_FILE}\" ]; then\n",
    "   LEASE_NAME=`cat $UNIVERSAL_INFO_FILE | grep LEASE_NAME | cut -d \" \" -f 2`\n",
    "   echo $LEASE_NAME\n",
    "   echo LEASE_NAME $LEASE_NAME >> $RIAK_INFO_FILE\n",
    "fi\n",
    "\n",
    "if  [ -z $LEASE_NAME ]; then\n",
    "  \n",
    "    echo No universal reservation. Creating new reservation\n",
    "\n",
    "# --start-date \"2019-02-10 17:50\" \\\n",
    "# --end-date \"2019-02-11 12:00\" \\\n",
    "START_DATE=`date -d \"+2 min\" +'%F %H:%M'`\n",
    "END_DATE=`date -d \"+1 day\" +'%F %H:%M'`\n",
    "LEASE_NAME=${USERNAME}\"-${CLIENT_NAME}-lease\"\n",
    "echo LEASE_NAME $LEASE_NAME >> $CLIENT_INFO_FILE\n",
    "\n",
    "NODE_MIN=1\n",
    "NODE_MAX=1\n",
    "\n",
    "NODE_TYPE='compute_haswell'\n",
    "#NODE_TYPE='compute_skylake'\n",
    "\n",
    "echo Creating Lease ${LEASE_NAME}\n",
    "blazar lease-create \\\n",
    "   --physical-reservation min=${NODE_MIN},max=${NODE_MAX},resource_properties='[\"=\", \"$node_type\", \"'${NODE_TYPE}'\"]' \\\n",
    "   --start-date \"${START_DATE}\" \\\n",
    "   --end-date \"${END_DATE}\" \\\n",
    "   ${LEASE_NAME}\n",
    "\n",
    "fi\n",
    "\n",
    "echo LEASE_NAME: $LEASE_NAME\n",
    "cat  $CLIENT_INFO_FILE"
   ]
  },
  {
   "cell_type": "code",
   "execution_count": null,
   "metadata": {},
   "outputs": [],
   "source": [
    "RESERVATION_ID=`blazar lease-show --format value -c id ${LEASE_NAME}`\n",
    "echo RESERVATION_ID $RESERVATION_ID\n",
    "\n",
    "RESERVATION_RESOURCE_ID=`blazar lease-show --format value -c reservations ${RESERVATION_ID} | grep \\\"id\\\" | cut -d \"\\\"\" -f 4`\n",
    "echo RESERVATION_RESOURCE_ID $RESERVATION_RESOURCE_ID\n",
    "\n",
    "#blazar lease-show ${RESERVATION_ID}\n",
    "\n",
    "#Poll for node to be ready for ssh\n",
    "while [[ true ]]\n",
    "do \n",
    "\tRESERVATION_STATUS=`blazar lease-show --format value -c status ${RESERVATION_ID}`\n",
    "    \n",
    "    if [[ \"${RESERVATION_STATUS}\" == \"ACTIVE\" ]]; then break; fi\n",
    "    \n",
    "    echo Reservation is ${RESERVATION_STATUS}. retrying in 5 seconds.\n",
    "    sleep 5\n",
    "done\n",
    "\n",
    "echo RESERVATION_STATUS ${RESERVATION_STATUS}\n",
    "\n",
    "echo RESERVATION_RESOURCE_ID $RESERVATION_RESOURCE_ID >> $CLIENT_INFO_FILE\n",
    "\n",
    "cat $CLIENT_INFO_FILE\n"
   ]
  },
  {
   "cell_type": "markdown",
   "metadata": {},
   "source": [
    "#### Start ExoGENI Client"
   ]
  },
  {
   "cell_type": "code",
   "execution_count": null,
   "metadata": {},
   "outputs": [],
   "source": [
    "RESERVATION_RESOURCE_ID=`cat $CLIENT_INFO_FILE | grep RESERVATION_RESOURCE_ID | cut -d \" \" -f 2`\n",
    "\n",
    "CLIENT_NETWORK='sharednet1'\n",
    "CLIENT_NODE_NAME=`cat $CLIENT_INFO_FILE | grep CLIENT_NODE_NAME | cut -d \" \" -f 2`\n",
    "CLIENT_STACK_NAME=`cat $CLIENT_INFO_FILE | grep CLIENT_STACK_NAME | cut -d \" \" -f 2`\n",
    "GIT_BRANCH='tridentcom'\n",
    "SLICE_NAME=${USERNAME}-${CLIENT_NAME}\n",
    "IP_PREFIX='192.168.42.1/24'\n",
    "CLIENT_SITE='UFL'\n",
    "SAFE_KEYPAIR='${USERNAME}'\n",
    "\n",
    "echo Creating SDX client. This will take several minutes!\n",
    "openstack stack create  --max-width 80 \\\n",
    "        --template ${WORKING_DIR}/ExoGENI-Client/client.yaml \\\n",
    "        --parameter \"key_name=${SSH_KEY_NAME}\" \\\n",
    "        --parameter \"reservation_id=${RESERVATION_RESOURCE_ID}\" \\\n",
    "        --parameter \"network_name=${CLIENT_NETWORK}\" \\\n",
    "        --parameter \"client_name=${CLIENT_NODE_NAME}\" \\\n",
    "        --parameter \"github_branch=${GIT_BRANCH}\" \\\n",
    "        --parameter \"riak_ip=${RIAK_PUBLIC_IP}\" \\\n",
    "        --parameter \"slice_name=${SLICE_NAME}\"\\\n",
    "        --parameter \"ip_prefix=${IP_PREFIX}\"\\\n",
    "        --parameter \"client_site=${CLIENT_SITE}\"\\\n",
    "        --parameter \"safe_keypair=${SAFE_KEYPAIR}\"\\\n",
    "        --parameter \"sdx_server=${SDX_PUBLIC_IP}:8888\"\\\n",
    "        --wait \\\n",
    "        ${CLIENT_STACK_NAME}"
   ]
  },
  {
   "cell_type": "code",
   "execution_count": null,
   "metadata": {},
   "outputs": [],
   "source": [
    "echo SDX client creation complete! \n",
    "#echo ${CLIENT_NODE_NAME} status `openstack server show  --format value -c status ${CLIENT_NODE_NAME}`\n",
    "\n",
    "CLIENT_PUBLIC_IP=`openstack server show  --format value -c addresses ${CLIENT_NODE_NAME} | cut -d \" \" -f 2`\n",
    "echo The client public IP is $CLIENT_PUBLIC_IP\n",
    "echo CLIENT_PUBLIC_IP $CLIENT_PUBLIC_IP >> $CLIENT_INFO_FILE\n",
    "\n",
    "#Poll for node to be ready for ssh\n",
    "while [[ true ]]\n",
    "do \n",
    "\tssh -q -i ${SSH_PRIVATE_KEY} \\\n",
    "    -o UserKnownHostsFile=/dev/null \\\n",
    "    -o StrictHostKeyChecking=no \\\n",
    "    cc@${CLIENT_PUBLIC_IP} \\\n",
    "    exit\n",
    "    \n",
    "    if [[ \"$?\" == \"0\" ]]; then break; fi\n",
    "    \n",
    "    echo Node not ready for ssh. retrying in 5 seconds.\n",
    "    sleep 5\n",
    "done\n",
    "\n",
    "echo SDX node ready for ssh"
   ]
  },
  {
   "cell_type": "code",
   "execution_count": null,
   "metadata": {},
   "outputs": [],
   "source": [
    "CLIENT_PUBLIC_IP=`cat $CLIENT_INFO_FILE | grep CLIENT_PUBLIC_IP | cut -d \" \" -f 2`\n",
    "\n",
    "#Copy GENI pem file to node\n",
    "REMOTE_GENI_CERT=/home/cc/geni.pem\n",
    "\n",
    "echo Copying GENI cert to cc@$CLIENT_PUBLIC_IP:~/geni.pem\n",
    "scp -q -i ${SSH_PRIVATE_KEY} \\\n",
    "    -o UserKnownHostsFile=/dev/null \\\n",
    "    -o StrictHostKeyChecking=no \\\n",
    "    ${GENI_CERT} \\\n",
    "    cc@${CLIENT_PUBLIC_IP}:${REMOTE_GENI_CERT}\n",
    "echo Done"
   ]
  },
  {
   "cell_type": "code",
   "execution_count": null,
   "metadata": {},
   "outputs": [],
   "source": [
    "CLIENT_PUBLIC_IP=`cat $CLIENT_INFO_FILE | grep CLIENT_PUBLIC_IP | cut -d \" \" -f 2`\n",
    "\n",
    "while [[ true ]]\n",
    "do\n",
    "\tssh -q -i ${SSH_PRIVATE_KEY} \\\n",
    "    -o UserKnownHostsFile=/dev/null \\\n",
    "    -o StrictHostKeyChecking=no \\\n",
    "    cc@${CLIENT_PUBLIC_IP} \\\n",
    "    sudo tail /home/cc/boot.log | grep 'Boot Script Done!'\n",
    "    \n",
    "    if [[ \"$?\" == \"0\" ]]; then break; fi\n",
    "    \n",
    "    echo 'Not Done, Retrying in 30 sec'\n",
    "    sleep 30\n",
    "done\n",
    "\n",
    "echo Client Boot Script Done!"
   ]
  },
  {
   "cell_type": "markdown",
   "metadata": {},
   "source": [
    "#### Create SAFE keypair (STEP 1)"
   ]
  },
  {
   "cell_type": "code",
   "execution_count": null,
   "metadata": {},
   "outputs": [],
   "source": [
    "SAFE_KEYPAIR=$CLIENT_NAME\n",
    "\n",
    "ssh -i ${SSH_PRIVATE_KEY} \\\n",
    "    -o UserKnownHostsFile=/dev/null \\\n",
    "    -o StrictHostKeyChecking=no \\\n",
    "    cc@${CLIENT_PUBLIC_IP} \\\n",
    "    'sudo docker exec -itd safe /bin/bash /root/safe_keygen.sh '${SAFE_KEYPAIR}' /root/safe/safe-server/src/main/resources/prdnsmall'\n",
    "\n",
    "res=$(curl http://${CLIENT_PUBLIC_IP}:7777/whoami \\\n",
    "     -H \"Cntent-Type:application/json\" \\\n",
    "     -d '{\"principal\":\"'${SAFE_KEYPAIR}'\",\"methodParams\":[]}'\n",
    "     )\n",
    "     \n",
    "principalId=$(echo $res | cut -d\"'\" -f 2)\n",
    "\n",
    "echo principalId for ${SAFE_KEYPAIR} is $principalId\n"
   ]
  },
  {
   "cell_type": "markdown",
   "metadata": {},
   "source": [
    "#### (STEP 2) -- Then goto \"autority.ipynb\""
   ]
  },
  {
   "cell_type": "code",
   "execution_count": null,
   "metadata": {},
   "outputs": [],
   "source": [
    "REMOTE_WORKING_DIR=/home/cc\n",
    "REMOTE_BIN_DIR=${REMOTE_WORKING_DIR}/CICI-SAFE/SDX-Simple/SAFE_SDX/target/appassembler/bin\n",
    "# init safe sets for the new keypair, post policies\n",
    "echo ${principalId}\n",
    "echo ${CLINET_PUBLIC_IP}\n",
    "ssh -i ${SSH_PRIVATE_KEY} \\\n",
    "    -o UserKnownHostsFile=/dev/null \\\n",
    "    -o StrictHostKeyChecking=no \\\n",
    "    cc@${CLIENT_PUBLIC_IP} \\\n",
    "    \"sudo ${REMOTE_BIN_DIR}/AuthorityMock init ${principalId} tag0 ${CLIENT_PUBLIC_IP}\""
   ]
  },
  {
   "cell_type": "markdown",
   "metadata": {},
   "source": [
    "#### Use AuorityMock to make Delegations\n",
    "##### Copy and paste those delegation tokens and add those tokens to safesets of the new keypair\n",
    "\n",
    "#### (STEP 4)"
   ]
  },
  {
   "cell_type": "code",
   "execution_count": null,
   "metadata": {},
   "outputs": [],
   "source": [
    "# Copy and pase each line from the output of authority to P\n",
    "PARAMS='passDelegation X5NOWz1Ul_ZnisOhkRoyNWH0syvNVGVU9i-NOKky5Y4= User'\n",
    "ssh -i ${SSH_PRIVATE_KEY} \\\n",
    "    -o UserKnownHostsFile=/dev/null \\\n",
    "    -o StrictHostKeyChecking=no \\\n",
    "    cc@${CLIENT_PUBLIC_IP} \\\n",
    "    \"sudo ${REMOTE_BIN_DIR}/AuthorityMock update ${principalId} ${PARAMS} ${CLIENT_PUBLIC_IP}\""
   ]
  },
  {
   "cell_type": "markdown",
   "metadata": {},
   "source": [
    "#### (STEP 5)"
   ]
  },
  {
   "cell_type": "code",
   "execution_count": null,
   "metadata": {},
   "outputs": [],
   "source": [
    "LOCAL_CLIENT_CONFIG=${WORKING_DIR}/client1.conf\n",
    "\n",
    "REMOTE_CLIENT_CONFIG=/home/cc/client1.conf\n",
    "REMOTE_WORKING_DIR=/home/cc\n",
    "REMOTE_BIN_DIR=${REMOTE_WORKING_DIR}/CICI-SAFE/SDX-Simple/SAFE_SDX/target/appassembler/bin\n",
    "\n",
    "cat << EOF > $LOCAL_CLIENT_CONFIG\n",
    "config {\n",
    "slicename=\"${SLICE_NAME}\"\n",
    "type=\"client\"\n",
    "sshkey=\"/root/.ssh/id_rsa\"\n",
    "safekey=\"${SAFE_KEYPAIR}\"\n",
    "safeserver=\"127.0.0.1\"\n",
    "safe=true\n",
    "serverinslice=false\n",
    "exogenipem=\"${REMOTE_GENI_CERT}\"\n",
    "exogenism=\"https://geni.renci.org:11443/orca/xmlrpc\"\n",
    "scriptsdir=\"${REMOTE_WORKING_DIR}/CICI-SAFE/SDX-Simple/SAFE_SDX/src/main/resources/scripts/\"\n",
    "resourcedir=\"${REMOTE_WORKING_DIR}/CICI-SAFE/SDX-Simple/SAFE_SDX/src/main/resources/\"\n",
    "ipprefix=\"${IP_PREFIX}\"\n",
    "serverurl=\"http://${SDX_PUBLIC_IP}:8888/\"\n",
    "routersite=\"${CLIENT_SITE}\"\n",
    "}\n",
    "EOF\n",
    "\n",
    "echo Copying SDX config to cc@$CLIENT_PUBLIC_IP\n",
    "scp -q -i ${SSH_PRIVATE_KEY} \\\n",
    "    -o UserKnownHostsFile=/dev/null \\\n",
    "    -o StrictHostKeyChecking=no \\\n",
    "    $LOCAL_CLIENT_CONFIG \\\n",
    "    cc@${CLIENT_PUBLIC_IP}:${REMOTE_CLIENT_CONFIG}\n",
    "echo Done"
   ]
  },
  {
   "cell_type": "code",
   "execution_count": null,
   "metadata": {},
   "outputs": [],
   "source": [
    "echo Start Client Slice\n",
    "\n",
    "echo $REMOTE_CLIENT_CONFIG\n",
    "\n",
    "ssh -i ${SSH_PRIVATE_KEY} \\\n",
    "    -o UserKnownHostsFile=/dev/null \\\n",
    "    -o StrictHostKeyChecking=no \\\n",
    "    cc@${CLIENT_PUBLIC_IP} \\\n",
    "    sudo ${REMOTE_BIN_DIR}/SafeSdxClientSliceServer -c $REMOTE_CLIENT_CONFIG\n",
    "\n",
    "echo \"Slice creation done\"\n",
    "#cd ${HOME}/work/CICI-SAFE/SDX-Simple\n",
    "#./scripts/build.sh\n",
    "#./scripts/createclientslice.sh -c $LOCAL_CLIENT_CONFIG"
   ]
  },
  {
   "cell_type": "markdown",
   "metadata": {},
   "source": [
    "#### Client 1 stitch to SDX"
   ]
  },
  {
   "cell_type": "code",
   "execution_count": null,
   "metadata": {},
   "outputs": [],
   "source": [
    "ssh -i ${SSH_PRIVATE_KEY} \\\n",
    "    -o UserKnownHostsFile=/dev/null \\\n",
    "    -o StrictHostKeyChecking=no \\\n",
    "    cc@${CLIENT_PUBLIC_IP} \\\n",
    "    \"sudo ${REMOTE_BIN_DIR}/SafeSdxExogeniClient -c ${REMOTE_CLIENT_CONFIG} -e 'stitch CNode1 192.168.10.2 192.168.10.1/24'\""
   ]
  },
  {
   "cell_type": "markdown",
   "metadata": {},
   "source": [
    "#### Client 1 advertise its IP prefix"
   ]
  },
  {
   "cell_type": "code",
   "execution_count": null,
   "metadata": {},
   "outputs": [],
   "source": [
    "ssh -i ${SSH_PRIVATE_KEY} \\\n",
    "    -o UserKnownHostsFile=/dev/null \\\n",
    "    -o StrictHostKeyChecking=no \\\n",
    "    cc@${CLIENT_PUBLIC_IP} \\\n",
    "    \"sudo ${REMOTE_BIN_DIR}/SafeSdxExogeniClient -c ${REMOTE_CLIENT_CONFIG} -e 'route 192.168.10.1/24 192.168.10.2'\"\n"
   ]
  },
  {
   "cell_type": "markdown",
   "metadata": {},
   "source": [
    "#### Connect client 1 and client 2"
   ]
  },
  {
   "cell_type": "code",
   "execution_count": null,
   "metadata": {},
   "outputs": [],
   "source": [
    "CLIENT_CMD=\"\\'link 192.168.10.1/24 192.168.20.1/24\\'\"\n",
    "\n",
    "ssh -i ${SSH_PRIVATE_KEY} \\\n",
    "    -o UserKnownHostsFile=/dev/null \\\n",
    "    -o StrictHostKeyChecking=no \\\n",
    "    cc@${CLIENT_PUBLIC_IP} \\\n",
    "    \"sudo ${REMOTE_BIN_DIR}/SafeSdxExogeniClient -c ${REMOTE_CLIENT_CONFIG} -e ${CLIENT_CMD}\""
   ]
  },
  {
   "cell_type": "markdown",
   "metadata": {},
   "source": [
    "#### Undo stitching"
   ]
  },
  {
   "cell_type": "code",
   "execution_count": null,
   "metadata": {},
   "outputs": [],
   "source": [
    "CLIENT_CMD=\"\\'unstitch CNode1\\'\"\n",
    "\n",
    "ssh -i ${SSH_PRIVATE_KEY} \\\n",
    "    -o UserKnownHostsFile=/dev/null \\\n",
    "    -o StrictHostKeyChecking=no \\\n",
    "    cc@${CLIENT_PUBLIC_IP} \\\n",
    "    \"sudo ${REMOTE_BIN_DIR}/SafeSdxExogeniClient -c ${REMOTE_CLIENT_CONFIG} -e ${CLIENT_CMD}\""
   ]
  },
  {
   "cell_type": "markdown",
   "metadata": {},
   "source": [
    "## Clean up your resources"
   ]
  },
  {
   "cell_type": "code",
   "execution_count": null,
   "metadata": {},
   "outputs": [],
   "source": [
    "CLIENT_STACK_NAME=`cat $CLIENT_INFO_FILE | grep CLIENT_STACK_NAME | cut -d \" \" -f 2`\n",
    "openstack stack delete --wait -y $CLIENT_STACK_NAME\n",
    "\n",
    "LEASE_NAME=`cat $CLIENT_INFO_FILE | grep LEASE_NAME | cut -d \" \" -f 2`\n",
    "blazar lease-delete $LEASE_NAME\n",
    "\n",
    "cat $CLIENT_INFO_FILE\n",
    "mv $CLIENT_INFO_FILE ${CLIENT_INFO_FILE}.old"
   ]
  },
  {
   "cell_type": "code",
   "execution_count": null,
   "metadata": {},
   "outputs": [],
   "source": []
  }
 ],
 "metadata": {
  "kernelspec": {
   "display_name": "Bash",
   "language": "bash",
   "name": "bash"
  },
  "language_info": {
   "codemirror_mode": "shell",
   "file_extension": ".sh",
   "mimetype": "text/x-sh",
   "name": "bash"
  }
 },
 "nbformat": 4,
 "nbformat_minor": 2
}
