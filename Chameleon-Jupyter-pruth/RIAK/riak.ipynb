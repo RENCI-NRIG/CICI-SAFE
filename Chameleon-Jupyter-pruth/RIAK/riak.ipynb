{
 "cells": [
  {
   "cell_type": "markdown",
   "metadata": {},
   "source": [
    "# Start the RIAK Server for the CICI SAFE vSDX\n",
    "\n",
    "#### Configure the Envrionment"
   ]
  },
  {
   "cell_type": "code",
   "execution_count": 1,
   "metadata": {},
   "outputs": [
    {
     "name": "stdout",
     "output_type": "stream",
     "text": [
      "OS_REGION_NAME CHI@UC\n",
      "OS_PROJECT_NAME CH-816532\n"
     ]
    }
   ],
   "source": [
    "# Set up user's project (user's can be multiple ones, so there is no default currently)\n",
    "#export OS_PROJECT_NAME='CH-816532'\n",
    "\n",
    "# Set region (again, no default currently)\n",
    "#export OS_REGION_NAME='CHI@TACC'\n",
    "#export OS_REGION_NAME='CHI@UC'\n",
    "\n",
    "# Set chameleon keypair name and path to the private ssh key\n",
    "export SSH_KEY_NAME=${USERNAME}-jupyter\n",
    "export SSH_PRIVATE_KEY=${HOME}/work/pruth-chameleon-jupyter\n",
    "\n",
    "# Set the reservations to use.  \n",
    "# CONTROLLER_RESERVATION_ID can be for any type of node\n",
    "# NODE_RESERVATION_ID must be for Skylake nodes\n",
    "#export RIAK_RESERVATION_ID='8882c0ea-e92a-404e-8637-73b4c38f4101'\n",
    "\n",
    "\n",
    "#Set the working directory\n",
    "export WORKING_DIR=${HOME}/work/CICI-SAFE/Chameleon-Jupyter-Tridentcom\n",
    "\n",
    "export UNIVERSAL_INFO_FILE=${WORKING_DIR}/universal_info\n",
    "export RIAK_INFO_FILE=${WORKING_DIR}/riak_info\n",
    "\n",
    "export OS_REGION_NAME=`cat $UNIVERSAL_INFO_FILE | grep OS_REGION_NAME | cut -d \" \" -f 2`\n",
    "export OS_PROJECT_NAME=`cat $UNIVERSAL_INFO_FILE | grep OS_PROJECT_NAME | cut -d \" \" -f 2`\n",
    "echo OS_REGION_NAME $OS_REGION_NAME\n",
    "echo OS_PROJECT_NAME $OS_PROJECT_NAME\n"
   ]
  },
  {
   "cell_type": "code",
   "execution_count": 2,
   "metadata": {},
   "outputs": [],
   "source": [
    "#Clear RIAK info\n",
    "echo \"\" > $RIAK_INFO_FILE"
   ]
  },
  {
   "cell_type": "markdown",
   "metadata": {},
   "source": [
    "#### Create Lease (if necessary)"
   ]
  },
  {
   "cell_type": "code",
   "execution_count": 3,
   "metadata": {},
   "outputs": [
    {
     "name": "stdout",
     "output_type": "stream",
     "text": [
      "pruth-cici-universal-lease2\n",
      "LEASE_NAME: pruth-cici-universal-lease2\n",
      "\n",
      "LEASE_NAME pruth-cici-universal-lease2\n"
     ]
    }
   ],
   "source": [
    "#Check of universal reservation\n",
    "if [ -f \"${UNIVERSAL_INFO_FILE}\" ]; then\n",
    "   LEASE_NAME=`cat $UNIVERSAL_INFO_FILE | grep LEASE_NAME | cut -d \" \" -f 2`\n",
    "   echo $LEASE_NAME\n",
    "   echo LEASE_NAME $LEASE_NAME >> $RIAK_INFO_FILE\n",
    "fi\n",
    "\n",
    "if  [ -z $LEASE_NAME ]; then\n",
    "  \n",
    "    echo No universal reservation. Creating new reservation\n",
    "    # --start-date \"2019-02-10 17:50\" \\\n",
    "    # --end-date \"2019-02-11 12:00\" \\\n",
    "    START_DATE=`date -d \"+2 min\" +'%F %H:%M'`\n",
    "    END_DATE=`date -d \"+1 day\" +'%F %H:%M'`\n",
    "    LEASE_NAME=${USERNAME}\"-riak-lease\"\n",
    "    echo LEASE_NAME $LEASE_NAME >> $RIAK_INFO_FILE\n",
    "\n",
    "    NODE_MIN=1\n",
    "    NODE_MAX=1\n",
    "\n",
    "    NODE_TYPE='compute_haswell'\n",
    "    #NODE_TYPE='compute_skylake'\n",
    "\n",
    "    echo Creating Lease ${LEASE_NAME}\n",
    "    blazar lease-create \\\n",
    "       --physical-reservation min=${NODE_MIN},max=${NODE_MAX},resource_properties='[\"=\", \"$node_type\", \"'${NODE_TYPE}'\"]' \\\n",
    "       --start-date \"${START_DATE}\" \\\n",
    "       --end-date \"${END_DATE}\" \\\n",
    "       ${LEASE_NAME}\n",
    "\n",
    "fi\n",
    "\n",
    "echo LEASE_NAME: $LEASE_NAME\n",
    "cat  $RIAK_INFO_FILE"
   ]
  },
  {
   "cell_type": "code",
   "execution_count": 4,
   "metadata": {},
   "outputs": [
    {
     "name": "stdout",
     "output_type": "stream",
     "text": [
      "RESERVATION_ID 480a3fde-d50b-40d8-b48b-781729342b20\n",
      "RESERVATION_RESOURCE_ID 6f73c9e3-fbdf-4019-b426-6e54b99366cc\n",
      "RESERVATION_STATUS ACTIVE\n",
      "\n",
      "LEASE_NAME pruth-cici-universal-lease2\n",
      "RESERVATION_RESOURCE_ID 6f73c9e3-fbdf-4019-b426-6e54b99366cc\n"
     ]
    }
   ],
   "source": [
    "LEASE_NAME=`cat $RIAK_INFO_FILE | grep LEASE_NAME | cut -d \" \" -f 2`\n",
    "RESERVATION_ID=`blazar lease-show --format value -c id ${LEASE_NAME}`\n",
    "echo RESERVATION_ID $RESERVATION_ID\n",
    "\n",
    "RESERVATION_RESOURCE_ID=`blazar lease-show --format value -c reservations ${RESERVATION_ID} | grep \\\"id\\\" | cut -d \"\\\"\" -f 4`\n",
    "echo RESERVATION_RESOURCE_ID $RESERVATION_RESOURCE_ID\n",
    "\n",
    "#blazar lease-show ${RESERVATION_ID}\n",
    "\n",
    "while [[ true ]]\n",
    "do \n",
    "\tRESERVATION_STATUS=`blazar lease-show --format value -c status ${RESERVATION_ID}`\n",
    "    \n",
    "    if [[ \"${RESERVATION_STATUS}\" == \"ACTIVE\" ]]; then break; fi\n",
    "    \n",
    "    echo Reservation is ${RESERVATION_STATUS}. retrying in 5 seconds.\n",
    "    sleep 5\n",
    "done\n",
    "\n",
    "echo RESERVATION_STATUS ${RESERVATION_STATUS}\n",
    "echo RESERVATION_RESOURCE_ID $RESERVATION_RESOURCE_ID >> $RIAK_INFO_FILE\n",
    "\n",
    "cat $RIAK_INFO_FILE\n",
    "#blazar lease-show ${RESERVATION_ID}"
   ]
  },
  {
   "cell_type": "markdown",
   "metadata": {},
   "source": [
    "#### Start RIAK Server"
   ]
  },
  {
   "cell_type": "code",
   "execution_count": 5,
   "metadata": {},
   "outputs": [
    {
     "name": "stdout",
     "output_type": "stream",
     "text": [
      "RESERVATION_RESOURCE_ID 6f73c9e3-fbdf-4019-b426-6e54b99366cc\n"
     ]
    }
   ],
   "source": [
    "#RESERVATION_RESOURCE_ID=`cat $RIAK_RESERVATION_FILE`\n",
    "RESERVATION_RESOURCE_ID=`cat $RIAK_INFO_FILE | grep RESERVATION_RESOURCE_ID | cut -d \" \" -f 2`\n",
    "echo  RESERVATION_RESOURCE_ID $RESERVATION_RESOURCE_ID\n",
    "\n",
    "RIAK_NETWORK='sharednet1'\n",
    "RIAK_NODE_NAME=${USERNAME}-riak\n",
    "RIAK_STACK_NAME=${USERNAME}-riak\n",
    "\n",
    "echo RIAK_NODE_NAME $RIAK_NODE_NAME >> $RIAK_INFO_FILE\n",
    "echo RIAK_STACK_NAME $RIAK_STACK_NAME >> $RIAK_INFO_FILE"
   ]
  },
  {
   "cell_type": "code",
   "execution_count": 6,
   "metadata": {},
   "outputs": [
    {
     "name": "stdout",
     "output_type": "stream",
     "text": [
      "RESERVATION_RESOURCE_ID 6f73c9e3-fbdf-4019-b426-6e54b99366cc\n",
      "Creating servers... This will take several minutes!\n",
      "\n",
      "+-------------------------------------+----------------------------------------+\n",
      "| Field                               | Value                                  |\n",
      "+-------------------------------------+----------------------------------------+\n",
      "| OS-DCF:diskConfig                   | MANUAL                                 |\n",
      "| OS-EXT-AZ:availability_zone         | nova                                   |\n",
      "| OS-EXT-SRV-ATTR:host                | admin01-ironic                         |\n",
      "| OS-EXT-SRV-ATTR:hypervisor_hostname | 60f65717-a665-4b0d-af50-1ac46e77e587   |\n",
      "| OS-EXT-SRV-ATTR:instance_name       | instance-00008368                      |\n",
      "| OS-EXT-STS:power_state              | Running                                |\n",
      "| OS-EXT-STS:task_state               | None                                   |\n",
      "| OS-EXT-STS:vm_state                 | active                                 |\n",
      "| OS-SRV-USG:launched_at              | 2019-04-23T13:45:04.000000             |\n",
      "| OS-SRV-USG:terminated_at            | None                                   |\n",
      "| accessIPv4                          |                                        |\n",
      "| accessIPv6                          |                                        |\n",
      "| addresses                           | sharednet1=10.140.81.89                |\n",
      "| adminPass                           | uqvqHGak3YN8                           |\n",
      "| config_drive                        |                                        |\n",
      "| created                             | 2019-04-23T13:29:29Z                   |\n",
      "| flavor                              | baremetal (baremetal)                  |\n",
      "| hostId                              | 9eaf1659b196f668b38d32836aa4eb951bfc7d |\n",
      "|                                     | 54a30797819146c82d                     |\n",
      "| id                                  | 94d59855-7944-42a8-a46a-ed0d2d29d165   |\n",
      "| image                               | CICI-SAFE.v1                           |\n",
      "|                                     | (805c46e0-5ab1-4d31-ad7f-a5ed6679af51) |\n",
      "| key_name                            | pruth-jupyter                          |\n",
      "| name                                | pruth-riak                             |\n",
      "| progress                            | 0                                      |\n",
      "| project_id                          | d9faac3973a847f1b718fa765fe312e2       |\n",
      "| properties                          |                                        |\n",
      "| security_groups                     | name='default'                         |\n",
      "| status                              | ACTIVE                                 |\n",
      "| updated                             | 2019-04-23T13:45:04Z                   |\n",
      "| user_id                             | f3a422ce5a4442e3a7a247ddfd98bfc3       |\n",
      "| volumes_attached                    |                                        |\n",
      "+-------------------------------------+----------------------------------------+\n",
      "Server creation complete!\n",
      "pruth-riak is ACTIVE\n"
     ]
    }
   ],
   "source": [
    "#IMAGE='CC-CentOS7'\n",
    "IMAGE='CICI-SAFE.v1'\n",
    "RESERVATION_RESOURCE_ID=`cat $RIAK_INFO_FILE | grep RESERVATION_RESOURCE_ID | cut -d \" \" -f 2`\n",
    "echo  RESERVATION_RESOURCE_ID $RESERVATION_RESOURCE_ID\n",
    "\n",
    "echo Creating servers... This will take several minutes! \n",
    "openstack server create --max-width 80 \\\n",
    "                        --flavor \"baremetal\" \\\n",
    "                        --image $IMAGE \\\n",
    "                        --key-name ${SSH_KEY_NAME} \\\n",
    "                        --hint reservation=${RESERVATION_RESOURCE_ID} \\\n",
    "                        --security-group default  \\\n",
    "                        --nic net-id=${RIAK_NETWORK} \\\n",
    "                        --wait \\\n",
    "                        ${RIAK_NODE_NAME}\n",
    "\n",
    "echo Server creation complete! \n",
    "echo ${RIAK_NODE_NAME} is `openstack server show --format value -c status ${RIAK_NODE_NAME}`\n"
   ]
  },
  {
   "cell_type": "code",
   "execution_count": 7,
   "metadata": {},
   "outputs": [
    {
     "name": "stdout",
     "output_type": "stream",
     "text": [
      "Getting status for pruth-riak\n",
      "status ACTIVE\n",
      "Status is ACTIVE\n"
     ]
    }
   ],
   "source": [
    "# Wait until server is ready before continuing\n",
    "server_status=\"\"\n",
    "while [[ $server_status != \"ACTIVE\" ]]\n",
    "do\n",
    "   sleep 5\n",
    "   echo Getting status for $RIAK_NODE_NAME\n",
    "   server_status=$(openstack server list --format value -c Status --name \"$RIAK_NODE_NAME\")\n",
    "   echo status $server_status\n",
    "done\n",
    "echo Status is $server_status"
   ]
  },
  {
   "cell_type": "code",
   "execution_count": 8,
   "metadata": {},
   "outputs": [
    {
     "name": "stdout",
     "output_type": "stream",
     "text": [
      "RIAK_PUBLIC_IP 192.5.87.143\n"
     ]
    }
   ],
   "source": [
    "# Request a public floating IP (in the 'public' network)\n",
    "RIAK_PUBLIC_IP=$(openstack floating ip create public --format value -c floating_ip_address)\n",
    "\n",
    "echo RIAK_PUBLIC_IP $RIAK_PUBLIC_IP\n",
    "\n",
    "# Assign a public floating IP to $USER-first-server\n",
    "openstack server add floating ip \"$RIAK_NODE_NAME\" \"$RIAK_PUBLIC_IP\"\n",
    "echo RIAK_PUBLIC_IP $RIAK_PUBLIC_IP >> $RIAK_INFO_FILE"
   ]
  },
  {
   "cell_type": "code",
   "execution_count": 9,
   "metadata": {},
   "outputs": [],
   "source": [
    "#echo Creating RIAK server. This will take several minutes!\n",
    "#openstack stack create  --max-width 80 \\\n",
    "#        --template riak.yaml \\\n",
    "#        --parameter \"key_name=${SSH_KEY_NAME}\" \\\n",
    "#        --parameter \"reservation_id=${RESERVATION_RESOURCE_ID}\" \\\n",
    "#        --parameter \"network_name=${RIAK_NETWORK}\" \\\n",
    "#        --parameter \"riak_node_name=${RIAK_NODE_NAME}\" \\\n",
    "#        --wait \\\n",
    "#        ${RIAK_STACK_NAME}"
   ]
  },
  {
   "cell_type": "code",
   "execution_count": 10,
   "metadata": {},
   "outputs": [],
   "source": [
    "#echo RIAK server creation complete! \n",
    "#echo ${RIAK_NODE_NAME} status `openstack server show  --format value -c status ${RIAK_NODE_NAME}`\n",
    "#\n",
    "#RIAK_PUBLIC_IP=`openstack server show  --format value -c addresses ${RIAK_NODE_NAME} | cut -d \" \" -f 2`\n",
    "#echo The RIAK se public IP is $RIAK_PUBLIC_IP\n",
    "#echo RIAK_PUBLIC_IP $RIAK_PUBLIC_IP >> $RIAK_INFO_FILE\n"
   ]
  },
  {
   "cell_type": "code",
   "execution_count": 11,
   "metadata": {},
   "outputs": [
    {
     "name": "stdout",
     "output_type": "stream",
     "text": [
      "Trying ssh to 192.5.87.143\n",
      "Node not ready for ssh. retrying in 5 seconds.\n",
      "Node not ready for ssh. retrying in 5 seconds.\n",
      "Node not ready for ssh. retrying in 5 seconds.\n",
      "Node not ready for ssh. retrying in 5 seconds.\n",
      "Node not ready for ssh. retrying in 5 seconds.\n",
      "Node not ready for ssh. retrying in 5 seconds.\n",
      "Node not ready for ssh. retrying in 5 seconds.\n",
      "Node not ready for ssh. retrying in 5 seconds.\n",
      "Node not ready for ssh. retrying in 5 seconds.\n",
      "Node not ready for ssh. retrying in 5 seconds.\n",
      "Node not ready for ssh. retrying in 5 seconds.\n",
      "RIAK node ready for ssh\n"
     ]
    }
   ],
   "source": [
    "RIAK_PUBLIC_IP=`cat $RIAK_INFO_FILE | grep RIAK_PUBLIC_IP | cut -d \" \" -f 2`\n",
    "echo Trying ssh to $RIAK_PUBLIC_IP\n",
    "#Poll for node to be ready for ssh\n",
    "while [[ true ]]\n",
    "do \n",
    "\tssh -q -i ${SSH_PRIVATE_KEY} \\\n",
    "    -o UserKnownHostsFile=/dev/null \\\n",
    "    -o StrictHostKeyChecking=no \\\n",
    "    cc@${RIAK_PUBLIC_IP} \\\n",
    "    exit\n",
    "    \n",
    "    if [[ \"$?\" == \"0\" ]]; then break; fi\n",
    "    \n",
    "    echo Node not ready for ssh. retrying in 5 seconds.\n",
    "    sleep 5\n",
    "done\n",
    "\n",
    "echo RIAK node ready for ssh"
   ]
  },
  {
   "cell_type": "code",
   "execution_count": 12,
   "metadata": {},
   "outputs": [
    {
     "name": "stdout",
     "output_type": "stream",
     "text": [
      "Copying script to cc@192.5.87.143\n",
      "Done\n",
      "Running script\n",
      "f00c183d78b65f2eaf0c72a04c3a5b1d1aef8c2f94eb842759eceaedf8e7dc0c\n",
      "Boot Script Done!\n",
      "Done\n"
     ]
    }
   ],
   "source": [
    "RIAK_PUBLIC_IP=`cat $RIAK_INFO_FILE | grep RIAK_PUBLIC_IP | cut -d \" \" -f 2`\n",
    "\n",
    "REMOTE_SCRIPT=/home/cc/script.sh\n",
    "LOCAL_SCRIPT=${WORKING_DIR}/riak_script.sh\n",
    "\n",
    "cat << EOF > $LOCAL_SCRIPT\n",
    "#!/bin/bash\n",
    "#sudo yum install -y docker vim mlocate\n",
    "sudo systemctl start docker\n",
    "\n",
    "#docker pull yaoyj11/riakimg\n",
    "sudo docker run -i -t  -d -p 2122:2122 -p 8098:8098 -p 8087:8087 -h riakserver --name riakserver yaoyj11/riakimg\n",
    "sudo docker exec -itd riakserver sudo riak start\n",
    "sudo docker exec -itd riakserver sudo riak-admin bucket-type activate  safesets\n",
    "sudo docker exec -itd riakserver sudo riak-admin bucket-type update safesets '{\"props\":{\"allow_mult\":false}}'\n",
    "echo Boot Script Done!\n",
    "\n",
    "EOF\n",
    "\n",
    "echo Copying script to cc@$RIAK_PUBLIC_IP\n",
    "scp -q -i ${SSH_PRIVATE_KEY} \\\n",
    "    -o UserKnownHostsFile=/dev/null \\\n",
    "    -o StrictHostKeyChecking=no \\\n",
    "    $LOCAL_SCRIPT \\\n",
    "    cc@${RIAK_PUBLIC_IP}:${REMOTE_SCRIPT}\n",
    "echo Done\n",
    "\n",
    "echo Running script\n",
    "ssh -q -i ${SSH_PRIVATE_KEY} \\\n",
    "    -o UserKnownHostsFile=/dev/null \\\n",
    "    -o StrictHostKeyChecking=no \\\n",
    "    cc@${RIAK_PUBLIC_IP} \"chmod +x \"$REMOTE_SCRIPT\" && \"$REMOTE_SCRIPT\n",
    "\n",
    "echo Done"
   ]
  },
  {
   "cell_type": "markdown",
   "metadata": {},
   "source": [
    "#### Clean Up RIAK"
   ]
  },
  {
   "cell_type": "code",
   "execution_count": null,
   "metadata": {},
   "outputs": [],
   "source": [
    "RIAK_STACK_NAME=`cat $RIAK_INFO_FILE | grep RIAK_STACK_NAME | cut -d \" \" -f 2`\n",
    "openstack stack delete --wait -y $RIAK_STACK_NAME\n",
    "\n",
    "LEASE_NAME=`cat $RIAK_INFO_FILE | grep LEASE_NAME | cut -d \" \" -f 2`\n",
    "blazar lease-delete $LEASE_NAME\n",
    "\n",
    "cat $RIAK_INFO_FILE\n",
    "mv $RIAK_INFO_FILE ${RIAK_INFO_FILE}.old"
   ]
  },
  {
   "cell_type": "code",
   "execution_count": null,
   "metadata": {},
   "outputs": [],
   "source": []
  }
 ],
 "metadata": {
  "kernelspec": {
   "display_name": "Bash",
   "language": "bash",
   "name": "bash"
  },
  "language_info": {
   "codemirror_mode": "shell",
   "file_extension": ".sh",
   "mimetype": "text/x-sh",
   "name": "bash"
  }
 },
 "nbformat": 4,
 "nbformat_minor": 2
}
