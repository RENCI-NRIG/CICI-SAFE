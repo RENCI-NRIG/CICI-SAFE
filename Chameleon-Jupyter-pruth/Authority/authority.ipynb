{
 "cells": [
  {
   "cell_type": "markdown",
   "metadata": {},
   "source": [
    "# Mocked Authorities\n",
    "\n",
    "#### Use SDX stack for authorities temporarily"
   ]
  },
  {
   "cell_type": "code",
   "execution_count": 1,
   "metadata": {},
   "outputs": [
    {
     "name": "stdout",
     "output_type": "stream",
     "text": [
      "RIAK_PUBLIC_IP: 192.5.87.143\n",
      "OS_REGION_NAME CHI@UC\n",
      "OS_PROJECT_NAME CH-816532\n"
     ]
    }
   ],
   "source": [
    "# Set up user's project (user's can be multiple ones, so there is no default currently)\n",
    "#export OS_PROJECT_NAME='CH-816532'\n",
    "\n",
    "# Set region (again, no default currently)\n",
    "#export OS_REGION_NAME='CHI@TACC'\n",
    "#export OS_REGION_NAME='CHI@UC'\n",
    "\n",
    "# Set chameleon keypair name and path to the private ssh key\n",
    "export SSH_KEY_NAME=${USERNAME}-jupyter\n",
    "export SSH_PRIVATE_KEY=${HOME}/work/pruth-chameleon-jupyter\n",
    "\n",
    "#Set the working directory\n",
    "export WORKING_DIR=${HOME}/work/CICI-SAFE/Chameleon-Jupyter-Tridentcom\n",
    "export AUTH_INFO_FILE=${WORKING_DIR}/authority_info\n",
    "export UNIVERSAL_INFO_FILE=${WORKING_DIR}/universal_info\n",
    "\n",
    "export AUTH_NETWORK='sharednet1'\n",
    "export AUTH_NODE_NAME=${USERNAME}-auth\n",
    "export AUTH_STACK_NAME=${USERNAME}-auth\n",
    "\n",
    "\n",
    "\n",
    "#RIAK Info\n",
    "export RIAK_INFO_FILE=${WORKING_DIR}/riak_info\n",
    "RIAK_PUBLIC_IP=`cat $RIAK_INFO_FILE | grep RIAK_PUBLIC_IP | cut -d \" \" -f 2`\n",
    "echo RIAK_PUBLIC_IP: $RIAK_PUBLIC_IP\n",
    "\n",
    "export OS_REGION_NAME=`cat $UNIVERSAL_INFO_FILE | grep OS_REGION_NAME | cut -d \" \" -f 2`\n",
    "export OS_PROJECT_NAME=`cat $UNIVERSAL_INFO_FILE | grep OS_PROJECT_NAME | cut -d \" \" -f 2`\n",
    "echo OS_REGION_NAME $OS_REGION_NAME\n",
    "echo OS_PROJECT_NAME $OS_PROJECT_NAME\n"
   ]
  },
  {
   "cell_type": "code",
   "execution_count": 2,
   "metadata": {},
   "outputs": [],
   "source": [
    "#Clear Authoriy Info\n",
    "echo \"\" > $AUTH_INFO_FILE\n",
    "echo AUTH_NODE_NAME $AUTH_NODE_NAME >> $AUTH_INFO_FILE\n",
    "echo AUTH_STACK_NAME $AUTH_STACK_NAME >> $AUTH_INFO_FILE"
   ]
  },
  {
   "cell_type": "markdown",
   "metadata": {},
   "source": [
    "#### Create Lease (if necessary)"
   ]
  },
  {
   "cell_type": "code",
   "execution_count": 3,
   "metadata": {},
   "outputs": [
    {
     "name": "stdout",
     "output_type": "stream",
     "text": [
      "pruth-cici-universal-lease2\n",
      "LEASE_NAME: pruth-cici-universal-lease2\n",
      "\n",
      "LEASE_NAME pruth-cici-universal-lease2\n",
      "RESERVATION_RESOURCE_ID 6f73c9e3-fbdf-4019-b426-6e54b99366cc\n",
      "RIAK_NODE_NAME pruth-riak\n",
      "RIAK_STACK_NAME pruth-riak\n",
      "RIAK_PUBLIC_IP 192.5.87.143\n",
      "LEASE_NAME pruth-cici-universal-lease2\n"
     ]
    }
   ],
   "source": [
    "#Check of universal reservation\n",
    "if [ -f \"${UNIVERSAL_INFO_FILE}\" ]; then\n",
    "   LEASE_NAME=`cat $UNIVERSAL_INFO_FILE | grep LEASE_NAME | cut -d \" \" -f 2`\n",
    "   echo $LEASE_NAME\n",
    "   echo LEASE_NAME $LEASE_NAME >> $RIAK_INFO_FILE\n",
    "fi\n",
    "\n",
    "if  [ -z $LEASE_NAME ]; then\n",
    "  \n",
    "    echo No universal reservation. Creating new reservation\n",
    "\n",
    "# --start-date \"2019-02-10 17:50\" \\\n",
    "# --end-date \"2019-02-11 12:00\" \\\n",
    "START_DATE=`date -d \"+2 min\" +'%F %H:%M'`\n",
    "END_DATE=`date -d \"+1 day\" +'%F %H:%M'`\n",
    "LEASE_NAME=${USERNAME}\"-auth-lease\"\n",
    "echo LEASE_NAME $LEASE_NAME >> $AUTH_INFO_FILE\n",
    "\n",
    "NODE_MIN=1\n",
    "NODE_MAX=1\n",
    "\n",
    "NODE_TYPE='compute_haswell'\n",
    "#NODE_TYPE='compute_skylake'\n",
    "\n",
    "echo Creating Lease ${LEASE_NAME}\n",
    "blazar lease-create \\\n",
    "   --physical-reservation min=${NODE_MIN},max=${NODE_MAX},resource_properties='[\"=\", \"$node_type\", \"'${NODE_TYPE}'\"]' \\\n",
    "   --start-date \"${START_DATE}\" \\\n",
    "   --end-date \"${END_DATE}\" \\\n",
    "   ${LEASE_NAME}\n",
    "\n",
    "fi\n",
    "\n",
    "echo LEASE_NAME: $LEASE_NAME\n",
    "cat  $RIAK_INFO_FILE"
   ]
  },
  {
   "cell_type": "code",
   "execution_count": 4,
   "metadata": {},
   "outputs": [
    {
     "name": "stdout",
     "output_type": "stream",
     "text": [
      "RESERVATION_ID 480a3fde-d50b-40d8-b48b-781729342b20\n",
      "RESERVATION_RESOURCE_ID 6f73c9e3-fbdf-4019-b426-6e54b99366cc\n",
      "RESERVATION_STATUS ACTIVE\n",
      "RESERVATION_STATUS ACTIVE\n",
      "\n",
      "AUTH_NODE_NAME pruth-auth\n",
      "AUTH_STACK_NAME pruth-auth\n",
      "RESERVATION_RESOURCE_ID 6f73c9e3-fbdf-4019-b426-6e54b99366cc\n"
     ]
    }
   ],
   "source": [
    "RESERVATION_ID=`blazar lease-show --format value -c id ${LEASE_NAME}`\n",
    "echo RESERVATION_ID $RESERVATION_ID\n",
    "\n",
    "RESERVATION_RESOURCE_ID=`blazar lease-show --format value -c reservations ${RESERVATION_ID} | grep \\\"id\\\" | cut -d \"\\\"\" -f 4`\n",
    "echo RESERVATION_RESOURCE_ID $RESERVATION_RESOURCE_ID\n",
    "\n",
    "#blazar lease-show ${RESERVATION_ID}\n",
    "\n",
    "#Poll for node to be ready for ssh\n",
    "while [[ true ]]\n",
    "do \n",
    "\tRESERVATION_STATUS=`blazar lease-show --format value -c status ${RESERVATION_ID}`\n",
    "    \n",
    "    if [[ \"${RESERVATION_STATUS}\" == \"ACTIVE\" ]]; then break; fi\n",
    "    \n",
    "    echo Reservation is ${RESERVATION_STATUS}. retrying in 5 seconds.\n",
    "    sleep 5\n",
    "done\n",
    "\n",
    "echo RESERVATION_STATUS ${RESERVATION_STATUS}\n",
    "\n",
    "echo RESERVATION_STATUS ${RESERVATION_STATUS}\n",
    "echo RESERVATION_RESOURCE_ID $RESERVATION_RESOURCE_ID >> $AUTH_INFO_FILE\n",
    "\n",
    "cat $AUTH_INFO_FILE\n",
    "\n"
   ]
  },
  {
   "cell_type": "markdown",
   "metadata": {},
   "source": [
    "#### Start Authority SAFE Server Stack"
   ]
  },
  {
   "cell_type": "code",
   "execution_count": 5,
   "metadata": {},
   "outputs": [
    {
     "name": "stdout",
     "output_type": "stream",
     "text": [
      "RESERVATION_RESOURCE_ID 6f73c9e3-fbdf-4019-b426-6e54b99366cc\n",
      "Creating servers... This will take several minutes!\n",
      "\n",
      "+-------------------------------------+----------------------------------------+\n",
      "| Field                               | Value                                  |\n",
      "+-------------------------------------+----------------------------------------+\n",
      "| OS-DCF:diskConfig                   | MANUAL                                 |\n",
      "| OS-EXT-AZ:availability_zone         | nova                                   |\n",
      "| OS-EXT-SRV-ATTR:host                | admin01-ironic                         |\n",
      "| OS-EXT-SRV-ATTR:hypervisor_hostname | ec7da18b-ed66-48c7-951d-d9858a786a0a   |\n",
      "| OS-EXT-SRV-ATTR:instance_name       | instance-0000836a                      |\n",
      "| OS-EXT-STS:power_state              | Running                                |\n",
      "| OS-EXT-STS:task_state               | None                                   |\n",
      "| OS-EXT-STS:vm_state                 | active                                 |\n",
      "| OS-SRV-USG:launched_at              | 2019-04-23T13:57:55.000000             |\n",
      "| OS-SRV-USG:terminated_at            | None                                   |\n",
      "| accessIPv4                          |                                        |\n",
      "| accessIPv6                          |                                        |\n",
      "| addresses                           | sharednet1=10.140.81.83                |\n",
      "| adminPass                           | nG6xUS5T5pL2                           |\n",
      "| config_drive                        |                                        |\n",
      "| created                             | 2019-04-23T13:49:23Z                   |\n",
      "| flavor                              | baremetal (baremetal)                  |\n",
      "| hostId                              | 9eaf1659b196f668b38d32836aa4eb951bfc7d |\n",
      "|                                     | 54a30797819146c82d                     |\n",
      "| id                                  | bd55350c-b411-43da-86d7-b4f42f5269af   |\n",
      "| image                               | CICI-SAFE.v1                           |\n",
      "|                                     | (805c46e0-5ab1-4d31-ad7f-a5ed6679af51) |\n",
      "| key_name                            | pruth-jupyter                          |\n",
      "| name                                | pruth-auth                             |\n",
      "| progress                            | 0                                      |\n",
      "| project_id                          | d9faac3973a847f1b718fa765fe312e2       |\n",
      "| properties                          |                                        |\n",
      "| security_groups                     | name='default'                         |\n",
      "| status                              | ACTIVE                                 |\n",
      "| updated                             | 2019-04-23T13:57:55Z                   |\n",
      "| user_id                             | f3a422ce5a4442e3a7a247ddfd98bfc3       |\n",
      "| volumes_attached                    |                                        |\n",
      "+-------------------------------------+----------------------------------------+\n",
      "Server creation complete!\n",
      "pruth-auth is ACTIVE\n"
     ]
    }
   ],
   "source": [
    "RESERVATION_RESOURCE_ID=`cat $AUTH_INFO_FILE | grep RESERVATION_RESOURCE_ID | cut -d \" \" -f 2`\n",
    "AUTH_NODE_NAME=`cat $AUTH_INFO_FILE | grep AUTH_NODE_NAME | cut -d \" \" -f 2`\n",
    "AUTH_STACK_NAME=`cat $AUTH_INFO_FILE | grep AUTH_STACK_NAME | cut -d \" \" -f 2`\n",
    "RIAK_PUBLIC_IP=`cat $RIAK_INFO_FILE | grep RIAK_PUBLIC_IP | cut -d \" \" -f 2`\n",
    "#IMAGE='CC-CentOS7'\n",
    "IMAGE='CICI-SAFE.v1'\n",
    "echo  RESERVATION_RESOURCE_ID $RESERVATION_RESOURCE_ID\n",
    "\n",
    "echo Creating servers... This will take several minutes! \n",
    "openstack server create --max-width 80 \\\n",
    "                        --flavor \"baremetal\" \\\n",
    "                        --image $IMAGE \\\n",
    "                        --key-name ${SSH_KEY_NAME} \\\n",
    "                        --hint reservation=${RESERVATION_RESOURCE_ID} \\\n",
    "                        --security-group default  \\\n",
    "                        --nic net-id=${AUTH_NETWORK} \\\n",
    "                        --wait \\\n",
    "                        ${AUTH_NODE_NAME}\n",
    "\n",
    "echo Server creation complete! \n",
    "echo ${AUTH_NODE_NAME} is `openstack server show --format value -c status ${AUTH_NODE_NAME}`\n"
   ]
  },
  {
   "cell_type": "code",
   "execution_count": 6,
   "metadata": {},
   "outputs": [
    {
     "name": "stdout",
     "output_type": "stream",
     "text": [
      "Getting status for pruth-auth\n",
      "status ACTIVE\n",
      "AUTH_PUBLIC_IP 192.5.87.89\n"
     ]
    }
   ],
   "source": [
    "# Wait until server is ready before continuing\n",
    "server_status=\"\"\n",
    "while [[ $server_status != \"ACTIVE\" ]]\n",
    "do\n",
    "   sleep 5\n",
    "   echo Getting status for $AUTH_NODE_NAME\n",
    "   server_status=$(openstack server list --format value -c Status --name \"$AUTH_NODE_NAME\")\n",
    "   echo status $server_status\n",
    "done\n",
    "\n",
    "# Request a public floating IP (in the 'public' network)\n",
    "AUTH_PUBLIC_IP=$(openstack floating ip create public --format value -c floating_ip_address)\n",
    "\n",
    "echo AUTH_PUBLIC_IP $AUTH_PUBLIC_IP\n",
    "\n",
    "# Assign a public floating IP to $USER-first-server\n",
    "openstack server add floating ip \"$AUTH_NODE_NAME\" \"$AUTH_PUBLIC_IP\"\n",
    "echo AUTH_PUBLIC_IP $AUTH_PUBLIC_IP >> $AUTH_INFO_FILE"
   ]
  },
  {
   "cell_type": "code",
   "execution_count": 7,
   "metadata": {},
   "outputs": [],
   "source": [
    "RESERVATION_RESOURCE_ID=`cat $AUTH_INFO_FILE | grep RESERVATION_RESOURCE_ID | cut -d \" \" -f 2`\n",
    "AUTH_NODE_NAME=`cat $AUTH_INFO_FILE | grep AUTH_NODE_NAME | cut -d \" \" -f 2`\n",
    "AUTH_STACK_NAME=`cat $AUTH_INFO_FILE | grep AUTH_STACK_NAME | cut -d \" \" -f 2`\n",
    "RIAK_PUBLIC_IP=`cat $RIAK_INFO_FILE | grep RIAK_PUBLIC_IP | cut -d \" \" -f 2`\n",
    "\n",
    "#echo Creating Authority SAFE server. This will take several minutes!\n",
    "#openstack stack create  --max-width 80 \\\n",
    "#        --template ${WORKING_DIR}/SDX/safe_server.yaml \\\n",
    "#        --parameter \"key_name=${SSH_KEY_NAME}\" \\\n",
    "#        --parameter \"reservation_id=${RESERVATION_RESOURCE_ID}\" \\\n",
    "#        --parameter \"network_name=${AUTH_NETWORK}\" \\\n",
    "#        --parameter \"safe_node_name=${AUTH_NODE_NAME}\" \\\n",
    "#        --parameter \"riak_ip=${RIAK_PUBLIC_IP}\" \\\n",
    "#        --wait \\\n",
    "#        ${AUTH_STACK_NAME}\n",
    "\n"
   ]
  },
  {
   "cell_type": "code",
   "execution_count": 8,
   "metadata": {},
   "outputs": [],
   "source": [
    "#echo Authority server creation complete! \n",
    "#AUTH_NODE_NAME=`cat $AUTH_INFO_FILE | grep AUTH_NODE_NAME | cut -d \" \" -f 2`\n",
    "#\n",
    "#AUTH_PUBLIC_IP=`openstack server show  --format value -c addresses ${AUTH_NODE_NAME} | cut -d \" \" -f 2`\n",
    "#echo The Authority public IP is $AUTH_PUBLIC_IP\n",
    "#echo AUTH_PUBLIC_IP $AUTH_PUBLIC_IP >> $AUTH_INFO_FILE"
   ]
  },
  {
   "cell_type": "code",
   "execution_count": 9,
   "metadata": {},
   "outputs": [
    {
     "name": "stdout",
     "output_type": "stream",
     "text": [
      "AUTH_PUBLIC_IP is 192.5.87.89\n",
      "Authority node ready for ssh\n"
     ]
    }
   ],
   "source": [
    "#AUTH_PUBLIC_IP=`openstack server show --format value -c addresses ${AUTH_NODE_NAME} | cut -d \" \" -f 2`\n",
    "AUTH_PUBLIC_IP=`cat $AUTH_INFO_FILE | grep AUTH_PUBLIC_IP | cut -d \" \" -f 2`\n",
    "echo AUTH_PUBLIC_IP is $AUTH_PUBLIC_IP\n",
    "\n",
    "#Poll for node to be ready for ssh\n",
    "while [[ true ]]\n",
    "do \n",
    "\tssh -q -i ${SSH_PRIVATE_KEY} \\\n",
    "    -o UserKnownHostsFile=/dev/null \\\n",
    "    -o StrictHostKeyChecking=no \\\n",
    "    cc@${AUTH_PUBLIC_IP} \\\n",
    "    exit\n",
    "    \n",
    "    if [[ \"$?\" == \"0\" ]]; then break; fi\n",
    "    \n",
    "    echo Node not ready for ssh. retrying in 5 seconds.\n",
    "    sleep 5\n",
    "done\n",
    "\n",
    "echo Authority node ready for ssh"
   ]
  },
  {
   "cell_type": "code",
   "execution_count": 10,
   "metadata": {},
   "outputs": [
    {
     "name": "stdout",
     "output_type": "stream",
     "text": [
      "Copying script to cc@192.5.87.89\n",
      "Done\n",
      "Running script\n",
      "Start SAFE Server in Container\n",
      "30dcec31de63f53c346af1db59217617a245639a47cc8559d4e02621525ea267\n",
      "Create ssh key\n",
      "Boot Script Done!\n",
      "Done\n"
     ]
    }
   ],
   "source": [
    "AUTH_PUBLIC_IP=`cat $AUTH_INFO_FILE | grep AUTH_PUBLIC_IP | cut -d \" \" -f 2`\n",
    "RIAK_PUBLIC_IP=`cat $RIAK_INFO_FILE | grep RIAK_PUBLIC_IP | cut -d \" \" -f 2`\n",
    "\n",
    "REMOTE_SCRIPT=/home/cc/script.sh\n",
    "LOCAL_SCRIPT=${WORKING_DIR}/riak_script.sh\n",
    "\n",
    "cat << EOF > $LOCAL_SCRIPT\n",
    "#!/bin/bash\n",
    "sudo sh -c 'echo \"PermitRootLogin yes\" >>/etc/ssh/sshd_config'\n",
    "#sudo yum install -y docker vim mlocate git maven\n",
    "sudo systemctl start docker\n",
    "\n",
    "echo Start SAFE Server in Container\n",
    "#sudo docker pull yaoyj11/safeserver-v7\n",
    "sudo docker run -i -t -d -p 7777:7777 -h safe --name safe yaoyj11/safeserver-v7\n",
    "sudo docker exec -d safe /bin/bash -c  \"cd /root/safe;sed -i 's/RIAKSERVER/$RIAK_PUBLIC_IP/g' safe-server/src/main/resources/application.conf;./prdn.sh\"\n",
    "           \n",
    "echo Create ssh key\n",
    "sudo sh -c 'ssh-keygen -t rsa -b 4096  -P \"\" -f \"/root/.ssh/id_rsa\"  -q'\n",
    "sudo sh -c 'cat ~/.ssh/id_rsa.pub >> ~/.ssh/authorized_keys2'\n",
    "sudo sh -c 'chmod 600 ~/.ssh/authorized_keys2'\n",
    "\n",
    "echo Boot Script Done!\n",
    "EOF\n",
    "\n",
    "echo Copying script to cc@$AUTH_PUBLIC_IP\n",
    "scp -q -i ${SSH_PRIVATE_KEY} \\\n",
    "    -o UserKnownHostsFile=/dev/null \\\n",
    "    -o StrictHostKeyChecking=no \\\n",
    "    $LOCAL_SCRIPT \\\n",
    "    cc@${AUTH_PUBLIC_IP}:${REMOTE_SCRIPT}\n",
    "echo Done\n",
    "\n",
    "echo Running script\n",
    "ssh -q -i ${SSH_PRIVATE_KEY} \\\n",
    "    -o UserKnownHostsFile=/dev/null \\\n",
    "    -o StrictHostKeyChecking=no \\\n",
    "    cc@${AUTH_PUBLIC_IP} \"chmod +x \"$REMOTE_SCRIPT\" && \"$REMOTE_SCRIPT\n",
    "\n",
    "echo Done"
   ]
  },
  {
   "cell_type": "code",
   "execution_count": null,
   "metadata": {},
   "outputs": [],
   "source": []
  },
  {
   "cell_type": "markdown",
   "metadata": {},
   "source": [
    "#### Make delegations to a user\n",
    "##### Geni delegations, IP delegation, Tag delegation\n",
    "\n",
    "#### (STEP 3a)"
   ]
  },
  {
   "cell_type": "code",
   "execution_count": null,
   "metadata": {},
   "outputs": [],
   "source": []
  },
  {
   "cell_type": "code",
   "execution_count": null,
   "metadata": {},
   "outputs": [],
   "source": [
    "USERKEYHASH=\"2JAOVClQyaajkrpe7kxTtqbzW3x__AmwgFfKXyo63Q8=\"\n",
    "USERSLICE=${USERNAME}-test\n",
    "USERIP=\"192.168.42.1/24\"\n",
    "USERTAG=\"tag0\"\n",
    "\n",
    "REMOTE_WORKING_DIR=/home/cc\n",
    "REMOTE_BIN_DIR=${REMOTE_WORKING_DIR}/CICI-SAFE/SDX-Simple/SAFE_SDX/target/appassembler/bin"
   ]
  },
  {
   "cell_type": "markdown",
   "metadata": {},
   "source": [
    "#### (STEP 3b) -- Then go back to \"client.ipynb\""
   ]
  },
  {
   "cell_type": "code",
   "execution_count": null,
   "metadata": {},
   "outputs": [],
   "source": [
    "ssh -i ${SSH_PRIVATE_KEY} \\\n",
    "    -o UserKnownHostsFile=/dev/null \\\n",
    "    -o StrictHostKeyChecking=no \\\n",
    "    cc@${AUTH_PUBLIC_IP} \\\n",
    "    \"sudo ${REMOTE_BIN_DIR}/AuthorityMock auth ${USERKEYHASH} ${USERSLICE} ${USERIP} ${USERTAG} ${AUTH_PUBLIC_IP}\"\n",
    "    \n",
    "echo Authority delegations done"
   ]
  },
  {
   "cell_type": "markdown",
   "metadata": {},
   "source": [
    "#### Clean Up Authority"
   ]
  },
  {
   "cell_type": "code",
   "execution_count": null,
   "metadata": {},
   "outputs": [],
   "source": [
    "AUTH_STACK_NAME=`cat $AUTH_INFO_FILE | grep AUTH_STACK_NAME | cut -d \" \" -f 2`\n",
    "openstack stack delete --wait -y $AUTH_STACK_NAME\n",
    "\n",
    "LEASE_NAME=`cat $AUTH_INFO_FILE | grep LEASE_NAME | cut -d \" \" -f 2`\n",
    "blazar lease-delete $LEASE_NAME\n",
    "\n",
    "cat $AUTH_INFO_FILE\n",
    "mv $AUTH_INFO_FILE ${AUTH_INFO_FILE}.old"
   ]
  },
  {
   "cell_type": "code",
   "execution_count": null,
   "metadata": {},
   "outputs": [],
   "source": []
  }
 ],
 "metadata": {
  "kernelspec": {
   "display_name": "Bash",
   "language": "bash",
   "name": "bash"
  },
  "language_info": {
   "codemirror_mode": "shell",
   "file_extension": ".sh",
   "mimetype": "text/x-sh",
   "name": "bash"
  }
 },
 "nbformat": 4,
 "nbformat_minor": 2
}
