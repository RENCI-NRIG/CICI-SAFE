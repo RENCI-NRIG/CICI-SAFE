{
 "cells": [
  {
   "cell_type": "markdown",
   "metadata": {},
   "source": [
    "# Run the CICI SAFE vSDX Using Chameleon\n",
    "\n",
    "#### Configure the Envrionment"
   ]
  },
  {
   "cell_type": "code",
   "execution_count": 19,
   "metadata": {},
   "outputs": [
    {
     "name": "stdout",
     "output_type": "stream",
     "text": [
      "RIAK_PUBLIC_IP: 192.5.87.143\n",
      "OS_REGION_NAME CHI@UC\n",
      "OS_PROJECT_NAME CH-816532\n"
     ]
    }
   ],
   "source": [
    "# Set up user's project (user's can be multiple ones, so there is no default currently)\n",
    "#export OS_PROJECT_NAME='CH-816532'\n",
    "\n",
    "# Set region (again, no default currently)\n",
    "#export OS_REGION_NAME='CHI@TACC'\n",
    "#export OS_REGION_NAME='CHI@UC'\n",
    "\n",
    "# Set chameleon keypair name and path to the private ssh key\n",
    "export SSH_KEY_NAME=${USERNAME}-jupyter\n",
    "export SSH_PRIVATE_KEY=${HOME}/work/pruth-chameleon-jupyter\n",
    "\n",
    "\n",
    "#Set the working directory\n",
    "export WORKING_DIR=${HOME}/work/CICI-SAFE/Chameleon-Jupyter-Tridentcom\n",
    "export UNIVERSAL_INFO_FILE=${WORKING_DIR}/universal_info\n",
    "export SDX_INFO_FILE=${WORKING_DIR}/sdx_info\n",
    "\n",
    "\n",
    "export SDX_NETWORK='sharednet1'\n",
    "export SDX_NODE_NAME=${USERNAME}-sdx\n",
    "export SDX_STACK_NAME=${USERNAME}-sdx\n",
    "\n",
    "\n",
    "\n",
    "\n",
    "\n",
    "#RIAK Info\n",
    "export RIAK_INFO_FILE=${WORKING_DIR}/riak_info\n",
    "RIAK_PUBLIC_IP=`cat $RIAK_INFO_FILE | grep RIAK_PUBLIC_IP | cut -d \" \" -f 2`\n",
    "echo RIAK_PUBLIC_IP: $RIAK_PUBLIC_IP\n",
    "\n",
    "export OS_REGION_NAME=`cat $UNIVERSAL_INFO_FILE | grep OS_REGION_NAME | cut -d \" \" -f 2`\n",
    "export OS_PROJECT_NAME=`cat $UNIVERSAL_INFO_FILE | grep OS_PROJECT_NAME | cut -d \" \" -f 2`\n",
    "echo OS_REGION_NAME $OS_REGION_NAME\n",
    "echo OS_PROJECT_NAME $OS_PROJECT_NAME\n",
    "\n"
   ]
  },
  {
   "cell_type": "code",
   "execution_count": 20,
   "metadata": {},
   "outputs": [],
   "source": [
    "#Clear and rebuild SDX info\n",
    "echo \"\" > $SDX_INFO_FILE\n",
    "echo SDX_NODE_NAME $SDX_NODE_NAME >> $SDX_INFO_FILE\n",
    "echo SDX_STACK_NAME $SDX_STACK_NAME >> $SDX_INFO_FILE"
   ]
  },
  {
   "cell_type": "markdown",
   "metadata": {},
   "source": [
    "#### Create Lease (if necessary)"
   ]
  },
  {
   "cell_type": "code",
   "execution_count": 21,
   "metadata": {},
   "outputs": [
    {
     "name": "stdout",
     "output_type": "stream",
     "text": [
      "pruth-cici-universal-lease2\n",
      "LEASE_NAME: pruth-cici-universal-lease2\n",
      "\n",
      "LEASE_NAME pruth-cici-universal-lease2\n",
      "RESERVATION_RESOURCE_ID 6f73c9e3-fbdf-4019-b426-6e54b99366cc\n",
      "RIAK_NODE_NAME pruth-riak\n",
      "RIAK_STACK_NAME pruth-riak\n",
      "RIAK_PUBLIC_IP 192.5.87.143\n",
      "LEASE_NAME pruth-cici-universal-lease2\n",
      "LEASE_NAME pruth-cici-universal-lease2\n",
      "LEASE_NAME pruth-cici-universal-lease2\n",
      "LEASE_NAME pruth-cici-universal-lease2\n"
     ]
    }
   ],
   "source": [
    "#Check of universal reservation\n",
    "if [ -f \"${UNIVERSAL_INFO_FILE}\" ]; then\n",
    "   LEASE_NAME=`cat $UNIVERSAL_INFO_FILE | grep LEASE_NAME | cut -d \" \" -f 2`\n",
    "   echo $LEASE_NAME\n",
    "   echo LEASE_NAME $LEASE_NAME >> $RIAK_INFO_FILE\n",
    "fi\n",
    "\n",
    "if  [ -z $LEASE_NAME ]; then\n",
    "  \n",
    "    echo No universal reservation. Creating new reservation\n",
    "\n",
    "# --start-date \"2019-02-10 17:50\" \\\n",
    "# --end-date \"2019-02-11 12:00\" \\\n",
    "START_DATE=`date -d \"+2 min\" +'%F %H:%M'`\n",
    "END_DATE=`date -d \"+1 day\" +'%F %H:%M'`\n",
    "LEASE_NAME=${USERNAME}\"-sdx-lease\"\n",
    "echo LEASE_NAME $LEASE_NAME >> $SDX_INFO_FILE\n",
    "\n",
    "NODE_MIN=1\n",
    "NODE_MAX=1\n",
    "\n",
    "NODE_TYPE='compute_haswell'\n",
    "#NODE_TYPE='compute_skylake'\n",
    "\n",
    "echo Creating Lease ${LEASE_NAME}\n",
    "blazar lease-create \\\n",
    "   --physical-reservation min=${NODE_MIN},max=${NODE_MAX},resource_properties='[\"=\", \"$node_type\", \"'${NODE_TYPE}'\"]' \\\n",
    "   --start-date \"${START_DATE}\" \\\n",
    "   --end-date \"${END_DATE}\" \\\n",
    "   ${LEASE_NAME}\n",
    "\n",
    "fi\n",
    "\n",
    "echo LEASE_NAME: $LEASE_NAME\n",
    "cat  $RIAK_INFO_FILE"
   ]
  },
  {
   "cell_type": "code",
   "execution_count": 22,
   "metadata": {},
   "outputs": [
    {
     "name": "stdout",
     "output_type": "stream",
     "text": [
      "RESERVATION_ID 480a3fde-d50b-40d8-b48b-781729342b20\n",
      "RESERVATION_RESOURCE_ID 6f73c9e3-fbdf-4019-b426-6e54b99366cc\n",
      "RESERVATION_STATUS ACTIVE\n",
      "\n",
      "SDX_NODE_NAME pruth-sdx\n",
      "SDX_STACK_NAME pruth-sdx\n",
      "RESERVATION_RESOURCE_ID 6f73c9e3-fbdf-4019-b426-6e54b99366cc\n"
     ]
    }
   ],
   "source": [
    "RESERVATION_ID=`blazar lease-show --format value -c id ${LEASE_NAME}`\n",
    "echo RESERVATION_ID $RESERVATION_ID\n",
    "\n",
    "RESERVATION_RESOURCE_ID=`blazar lease-show --format value -c reservations ${RESERVATION_ID} | grep \\\"id\\\" | cut -d \"\\\"\" -f 4`\n",
    "echo RESERVATION_RESOURCE_ID $RESERVATION_RESOURCE_ID\n",
    "\n",
    "#blazar lease-show ${RESERVATION_ID}\n",
    "\n",
    "#Poll for node to be ready for ssh\n",
    "while [[ true ]]\n",
    "do \n",
    "\tRESERVATION_STATUS=`blazar lease-show --format value -c status ${RESERVATION_ID}`\n",
    "    \n",
    "    if [[ \"${RESERVATION_STATUS}\" == \"ACTIVE\" ]]; then break; fi\n",
    "    \n",
    "    echo Reservation is ${RESERVATION_STATUS}. retrying in 5 seconds.\n",
    "    sleep 5\n",
    "done\n",
    "\n",
    "echo RESERVATION_STATUS ${RESERVATION_STATUS}\n",
    "\n",
    "echo RESERVATION_RESOURCE_ID $RESERVATION_RESOURCE_ID >> $SDX_INFO_FILE\n",
    "\n",
    "cat $SDX_INFO_FILE\n"
   ]
  },
  {
   "cell_type": "markdown",
   "metadata": {},
   "source": [
    "#### Start SDX Server"
   ]
  },
  {
   "cell_type": "code",
   "execution_count": 23,
   "metadata": {},
   "outputs": [
    {
     "name": "stdout",
     "output_type": "stream",
     "text": [
      "Creating SDX server. This will take several minutes!\n",
      "\n",
      "+-------------------------------------+----------------------------------------+\n",
      "| Field                               | Value                                  |\n",
      "+-------------------------------------+----------------------------------------+\n",
      "| OS-DCF:diskConfig                   | MANUAL                                 |\n",
      "| OS-EXT-AZ:availability_zone         | nova                                   |\n",
      "| OS-EXT-SRV-ATTR:host                | admin01-ironic                         |\n",
      "| OS-EXT-SRV-ATTR:hypervisor_hostname | c03b5a7d-6b47-43d7-ab69-75ad943482d4   |\n",
      "| OS-EXT-SRV-ATTR:instance_name       | instance-00008373                      |\n",
      "| OS-EXT-STS:power_state              | Running                                |\n",
      "| OS-EXT-STS:task_state               | None                                   |\n",
      "| OS-EXT-STS:vm_state                 | active                                 |\n",
      "| OS-SRV-USG:launched_at              | 2019-04-23T17:57:54.000000             |\n",
      "| OS-SRV-USG:terminated_at            | None                                   |\n",
      "| accessIPv4                          |                                        |\n",
      "| accessIPv6                          |                                        |\n",
      "| addresses                           | sharednet1=10.140.81.62                |\n",
      "| adminPass                           | zZ8qbC3ydX9W                           |\n",
      "| config_drive                        |                                        |\n",
      "| created                             | 2019-04-23T17:47:24Z                   |\n",
      "| flavor                              | baremetal (baremetal)                  |\n",
      "| hostId                              | 9eaf1659b196f668b38d32836aa4eb951bfc7d |\n",
      "|                                     | 54a30797819146c82d                     |\n",
      "| id                                  | 247cd040-5b62-4455-926c-e295f719e475   |\n",
      "| image                               | CICI-SAFE.v1                           |\n",
      "|                                     | (805c46e0-5ab1-4d31-ad7f-a5ed6679af51) |\n",
      "| key_name                            | pruth-jupyter                          |\n",
      "| name                                | pruth-sdx                              |\n",
      "| progress                            | 0                                      |\n",
      "| project_id                          | d9faac3973a847f1b718fa765fe312e2       |\n",
      "| properties                          |                                        |\n",
      "| security_groups                     | name='default'                         |\n",
      "| status                              | ACTIVE                                 |\n",
      "| updated                             | 2019-04-23T17:57:54Z                   |\n",
      "| user_id                             | f3a422ce5a4442e3a7a247ddfd98bfc3       |\n",
      "| volumes_attached                    |                                        |\n",
      "+-------------------------------------+----------------------------------------+\n"
     ]
    }
   ],
   "source": [
    "RESERVATION_RESOURCE_ID=`cat $SDX_INFO_FILE | grep RESERVATION_RESOURCE_ID | cut -d \" \" -f 2`\n",
    "SDX_NODE_NAME=`cat $SDX_INFO_FILE | grep SDX_NODE_NAME | cut -d \" \" -f 2`\n",
    "SDX_STACK_NAME=`cat $SDX_INFO_FILE | grep SDX_STACK_NAME | cut -d \" \" -f 2`\n",
    "\n",
    "RIAK_PUBLIC_IP=`cat $RIAK_INFO_FILE | grep RIAK_PUBLIC_IP | cut -d \" \" -f 2`\n",
    "\n",
    "\n",
    "#IMAGE='CC-CentOS7'\n",
    "IMAGE='CICI-SAFE.v1'\n",
    "\n",
    "echo Creating SDX server. This will take several minutes!\n",
    "openstack server create --max-width 80 \\\n",
    "                        --flavor \"baremetal\" \\\n",
    "                        --image $IMAGE \\\n",
    "                        --key-name ${SSH_KEY_NAME} \\\n",
    "                        --hint reservation=${RESERVATION_RESOURCE_ID} \\\n",
    "                        --security-group default  \\\n",
    "                        --nic net-id=${SDX_NETWORK} \\\n",
    "                        --wait \\\n",
    "                        ${SDX_NODE_NAME}\n",
    "\n",
    "\n",
    "#openstack stack create  --max-width 80 \\\n",
    "#        --template sdx.yaml \\\n",
    "#        --parameter \"key_name=${SSH_KEY_NAME}\" \\\n",
    "#        --parameter \"reservation_id=${RESERVATION_RESOURCE_ID}\" \\\n",
    "#        --parameter \"network_name=${SDX_NETWORK}\" \\\n",
    "#        --parameter \"sdx_node_name=${SDX_NODE_NAME}\" \\\n",
    "#        --parameter \"riak_ip=${RIAK_PUBLIC_IP}\" \\\n",
    "#        --wait \\\n",
    "#        ${SDX_STACK_NAME}"
   ]
  },
  {
   "cell_type": "code",
   "execution_count": 24,
   "metadata": {},
   "outputs": [
    {
     "name": "stdout",
     "output_type": "stream",
     "text": [
      "Getting status for pruth-sdx\n",
      "status ACTIVE\n"
     ]
    }
   ],
   "source": [
    "# Wait until server is ready before continuing\n",
    "server_status=\"\"\n",
    "while [[ $server_status != \"ACTIVE\" ]]\n",
    "do\n",
    "   sleep 5\n",
    "   echo Getting status for $SDX_NODE_NAME\n",
    "   server_status=$(openstack server list --format value -c Status --name \"$SDX_NODE_NAME\")\n",
    "   echo status $server_status\n",
    "done"
   ]
  },
  {
   "cell_type": "code",
   "execution_count": 25,
   "metadata": {},
   "outputs": [
    {
     "name": "stdout",
     "output_type": "stream",
     "text": [
      "SDX_PUBLIC_IP 192.5.87.155\n"
     ]
    }
   ],
   "source": [
    "# Request a public floating IP (in the 'public' network)\n",
    "SDX_PUBLIC_IP=$(openstack floating ip create public --format value -c floating_ip_address)\n",
    "\n",
    "echo SDX_PUBLIC_IP $SDX_PUBLIC_IP\n",
    "\n",
    "# Assign a public floating IP to $USER-first-server\n",
    "openstack server add floating ip \"$SDX_NODE_NAME\" \"$SDX_PUBLIC_IP\"\n",
    "echo SDX_PUBLIC_IP $SDX_PUBLIC_IP >> $SDX_INFO_FILE"
   ]
  },
  {
   "cell_type": "code",
   "execution_count": 26,
   "metadata": {},
   "outputs": [],
   "source": [
    "#SDX_NODE_NAME=`cat $SDX_INFO_FILE | grep SDX_NODE_NAME | cut -d \" \" -f 2`\n",
    "\n",
    "#echo SDX server creation complete! \n",
    "#echo ${SDX_NODE_NAME} status `openstack server show  --format value -c status ${SDX_NODE_NAME}`\n",
    "\n",
    "\n",
    "#SDX_PUBLIC_IP=`openstack server show  --format value -c addresses ${SDX_NODE_NAME} | cut -d \" \" -f 2`\n",
    "#echo The SDX public IP is $SDX_PUBLIC_IP\n",
    "#echo SDX_PUBLIC_IP $SDX_PUBLIC_IP >> $SDX_INFO_FILE\n"
   ]
  },
  {
   "cell_type": "code",
   "execution_count": 27,
   "metadata": {},
   "outputs": [
    {
     "name": "stdout",
     "output_type": "stream",
     "text": [
      "SDX_PUBLIC_IP is 192.5.87.155\n",
      "Node not ready for ssh. retrying in 5 seconds.\n",
      "SDX node ready for ssh\n"
     ]
    }
   ],
   "source": [
    "#SDX_PUBLIC_IP=`openstack server show --format value -c addresses ${SDX_NODE_NAME} | cut -d \" \" -f 2`\n",
    "SDX_PUBLIC_IP=`cat $SDX_INFO_FILE | grep SDX_PUBLIC_IP | cut -d \" \" -f 2`\n",
    "echo SDX_PUBLIC_IP is $SDX_PUBLIC_IP\n",
    "\n",
    "#Poll for node to be ready for ssh\n",
    "while [[ true ]]\n",
    "do \n",
    "\tssh -q -i ${SSH_PRIVATE_KEY} \\\n",
    "    -o UserKnownHostsFile=/dev/null \\\n",
    "    -o StrictHostKeyChecking=no \\\n",
    "    cc@${SDX_PUBLIC_IP} \\\n",
    "    exit\n",
    "    \n",
    "    if [[ \"$?\" == \"0\" ]]; then break; fi\n",
    "    \n",
    "    echo Node not ready for ssh. retrying in 5 seconds.\n",
    "    sleep 5\n",
    "done\n",
    "\n",
    "echo SDX node ready for ssh"
   ]
  },
  {
   "cell_type": "code",
   "execution_count": 28,
   "metadata": {},
   "outputs": [
    {
     "name": "stdout",
     "output_type": "stream",
     "text": [
      "Copying script to cc@192.5.87.155\n",
      "Done\n",
      "Running script\n",
      "Start Plexus Controller in Container\n",
      "2a7edadf68d24f47632314fc503aee74e0db41b81d94246fd00ce8e3f411673d\n",
      "Start SAFE Server in Container\n",
      "62f5b301c47d1a7b1b0d2b45ca6db978d187958ed2c6330209a7462f9ee96e42\n",
      "Create ssh key\n",
      "Boot Script Done!\n",
      "Done\n"
     ]
    }
   ],
   "source": [
    "SDX_PUBLIC_IP=`cat $SDX_INFO_FILE | grep SDX_PUBLIC_IP | cut -d \" \" -f 2`\n",
    "RIAK_PUBLIC_IP=`cat $RIAK_INFO_FILE | grep RIAK_PUBLIC_IP | cut -d \" \" -f 2`\n",
    "\n",
    "REMOTE_SCRIPT=/home/cc/script.sh\n",
    "LOCAL_SCRIPT=${WORKING_DIR}/riak_script.sh\n",
    "\n",
    "cat << EOF > $LOCAL_SCRIPT\n",
    "#!/bin/bash\n",
    "sudo sh -c 'echo \"PermitRootLogin yes\" >>/etc/ssh/sshd_config'\n",
    "#sudo yum install -y docker vim mlocate git maven\n",
    "sudo systemctl start docker\n",
    "\n",
    "echo Start Plexus Controller in Container\n",
    "#sudo docker pull yaoyj11/plexus\n",
    "sudo docker run -i -t -d -p 8080:8080 -p 6633:6633 -p 3000:3000 -h plexus --name plexus yaoyj11/plexus\n",
    "sudo docker exec -d plexus /bin/bash -c  \"cd /root;pkill ryu-manager; ryu-manager ryu/ryu/app/rest_conf_switch.py ryu/ryu/app/rest_qos.py ryu/ryu/app/rest_router_mirror.py ryu/ryu/app/ofctl_rest.py\"\n",
    "\n",
    "echo Start SAFE Server in Container\n",
    "#sudo docker pull yaoyj11/safeserver-v7\n",
    "sudo docker run -i -t -d -p 7777:7777 -h safe --name safe yaoyj11/safeserver-v7\n",
    "sudo docker exec -d safe /bin/bash -c  \"cd /root/safe;sed -i 's/RIAKSERVER/$RIAK_PUBLIC_IP/g' safe-server/src/main/resources/application.conf;./prdn.sh\"\n",
    "           \n",
    "echo Create ssh key\n",
    "sudo sh -c ' ssh-keygen -t rsa -b 4096  -P \"\" -f \"/root/.ssh/id_rsa\"  -q'\n",
    "sudo sh -c ' cat ~/.ssh/id_rsa.pub >> ~/.ssh/authorized_keys2'\n",
    "sudo sh -c ' chmod 600 ~/.ssh/authorized_keys2'\n",
    "\n",
    "echo Boot Script Done!\n",
    "EOF\n",
    "\n",
    "echo Copying script to cc@$SDX_PUBLIC_IP\n",
    "scp -q -i ${SSH_PRIVATE_KEY} \\\n",
    "    -o UserKnownHostsFile=/dev/null \\\n",
    "    -o StrictHostKeyChecking=no \\\n",
    "    $LOCAL_SCRIPT \\\n",
    "    cc@${SDX_PUBLIC_IP}:${REMOTE_SCRIPT}\n",
    "echo Done\n",
    "\n",
    "echo Running script\n",
    "ssh -q -i ${SSH_PRIVATE_KEY} \\\n",
    "    -o UserKnownHostsFile=/dev/null \\\n",
    "    -o StrictHostKeyChecking=no \\\n",
    "    cc@${SDX_PUBLIC_IP} \"chmod +x \"$REMOTE_SCRIPT\" && \"$REMOTE_SCRIPT\n",
    "\n",
    "echo Done"
   ]
  },
  {
   "cell_type": "markdown",
   "metadata": {},
   "source": [
    "#### Configure the SDX node"
   ]
  },
  {
   "cell_type": "code",
   "execution_count": 29,
   "metadata": {},
   "outputs": [
    {
     "name": "stdout",
     "output_type": "stream",
     "text": [
      "SDX_PUBLIC_IP is 192.5.87.155\n",
      "Copying GENI cert to cc@192.5.87.155:~/geni.pem\n",
      "Done\n"
     ]
    }
   ],
   "source": [
    "SDX_PUBLIC_IP=`cat $SDX_INFO_FILE | grep SDX_PUBLIC_IP | cut -d \" \" -f 2`\n",
    "echo SDX_PUBLIC_IP is $SDX_PUBLIC_IP\n",
    "\n",
    "#Copy GENI pem file to node\n",
    "REMOTE_GENI_CERT=/home/cc/geni.pem\n",
    "GENI_CERT=${HOME}/work/geni-pruth.pem\n",
    "\n",
    "echo Copying GENI cert to cc@$SDX_PUBLIC_IP:~/geni.pem\n",
    "scp -q -i ${SSH_PRIVATE_KEY} \\\n",
    "    -o UserKnownHostsFile=/dev/null \\\n",
    "    -o StrictHostKeyChecking=no \\\n",
    "    ${GENI_CERT} \\\n",
    "    cc@${SDX_PUBLIC_IP}:${REMOTE_GENI_CERT}\n",
    "echo Done"
   ]
  },
  {
   "cell_type": "code",
   "execution_count": 30,
   "metadata": {},
   "outputs": [
    {
     "name": "stdout",
     "output_type": "stream",
     "text": [
      "Copying SDX config to cc@192.5.87.155\n",
      "Done\n"
     ]
    }
   ],
   "source": [
    "SDX_PUBLIC_IP=`cat $SDX_INFO_FILE | grep SDX_PUBLIC_IP | cut -d \" \" -f 2`\n",
    "RIAK_PUBLIC_IP=`cat $RIAK_INFO_FILE | grep RIAK_PUBLIC_IP | cut -d \" \" -f 2`\n",
    "\n",
    "LOCAL_SDX_CONFIG=${WORKING_DIR}/SDX/sdx.conf\n",
    "\n",
    "REMOTE_SDX_CONFIG=/home/cc/sdx.conf\n",
    "REMOTE_WORKING_DIR=/root\n",
    "REMOTE_BIN_DIR=${REMOTE_WORKING_DIR}/CICI-SAFE/SDX-Simple/SAFE_SDX/target/appassembler/bin\n",
    "\n",
    "DATAPLANE_SLICE_NAME=${USERNAME}-sdx-dataplane\n",
    "\n",
    "cat << EOF > $LOCAL_SDX_CONFIG\n",
    "config {\n",
    "safe=true\n",
    "slicename=\"${DATAPLANE_SLICE_NAME}\"\n",
    "type=\"server\"\n",
    "sshkey=\"/root/.ssh/id_rsa\"\n",
    "safekey=\"sdx\"\n",
    "exogenipem=\"${REMOTE_GENI_CERT}\"\n",
    "exogenism=\"https://geni.renci.org:11443/orca/xmlrpc\"\n",
    "ipprefix=\"192.168.128.1/24\"\n",
    "riakserver=\"${RIAK_PUBLIC_IP}\"\n",
    "serverinslice=false\n",
    "safeserver=\"${SDX_PUBLIC_IP}\"\n",
    "plexusserver=\"${SDX_PUBLIC_IP}\"\n",
    "serverurl=\"http://0.0.0.0:8888/\"\n",
    "scriptsdir=\"${REMOTE_WORKING_DIR}/CICI-SAFE/SDX-Simple/SAFE_SDX/src/main/resources/scripts/\"\n",
    "clientsites:\"UFL:UNF\"\n",
    "controllersite:\"UFL (Gainesville, FL USA) XO Rack\"\n",
    "serversite:\"RENCI (Chapel Hill, NC USA) XO Rack\"\n",
    "}\n",
    "EOF\n",
    "\n",
    "echo Copying SDX config to cc@$SDX_PUBLIC_IP\n",
    "scp -q -i ${SSH_PRIVATE_KEY} \\\n",
    "    -o UserKnownHostsFile=/dev/null \\\n",
    "    -o StrictHostKeyChecking=no \\\n",
    "    $LOCAL_SDX_CONFIG \\\n",
    "    cc@${SDX_PUBLIC_IP}:${REMOTE_SDX_CONFIG}\n",
    "echo Done\n",
    "\n",
    "# apt-get install python-scapy\n",
    "##!/usr/bin/env python\n",
    "#import sys\n",
    "#from scapy.all import *\n",
    "#\n",
    "#if __name__ == \"__main__\":\n",
    "#    sendp(Ether(dst=\"ff:ff:ff:ff:ff:ff\",src=\"12:34:56:78:9a:bc\"), iface=\"ens6\")\n",
    "\n",
    "##!/usr/bin/env python\n",
    "#import sys\n",
    "#from scapy.all import *\n",
    "#\n",
    "#if __name__ == \"__main__\":\n",
    "#        input = sniff(filter=\"ether src 12:34:56:78:9a:bc\", count=1)\n",
    "#        input[0].show2()\n",
    "\n",
    "\n",
    "##!/usr/bin/env python\n",
    "#import sys\n",
    "#from scapy.all import *\n",
    "#iface=str(sys.argv[1])\n",
    "#dst=str(sys.argv[2])\n",
    "#src=str(sys.argv[3])\n",
    "#print 'iface = ', str(iface)\n",
    "#print 'dst = ', str(dst)\n",
    "#print 'src = ', str(src)\n",
    "#sendp(Ether(dst=dst,src=src), iface=iface)\n",
    "##sendp(Ether(dst=\"ff:ff:ff:ff:ff:ff\",src=\"12:34:56:78:9a:bc\"), iface=\"ens6\")\n",
    "\n",
    "##!/usr/bin/env python\n",
    "#import sys\n",
    "#from scapy.all import *\n",
    "#src=str(sys.argv[1])\n",
    "#print \"src = \", str(src)\n",
    "#filterStr=\"ether src \"+str(src)\n",
    "#input = sniff(filter=filterStr, count=1)\n",
    "#input[0].show2()\n",
    "\n",
    "\n"
   ]
  },
  {
   "cell_type": "markdown",
   "metadata": {},
   "source": [
    "#### Start the Dataplane Slice"
   ]
  },
  {
   "cell_type": "code",
   "execution_count": 31,
   "metadata": {},
   "outputs": [
    {
     "name": "stdout",
     "output_type": "stream",
     "text": [
      "Start SDX dataplane Slice\n",
      "Warning: Permanently added '192.5.87.155' (ECDSA) to the list of known hosts.\n",
      "Slice Creation Done!\n"
     ]
    }
   ],
   "source": [
    "SDX_PUBLIC_IP=`cat $SDX_INFO_FILE | grep SDX_PUBLIC_IP | cut -d \" \" -f 2`\n",
    "\n",
    "echo Start SDX dataplane Slice\n",
    "ssh -i ${SSH_PRIVATE_KEY} \\\n",
    "    -o UserKnownHostsFile=/dev/null \\\n",
    "    -o StrictHostKeyChecking=no \\\n",
    "    cc@${SDX_PUBLIC_IP} \\\n",
    "    sudo ${REMOTE_BIN_DIR}/SafeSdxSliceServer -c $REMOTE_SDX_CONFIG  \n",
    "echo Slice Creation Done!"
   ]
  },
  {
   "cell_type": "markdown",
   "metadata": {},
   "source": [
    "#### Start the SDX Server"
   ]
  },
  {
   "cell_type": "code",
   "execution_count": null,
   "metadata": {},
   "outputs": [
    {
     "name": "stdout",
     "output_type": "stream",
     "text": [
      "Start the SDX Server\n",
      "Warning: Permanently added '192.5.87.155' (ECDSA) to the list of known hosts.\n",
      "starting exoplex.sdx server\n",
      "\u001b[30m18:08:56 [main] INFO  exoplex.sdx.core.SdxManager - Carrier Slice server with Service API: START\n",
      "\u001b[mSdx server has started, listening on http://0.0.0.0:8888/\n"
     ]
    }
   ],
   "source": [
    "SDX_PUBLIC_IP=`cat $SDX_INFO_FILE | grep SDX_PUBLIC_IP | cut -d \" \" -f 2`\n",
    "\n",
    "echo Start the SDX Server\n",
    "ssh -i ${SSH_PRIVATE_KEY} \\\n",
    "    -o UserKnownHostsFile=/dev/null \\\n",
    "    -o StrictHostKeyChecking=no \\\n",
    "    cc@${SDX_PUBLIC_IP} \\\n",
    "    \"sudo pkill java; sudo ${REMOTE_BIN_DIR}/SafeSdxServer -c $REMOTE_SDX_CONFIG &\""
   ]
  },
  {
   "cell_type": "markdown",
   "metadata": {},
   "source": [
    "# Please Cleanup Your Resources!!!\n",
    "\n",
    "#### Delete Dataplane Slice"
   ]
  },
  {
   "cell_type": "code",
   "execution_count": null,
   "metadata": {},
   "outputs": [],
   "source": [
    "#need to install exogeni phython script in the container\n",
    "#python delete ${DATAPLANE_SLICE_NAME}\n",
    "\n",
    "echo Delete SDX Slice\n",
    "\n",
    "echo $REMOTE_SDX_CONFIG\n",
    "\n",
    "ssh -i ${SSH_PRIVATE_KEY} \\\n",
    "    -o UserKnownHostsFile=/dev/null \\\n",
    "    -o StrictHostKeyChecking=no \\\n",
    "    cc@${SDX_PUBLIC_IP} \\\n",
    "    \"sudo ${REMOTE_BIN_DIR}/SafeSdxSliceServer -c $REMOTE_SDX_CONFIG -d\"\n",
    "    \n",
    "echo Slice Deletion Done"
   ]
  },
  {
   "cell_type": "markdown",
   "metadata": {},
   "source": [
    "#### Clean Up SDX Chaeleon Stack and Reservation"
   ]
  },
  {
   "cell_type": "code",
   "execution_count": null,
   "metadata": {},
   "outputs": [],
   "source": [
    "SDX_STACK_NAME=`cat $SDX_INFO_FILE | grep SDX_STACK_NAME | cut -d \" \" -f 2`\n",
    "openstack stack delete --wait -y $SDX_STACK_NAME\n",
    "\n",
    "LEASE_NAME=`cat $SDX_INFO_FILE | grep LEASE_NAME | cut -d \" \" -f 2`\n",
    "blazar lease-delete $LEASE_NAME\n",
    "\n",
    "cat $SDX_INFO_FILE\n",
    "mv $SDX_INFO_FILE ${SDX_INFO_FILE}.old"
   ]
  },
  {
   "cell_type": "code",
   "execution_count": null,
   "metadata": {},
   "outputs": [],
   "source": []
  }
 ],
 "metadata": {
  "kernelspec": {
   "display_name": "Bash",
   "language": "bash",
   "name": "bash"
  },
  "language_info": {
   "codemirror_mode": "shell",
   "file_extension": ".sh",
   "mimetype": "text/x-sh",
   "name": "bash"
  }
 },
 "nbformat": 4,
 "nbformat_minor": 2
}
