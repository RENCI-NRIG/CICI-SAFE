{
 "cells": [
  {
   "cell_type": "code",
   "execution_count": 4,
   "metadata": {},
   "outputs": [
    {
     "name": "stdout",
     "output_type": "stream",
     "text": [
      "cat: /home/pruth/work/CICI-SAFE/Chameleon-Jupyter-Tridentcom/riak_info: No such file or directory\n",
      "usage: openstack stack delete [-h] [-y] [--wait] <stack> [<stack> ...]\n",
      "openstack stack delete: error: the following arguments are required: <stack>\n",
      "cat: /home/pruth/work/CICI-SAFE/Chameleon-Jupyter-Tridentcom/riak_info: No such file or directory\n",
      "usage: blazar lease-delete [-h] LEASE\n",
      "blazar lease-delete: error: the following arguments are required: LEASE\n",
      "cat: /home/pruth/work/CICI-SAFE/Chameleon-Jupyter-Tridentcom/riak_info: No such file or directory\n",
      "mv: cannot stat '/home/pruth/work/CICI-SAFE/Chameleon-Jupyter-Tridentcom/riak_info': No such file or directory\n"
     ]
    },
    {
     "ename": "",
     "evalue": "1",
     "execution_count": 4,
     "output_type": "error",
     "traceback": []
    }
   ],
   "source": [
    "# Set up user's project (user's can be multiple ones, so there is no default currently)\n",
    "export OS_PROJECT_NAME='CH-816532'\n",
    "\n",
    "# Set region (again, no default currently)\n",
    "export OS_REGION_NAME='CHI@TACC'\n",
    "\n",
    "export WORKING_DIR=${HOME}/work/CICI-SAFE/Chameleon-Jupyter-Tridentcom\n",
    "export RIAK_INFO_FILE=${WORKING_DIR}/riak_info\n",
    "\n",
    "RIAK_STACK_NAME=`cat $RIAK_INFO_FILE | grep RIAK_STACK_NAME | cut -d \" \" -f 2`\n",
    "openstack stack delete --wait -y $RIAK_STACK_NAME\n",
    "\n",
    "LEASE_NAME=`cat $RIAK_INFO_FILE | grep LEASE_NAME | cut -d \" \" -f 2`\n",
    "blazar lease-delete $LEASE_NAME\n",
    "\n",
    "cat $RIAK_INFO_FILE\n",
    "mv $RIAK_INFO_FILE ${RIAK_INFO_FILE}.old"
   ]
  },
  {
   "cell_type": "code",
   "execution_count": 3,
   "metadata": {},
   "outputs": [
    {
     "name": "stdout",
     "output_type": "stream",
     "text": [
      "ERROR: The Stack (pruth-auth) could not be found.\n",
      "Unable to delete 1 of the 1 stacks.\n",
      "Unable to find resource with name 'pruth-auth-lease'\n",
      "\n",
      "AUTH_NODE_NAME pruth-auth\n",
      "AUTH_STACK_NAME pruth-auth\n",
      "LEASE_NAME pruth-auth-lease\n",
      "RESERVATION_RESOURCE_ID e7004034-b8b7-4281-aec6-134bb5812dc5\n",
      "AUTH_PUBLIC_IP 129.114.108.151\n"
     ]
    }
   ],
   "source": [
    "# Set up user's project (user's can be multiple ones, so there is no default currently)\n",
    "export OS_PROJECT_NAME='CH-816532'\n",
    "\n",
    "# Set region (again, no default currently)\n",
    "export OS_REGION_NAME='CHI@TACC'\n",
    "\n",
    "export WORKING_DIR=${HOME}/work/CICI-SAFE/Chameleon-Jupyter-Tridentcom\n",
    "export AUTH_INFO_FILE=${WORKING_DIR}/authority_info\n",
    "\n",
    "AUTH_STACK_NAME=`cat $AUTH_INFO_FILE | grep AUTH_STACK_NAME | cut -d \" \" -f 2`\n",
    "openstack stack delete --wait -y $AUTH_STACK_NAME\n",
    "\n",
    "LEASE_NAME=`cat $AUTH_INFO_FILE | grep LEASE_NAME | cut -d \" \" -f 2`\n",
    "blazar lease-delete $LEASE_NAME\n",
    "\n",
    "cat $AUTH_INFO_FILE\n",
    "mv $AUTH_INFO_FILE ${AUTH_INFO_FILE}.old"
   ]
  },
  {
   "cell_type": "code",
   "execution_count": 5,
   "metadata": {},
   "outputs": [
    {
     "name": "stdout",
     "output_type": "stream",
     "text": [
      "2019-03-14 20:43:09Z [pruth-sdx]: DELETE_IN_PROGRESS  Stack DELETE started\n",
      "2019-03-14 20:43:09Z [pruth-sdx.sdx_ip_association]: DELETE_IN_PROGRESS  state changed\n",
      "2019-03-14 20:43:12Z [pruth-sdx.sdx_ip_association]: DELETE_COMPLETE  state changed\n",
      "2019-03-14 20:43:12Z [pruth-sdx.sdx]: DELETE_IN_PROGRESS  state changed\n",
      "2019-03-14 20:43:35Z [pruth-sdx.sdx]: DELETE_COMPLETE  state changed\n",
      "2019-03-14 20:43:36Z [pruth-sdx.sdx_floating_ip]: DELETE_IN_PROGRESS  state changed\n",
      "2019-03-14 20:43:37Z [pruth-sdx.sdx_floating_ip]: DELETE_COMPLETE  state changed\n",
      "2019-03-14 20:43:37Z [pruth-sdx]: DELETE_COMPLETE  Stack DELETE completed successfully\n",
      "Deleted lease: pruth-sdx-lease\n",
      "\n",
      "SDX_NODE_NAME pruth-sdx\n",
      "SDX_STACK_NAME pruth-sdx\n",
      "LEASE_NAME pruth-sdx-lease\n",
      "RESERVATION_RESOURCE_ID 98ff8da5-e727-43d4-befd-84a2b5640c56\n",
      "SDX_PUBLIC_IP 129.114.109.20\n"
     ]
    }
   ],
   "source": [
    "# Set up user's project (user's can be multiple ones, so there is no default currently)\n",
    "export OS_PROJECT_NAME='CH-816532'\n",
    "\n",
    "# Set region (again, no default currently)\n",
    "export OS_REGION_NAME='CHI@TACC'\n",
    "\n",
    "export WORKING_DIR=${HOME}/work/CICI-SAFE/Chameleon-Jupyter-Tridentcom\n",
    "export SDX_INFO_FILE=${WORKING_DIR}/sdx_info\n",
    "\n",
    "SDX_STACK_NAME=`cat $SDX_INFO_FILE | grep SDX_STACK_NAME | cut -d \" \" -f 2`\n",
    "openstack stack delete --wait -y $SDX_STACK_NAME\n",
    "\n",
    "LEASE_NAME=`cat $SDX_INFO_FILE | grep LEASE_NAME | cut -d \" \" -f 2`\n",
    "blazar lease-delete $LEASE_NAME\n",
    "\n",
    "cat $SDX_INFO_FILE\n",
    "mv $SDX_INFO_FILE ${SDX_INFO_FILE}.old"
   ]
  },
  {
   "cell_type": "code",
   "execution_count": 7,
   "metadata": {},
   "outputs": [
    {
     "name": "stdout",
     "output_type": "stream",
     "text": [
      "2019-03-14 20:44:14Z [pruth-client1]: DELETE_IN_PROGRESS  Stack DELETE started\n",
      "2019-03-14 20:44:14Z [pruth-client1.sdx_ip_association]: DELETE_IN_PROGRESS  state changed\n",
      "2019-03-14 20:44:16Z [pruth-client1.sdx_ip_association]: DELETE_COMPLETE  state changed\n",
      "2019-03-14 20:44:17Z [pruth-client1.sdx-client]: DELETE_IN_PROGRESS  state changed\n",
      "2019-03-14 20:44:39Z [pruth-client1.sdx-client]: DELETE_COMPLETE  state changed\n",
      "2019-03-14 20:44:39Z [pruth-client1.sdx_floating_ip]: DELETE_IN_PROGRESS  state changed\n",
      "Deleted lease: pruth-client1-lease\n",
      "\n",
      "CLIENT_NODE_NAME pruth-client1\n",
      "CLIENT_STACK_NAME pruth-client1\n",
      "LEASE_NAME pruth-client1-lease\n",
      "RESERVATION_RESOURCE_ID 2053ae21-9705-4fff-8f6b-3250c9245f57\n",
      "CLIENT_PUBLIC_IP 129.114.109.154\n"
     ]
    }
   ],
   "source": [
    "# Set up user's project (user's can be multiple ones, so there is no default currently)\n",
    "export OS_PROJECT_NAME='CH-816532'\n",
    "\n",
    "# Set region (again, no default currently)\n",
    "export OS_REGION_NAME='CHI@TACC'\n",
    "\n",
    "export WORKING_DIR=${HOME}/work/CICI-SAFE/Chameleon-Jupyter-Tridentcom\n",
    "export CLIENT_INFO_FILE=${WORKING_DIR}/client1_info\n",
    "\n",
    "CLIENT_STACK_NAME=`cat $CLIENT_INFO_FILE | grep CLIENT_STACK_NAME | cut -d \" \" -f 2`\n",
    "openstack stack delete --wait -y $CLIENT_STACK_NAME\n",
    "\n",
    "LEASE_NAME=`cat $CLIENT_INFO_FILE | grep LEASE_NAME | cut -d \" \" -f 2`\n",
    "blazar lease-delete $LEASE_NAME\n",
    "\n",
    "cat $CLIENT_INFO_FILE\n",
    "mv $CLIENT_INFO_FILE ${CLIENT_INFO_FILE}.old"
   ]
  },
  {
   "cell_type": "code",
   "execution_count": null,
   "metadata": {},
   "outputs": [],
   "source": []
  }
 ],
 "metadata": {
  "kernelspec": {
   "display_name": "Bash",
   "language": "bash",
   "name": "bash"
  },
  "language_info": {
   "codemirror_mode": "shell",
   "file_extension": ".sh",
   "mimetype": "text/x-sh",
   "name": "bash"
  }
 },
 "nbformat": 4,
 "nbformat_minor": 2
}
