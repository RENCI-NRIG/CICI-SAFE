{
 "cells": [
  {
   "cell_type": "code",
   "execution_count": null,
   "metadata": {},
   "outputs": [],
   "source": [
    "# Set up user's project (user's can be multiple ones, so there is no default currently)\n",
    "export OS_PROJECT_NAME='CH-816532'\n",
    "\n",
    "# Set region (again, no default currently)\n",
    "export OS_REGION_NAME='CHI@TACC'\n",
    "\n",
    "# Set chameleon keypair name and path to the private ssh key\n",
    "export SSH_KEY_NAME=${USERNAME}-jupyter\n",
    "export SSH_PRIVATE_KEY=${HOME}/work/pruth-chameleon-jupyter\n",
    "\n",
    "\n",
    "#Set the working directory\n",
    "export WORKING_DIR=${HOME}/work/CICI-SAFE/Chameleon-Jupyter-Tridentcom\n",
    "\n",
    "export UNIVERSAL_INFO_FILE=${WORKING_DIR}/universal_info\n",
    "echo \"\" > $UNIVERSAL_INFO_FILE\n",
    "\n"
   ]
  },
  {
   "cell_type": "markdown",
   "metadata": {},
   "source": [
    "#### Create Lease (if necessary)"
   ]
  },
  {
   "cell_type": "code",
   "execution_count": null,
   "metadata": {},
   "outputs": [],
   "source": [
    "# --start-date \"2019-02-10 17:50\" \\\n",
    "# --end-date \"2019-02-11 12:00\" \\\n",
    "START_DATE=`date -d \"+2 min\" +'%F %H:%M'`\n",
    "END_DATE=`date -d \"+1 day\" +'%F %H:%M'`\n",
    "LEASE_NAME=${USERNAME}\"-cici-universal-lease\"\n",
    "echo LEASE_NAME $LEASE_NAME >> $UNIVERSAL_INFO_FILE\n",
    "\n",
    "NODE_MIN=4\n",
    "NODE_MAX=6\n",
    "\n",
    "NODE_TYPE='compute_haswell'\n",
    "#NODE_TYPE='compute_skylake'\n",
    "\n",
    "echo Creating Lease ${LEASE_NAME}\n",
    "blazar lease-create \\\n",
    "   --physical-reservation min=${NODE_MIN},max=${NODE_MAX},resource_properties='[\"=\", \"$node_type\", \"'${NODE_TYPE}'\"]' \\\n",
    "   --start-date \"${START_DATE}\" \\\n",
    "   --end-date \"${END_DATE}\" \\\n",
    "   ${LEASE_NAME}\n",
    "   "
   ]
  },
  {
   "cell_type": "code",
   "execution_count": null,
   "metadata": {},
   "outputs": [],
   "source": [
    "RESERVATION_ID=`blazar lease-show --format value -c id ${LEASE_NAME}`\n",
    "echo RESERVATION_ID $RESERVATION_ID\n",
    "\n",
    "RESERVATION_RESOURCE_ID=`blazar lease-show --format value -c reservations ${RESERVATION_ID} | grep \\\"id\\\" | cut -d \"\\\"\" -f 4`\n",
    "echo RESERVATION_RESOURCE_ID $RESERVATION_RESOURCE_ID\n",
    "\n",
    "while [[ true ]]\n",
    "do \n",
    "\tRESERVATION_STATUS=`blazar lease-show --format value -c status ${RESERVATION_ID}`\n",
    "    \n",
    "    if [[ \"${RESERVATION_STATUS}\" == \"ACTIVE\" ]]; then break; fi\n",
    "    \n",
    "    echo Reservation is ${RESERVATION_STATUS}. retrying in 5 seconds.\n",
    "    sleep 5\n",
    "done\n",
    "\n",
    "echo RESERVATION_STATUS ${RESERVATION_STATUS}\n",
    "\n",
    "echo RESERVATION_RESOURCE_ID $RESERVATION_RESOURCE_ID >> $UNIVERSAL_INFO_FILE\n",
    "\n",
    "cat $UNIVERSAL_INFO_FILE\n"
   ]
  },
  {
   "cell_type": "markdown",
   "metadata": {},
   "source": [
    "#### Clean Up"
   ]
  },
  {
   "cell_type": "code",
   "execution_count": null,
   "metadata": {},
   "outputs": [],
   "source": [
    "LEASE_NAME=`cat $UNIVERSAL_INFO_FILE | grep LEASE_NAME | cut -d \" \" -f 2`\n",
    "blazar lease-delete $LEASE_NAME\n",
    "\n",
    "cat $UNIVERSAL_INFO_FILE\n",
    "mv $UNIVERSAL_INFO_FILE ${UNIVERSAL_INFO_FILE}.old"
   ]
  },
  {
   "cell_type": "code",
   "execution_count": null,
   "metadata": {},
   "outputs": [],
   "source": []
  }
 ],
 "metadata": {
  "kernelspec": {
   "display_name": "Bash",
   "language": "bash",
   "name": "bash"
  },
  "language_info": {
   "codemirror_mode": "shell",
   "file_extension": ".sh",
   "mimetype": "text/x-sh",
   "name": "bash"
  }
 },
 "nbformat": 4,
 "nbformat_minor": 2
}
