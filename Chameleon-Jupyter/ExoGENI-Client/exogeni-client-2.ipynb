{
 "cells": [
  {
   "cell_type": "markdown",
   "metadata": {},
   "source": [
    "# Run the CICI SAFE vSDX\n",
    "\n",
    "#### Configure the Envrionment"
   ]
  },
  {
   "cell_type": "code",
   "execution_count": 1,
   "metadata": {},
   "outputs": [],
   "source": [
    "# Set up user's project (user's can be multiple ones, so there is no default currently)\n",
    "export OS_PROJECT_NAME='CH-816532'\n",
    "\n",
    "# Set region (again, no default currently)\n",
    "export OS_REGION_NAME='CHI@TACC'\n",
    "\n",
    "# Set chameleon keypair name and path to the private ssh key\n",
    "export SSH_KEY_NAME=${USERNAME}'-jupyter'\n",
    "export SSH_PRIVATE_KEY=${HOME}/.ssh/id_rsa\n",
    "\n",
    "# Set the reservations to use.  \n",
    "# CONTROLLER_RESERVATION_ID can be for any type of node\n",
    "export CLIENT_RESERVATION_ID='86df92e0-3608-48e1-83cb-c27b64fa2083'\n",
    "\n",
    "#Set the working directory\n",
    "export WORKING_DIR=${HOME}/work/CICI-SAFE/Chameleon-Jupyter/ExoGENI-Client\n",
    "\n",
    "#Set GENI CERT file\n",
    "export GENI_CERT=${HOME}/work/geni-pruth.pem\n",
    "\n",
    "export SDX_PUBLIC_IP='129.114.108.123'"
   ]
  },
  {
   "cell_type": "markdown",
   "metadata": {},
   "source": [
    "#### Start ExoGENI Client"
   ]
  },
  {
   "cell_type": "code",
   "execution_count": 2,
   "metadata": {},
   "outputs": [
    {
     "name": "stdout",
     "output_type": "stream",
     "text": [
      "Creating SDX client. This will take several minutes!\n",
      "2019-02-22 15:44:18Z [pruth-client2]: CREATE_IN_PROGRESS  Stack CREATE started\n",
      "2019-02-22 15:44:19Z [pruth-client2.sdx_floating_ip]: CREATE_IN_PROGRESS  state changed\n",
      "2019-02-22 15:44:21Z [pruth-client2.sdx_floating_ip]: CREATE_COMPLETE  state changed\n",
      "2019-02-22 15:44:22Z [pruth-client2.sdx-client]: CREATE_IN_PROGRESS  state changed\n",
      "2019-02-22 15:53:33Z [pruth-client2.sdx-client]: CREATE_COMPLETE  state changed\n",
      "2019-02-22 15:53:34Z [pruth-client2.sdx_ip_association]: CREATE_IN_PROGRESS  state changed\n",
      "2019-02-22 15:53:36Z [pruth-client2.sdx_ip_association]: CREATE_COMPLETE  state changed\n",
      "2019-02-22 15:53:36Z [pruth-client2]: CREATE_COMPLETE  Stack CREATE completed successfully\n",
      "+---------------------+--------------------------------------------------------+\n",
      "| Field               | Value                                                  |\n",
      "+---------------------+--------------------------------------------------------+\n",
      "| id                  | fa9e09b6-19bf-4cf8-93ee-c1696ea78ced                   |\n",
      "| stack_name          | pruth-client2                                          |\n",
      "| description         | Ryu OpenFlow controller deployed with Heat on          |\n",
      "|                     | Chameleon                                              |\n",
      "| creation_time       | 2019-02-22T15:44:18Z                                   |\n",
      "| updated_time        | None                                                   |\n",
      "| stack_status        | CREATE_COMPLETE                                        |\n",
      "| stack_status_reason | Stack CREATE completed successfully                    |\n",
      "+---------------------+--------------------------------------------------------+\n"
     ]
    }
   ],
   "source": [
    "cd $WORKING_DIR\n",
    "CLIENT_NETWORK='sharednet1'\n",
    "CLIENT_NODE_NAME=${USERNAME}-client2\n",
    "CLIENT_STACK_NAME=${USERNAME}-client2\n",
    "GIT_BRANCH='tridentcom'\n",
    "SLICE_NAME='c1-tri'\n",
    "IP_PREFIX='192.168.20.1/24'\n",
    "CLIENT_SITE='UFL'\n",
    "SAFE_KEYPAIR='key_p11'\n",
    "\n",
    "echo Creating SDX client. This will take several minutes!\n",
    "openstack stack create  --max-width 80 \\\n",
    "        --template ${WORKING_DIR}/client.yaml \\\n",
    "        --parameter \"key_name=${SSH_KEY_NAME}\" \\\n",
    "        --parameter \"reservation_id=${CLIENT_RESERVATION_ID}\" \\\n",
    "        --parameter \"network_name=${CLIENT_NETWORK}\" \\\n",
    "        --parameter \"client_name=${CLIENT_NODE_NAME}\" \\\n",
    "        --parameter \"github_branch=${GIT_BRANCH}\" \\\n",
    "        --parameter \"riak_ip=${RIAK_PUBLIC_IP}\" \\\n",
    "        --parameter \"slice_name=${SLICE_NAME}\"\\\n",
    "        --parameter \"ip_prefix=${IP_PREFIX}\"\\\n",
    "        --parameter \"client_site=${CLIENT_SITE}\"\\\n",
    "        --parameter \"safe_keypair=${SAFE_KEYPAIR}\"\\\n",
    "        --parameter \"sdx_server=${SDX_PUBLIC_IP}:8888\"\\\n",
    "        --wait \\\n",
    "        ${CLIENT_STACK_NAME}"
   ]
  },
  {
   "cell_type": "code",
   "execution_count": 8,
   "metadata": {},
   "outputs": [
    {
     "name": "stdout",
     "output_type": "stream",
     "text": [
      "SDX client creation complete!\n",
      "pruth-client1 status ACTIVE\n",
      "The client public IP is 129.114.108.64\n",
      "SDX node ready for ssh\n"
     ]
    }
   ],
   "source": [
    "echo SDX client creation complete! \n",
    "echo ${CLIENT_NODE_NAME} status `openstack server show  --format value -c status ${CLIENT_NODE_NAME}`\n",
    "\n",
    "CLIENT_PUBLIC_IP=`openstack server show  --format value -c addresses ${CLIENT_NODE_NAME} | cut -d \" \" -f 2`\n",
    "echo The client public IP is $CLIENT_PUBLIC_IP\n",
    "\n",
    "\n",
    "#Poll for node to be ready for ssh\n",
    "while [[ true ]]\n",
    "do \n",
    "\tssh -q -i ${SSH_PRIVATE_KEY} \\\n",
    "    -o UserKnownHostsFile=/dev/null \\\n",
    "    -o StrictHostKeyChecking=no \\\n",
    "    cc@${CLIENT_PUBLIC_IP} \\\n",
    "    exit\n",
    "    \n",
    "    if [[ \"$?\" == \"0\" ]]; then break; fi\n",
    "    \n",
    "    echo Node not ready for ssh. retrying in 5 seconds.\n",
    "    sleep 5\n",
    "done\n",
    "\n",
    "echo SDX node ready for ssh"
   ]
  },
  {
   "cell_type": "code",
   "execution_count": 9,
   "metadata": {},
   "outputs": [
    {
     "name": "stdout",
     "output_type": "stream",
     "text": [
      "Copying GENI cert to cc@129.114.108.64:~/geni.pem\n",
      "Done\n"
     ]
    }
   ],
   "source": [
    "#Copy GENI pem file to node\n",
    "REMOTE_GENI_CERT=/home/cc/geni.pem\n",
    "\n",
    "echo Copying GENI cert to cc@$CLIENT_PUBLIC_IP:~/geni.pem\n",
    "scp -q -i ${SSH_PRIVATE_KEY} \\\n",
    "    -o UserKnownHostsFile=/dev/null \\\n",
    "    -o StrictHostKeyChecking=no \\\n",
    "    ${GENI_CERT} \\\n",
    "    cc@${CLIENT_PUBLIC_IP}:${REMOTE_GENI_CERT}\n",
    "echo Done"
   ]
  },
  {
   "cell_type": "code",
   "execution_count": null,
   "metadata": {},
   "outputs": [
    {
     "name": "stdout",
     "output_type": "stream",
     "text": [
      "Warning: Permanently added '129.114.108.64' (ECDSA) to the list of known hosts.\n",
      "Downloading: http://ci-dev.renci.org/nexus/content/repositories/geni-orca-libs/org/codehaus/plexus/plexus/1.0.10/plexus-1.0.10.pom\n",
      "Downloading: http://repository.apache.org/snapshots/org/codehaus/plexus/plexus/1.0.10/plexus-1.0.10.pom\n",
      "Downloading: https://repo.maven.apache.org/maven2/org/codehaus/plexus/plexus/1.0.10/plexus-1.0.10.pom\n",
      "Downloaded: https://repo.maven.apache.org/maven2/org/codehaus/plexus/plexus/1.0.10/plexus-1.0.10.pom (9 KB at 383.6 KB/sec)\n",
      "Downloading: http://ci-dev.renci.org/nexus/content/repositories/geni-orca-libs/org/codehaus/plexus/plexus-container-default/1.0-alpha-15/plexus-container-default-1.0-alpha-15.pom\n",
      "Downloading: http://repository.apache.org/snapshots/org/codehaus/plexus/plexus-container-default/1.0-alpha-15/plexus-container-default-1.0-alpha-15.pom\n",
      "Downloading: https://repo.maven.apache.org/maven2/org/codehaus/plexus/plexus-container-default/1.0-alpha-15/plexus-container-default-1.0-alpha-15.pom\n",
      "Downloaded: https://repo.maven.apache.org/maven2/org/codehaus/plexus/plexus-container-default/1.0-alpha-15/plexus-container-default-1.0-alpha-15.pom (2 KB at 47.7 KB/sec)\n",
      "Downloading: http://ci-dev.renci.org/nexus/content/repositories/geni-orca-libs/org/codehaus/plexus/plexus-containers/1.0-alpha-15/plexus-containers-1.0-alpha-15.pom\n",
      "Downloading: http://repository.apache.org/snapshots/org/codehaus/plexus/plexus-containers/1.0-alpha-15/plexus-containers-1.0-alpha-15.pom\n",
      "Downloading: https://repo.maven.apache.org/maven2/org/codehaus/plexus/plexus-containers/1.0-alpha-15/plexus-containers-1.0-alpha-15.pom\n",
      "Downloaded: https://repo.maven.apache.org/maven2/org/codehaus/plexus/plexus-containers/1.0-alpha-15/plexus-containers-1.0-alpha-15.pom (2 KB at 87.9 KB/sec)\n",
      "Downloading: http://ci-dev.renci.org/nexus/content/repositories/geni-orca-libs/org/codehaus/plexus/plexus/1.0.9/plexus-1.0.9.pom\n",
      "Downloading: http://repository.apache.org/snapshots/org/codehaus/plexus/plexus/1.0.9/plexus-1.0.9.pom\n",
      "Downloading: https://repo.maven.apache.org/maven2/org/codehaus/plexus/plexus/1.0.9/plexus-1.0.9.pom\n",
      "Downloaded: https://repo.maven.apache.org/maven2/org/codehaus/plexus/plexus/1.0.9/plexus-1.0.9.pom (8 KB at 357.1 KB/sec)\n",
      "Downloading: http://ci-dev.renci.org/nexus/content/repositories/geni-orca-libs/org/codehaus/plexus/plexus-component-api/1.0-alpha-15/plexus-component-api-1.0-alpha-15.pom\n",
      "Downloading: http://repository.apache.org/snapshots/org/codehaus/plexus/plexus-component-api/1.0-alpha-15/plexus-component-api-1.0-alpha-15.pom\n",
      "Downloading: https://repo.maven.apache.org/maven2/org/codehaus/plexus/plexus-component-api/1.0-alpha-15/plexus-component-api-1.0-alpha-15.pom\n",
      "Downloaded: https://repo.maven.apache.org/maven2/org/codehaus/plexus/plexus-component-api/1.0-alpha-15/plexus-component-api-1.0-alpha-15.pom (948 B at 44.1 KB/sec)\n",
      "Downloading: http://ci-dev.renci.org/nexus/content/repositories/geni-orca-libs/org/codehaus/plexus/plexus-classworlds/1.2-alpha-6/plexus-classworlds-1.2-alpha-6.pom\n",
      "Downloading: http://repository.apache.org/snapshots/org/codehaus/plexus/plexus-classworlds/1.2-alpha-6/plexus-classworlds-1.2-alpha-6.pom\n",
      "Downloading: https://repo.maven.apache.org/maven2/org/codehaus/plexus/plexus-classworlds/1.2-alpha-6/plexus-classworlds-1.2-alpha-6.pom\n",
      "Downloaded: https://repo.maven.apache.org/maven2/org/codehaus/plexus/plexus-classworlds/1.2-alpha-6/plexus-classworlds-1.2-alpha-6.pom (3 KB at 110.3 KB/sec)\n",
      "Downloading: http://ci-dev.renci.org/nexus/content/repositories/geni-orca-libs/org/codehaus/plexus/plexus-utils/1.3/plexus-utils-1.3.pom\n",
      "Downloading: http://repository.apache.org/snapshots/org/codehaus/plexus/plexus-utils/1.3/plexus-utils-1.3.pom\n",
      "Downloading: https://repo.maven.apache.org/maven2/org/codehaus/plexus/plexus-utils/1.3/plexus-utils-1.3.pom\n",
      "Downloaded: https://repo.maven.apache.org/maven2/org/codehaus/plexus/plexus-utils/1.3/plexus-utils-1.3.pom (2 KB at 48.1 KB/sec)\n",
      "Downloading: http://ci-dev.renci.org/nexus/content/repositories/geni-orca-libs/org/codehaus/plexus/plexus-io/1.0-alpha-1/plexus-io-1.0-alpha-1.pom\n",
      "Downloading: http://repository.apache.org/snapshots/org/codehaus/plexus/plexus-io/1.0-alpha-1/plexus-io-1.0-alpha-1.pom\n",
      "Downloading: https://repo.maven.apache.org/maven2/org/codehaus/plexus/plexus-io/1.0-alpha-1/plexus-io-1.0-alpha-1.pom\n",
      "Downloaded: https://repo.maven.apache.org/maven2/org/codehaus/plexus/plexus-io/1.0-alpha-1/plexus-io-1.0-alpha-1.pom (2 KB at 59.8 KB/sec)\n",
      "Downloading: http://ci-dev.renci.org/nexus/content/repositories/geni-orca-libs/org/codehaus/plexus/plexus-component-api/1.0-alpha-16/plexus-component-api-1.0-alpha-16.pom\n",
      "Downloading: http://repository.apache.org/snapshots/org/codehaus/plexus/plexus-component-api/1.0-alpha-16/plexus-component-api-1.0-alpha-16.pom\n",
      "Downloading: https://repo.maven.apache.org/maven2/org/codehaus/plexus/plexus-component-api/1.0-alpha-16/plexus-component-api-1.0-alpha-16.pom\n",
      "Downloaded: https://repo.maven.apache.org/maven2/org/codehaus/plexus/plexus-component-api/1.0-alpha-16/plexus-component-api-1.0-alpha-16.pom (3 KB at 103.0 KB/sec)\n",
      "Downloading: http://ci-dev.renci.org/nexus/content/repositories/geni-orca-libs/org/codehaus/plexus/plexus-containers/1.0-alpha-16/plexus-containers-1.0-alpha-16.pom\n",
      "Downloading: http://repository.apache.org/snapshots/org/codehaus/plexus/plexus-containers/1.0-alpha-16/plexus-containers-1.0-alpha-16.pom\n",
      "Downloading: https://repo.maven.apache.org/maven2/org/codehaus/plexus/plexus-containers/1.0-alpha-16/plexus-containers-1.0-alpha-16.pom\n",
      "Downloaded: https://repo.maven.apache.org/maven2/org/codehaus/plexus/plexus-containers/1.0-alpha-16/plexus-containers-1.0-alpha-16.pom (2 KB at 87.7 KB/sec)\n",
      "Downloading: http://ci-dev.renci.org/nexus/content/repositories/geni-orca-libs/org/codehaus/plexus/plexus-classworlds/1.2-alpha-7/plexus-classworlds-1.2-alpha-7.pom\n",
      "Downloading: http://repository.apache.org/snapshots/org/codehaus/plexus/plexus-classworlds/1.2-alpha-7/plexus-classworlds-1.2-alpha-7.pom\n",
      "Downloading: https://repo.maven.apache.org/maven2/org/codehaus/plexus/plexus-classworlds/1.2-alpha-7/plexus-classworlds-1.2-alpha-7.pom\n",
      "Downloaded: https://repo.maven.apache.org/maven2/org/codehaus/plexus/plexus-classworlds/1.2-alpha-7/plexus-classworlds-1.2-alpha-7.pom (3 KB at 115.8 KB/sec)\n",
      "Downloading: http://ci-dev.renci.org/nexus/content/repositories/geni-orca-libs/org/codehaus/plexus/plexus-utils/1.4.9/plexus-utils-1.4.9.pom\n",
      "Downloading: http://repository.apache.org/snapshots/org/codehaus/plexus/plexus-utils/1.4.9/plexus-utils-1.4.9.pom\n",
      "Downloading: https://repo.maven.apache.org/maven2/org/codehaus/plexus/plexus-utils/1.4.9/plexus-utils-1.4.9.pom\n",
      "Downloaded: https://repo.maven.apache.org/maven2/org/codehaus/plexus/plexus-utils/1.4.9/plexus-utils-1.4.9.pom (3 KB at 97.5 KB/sec)\n",
      "Downloading: http://ci-dev.renci.org/nexus/content/repositories/geni-orca-libs/commons-lang/commons-lang/2.1/commons-lang-2.1.pom\n",
      "Downloading: http://repository.apache.org/snapshots/commons-lang/commons-lang/2.1/commons-lang-2.1.pom\n",
      "Downloading: https://repo.maven.apache.org/maven2/commons-lang/commons-lang/2.1/commons-lang-2.1.pom\n",
      "Downloaded: https://repo.maven.apache.org/maven2/commons-lang/commons-lang/2.1/commons-lang-2.1.pom (10 KB at 484.8 KB/sec)\n",
      "Downloading: http://ci-dev.renci.org/nexus/content/repositories/geni-orca-libs/org/apache/maven/maven-archiver/2.3/maven-archiver-2.3.jar\n",
      "Downloading: http://ci-dev.renci.org/nexus/content/repositories/geni-orca-libs/org/codehaus/plexus/plexus-archiver/1.0-alpha-9/plexus-archiver-1.0-alpha-9.jar\n",
      "Downloading: http://ci-dev.renci.org/nexus/content/repositories/geni-orca-libs/org/codehaus/plexus/plexus-io/1.0-alpha-1/plexus-io-1.0-alpha-1.jar\n",
      "Downloading: http://ci-dev.renci.org/nexus/content/repositories/geni-orca-libs/commons-lang/commons-lang/2.1/commons-lang-2.1.jar\n",
      "Downloading: http://ci-dev.renci.org/nexus/content/repositories/geni-orca-libs/org/codehaus/plexus/plexus-utils/1.4.9/plexus-utils-1.4.9.jar\n",
      "Downloading: http://repository.apache.org/snapshots/org/apache/maven/maven-archiver/2.3/maven-archiver-2.3.jar\n",
      "Downloading: http://repository.apache.org/snapshots/org/codehaus/plexus/plexus-archiver/1.0-alpha-9/plexus-archiver-1.0-alpha-9.jar\n",
      "Downloading: http://repository.apache.org/snapshots/org/codehaus/plexus/plexus-io/1.0-alpha-1/plexus-io-1.0-alpha-1.jar\n",
      "Downloading: http://repository.apache.org/snapshots/commons-lang/commons-lang/2.1/commons-lang-2.1.jar\n",
      "Downloading: http://repository.apache.org/snapshots/org/codehaus/plexus/plexus-utils/1.4.9/plexus-utils-1.4.9.jar\n",
      "Downloading: https://repo.maven.apache.org/maven2/org/apache/maven/maven-archiver/2.3/maven-archiver-2.3.jar\n",
      "Downloading: https://repo.maven.apache.org/maven2/org/codehaus/plexus/plexus-archiver/1.0-alpha-9/plexus-archiver-1.0-alpha-9.jar\n",
      "Downloading: https://repo.maven.apache.org/maven2/org/codehaus/plexus/plexus-io/1.0-alpha-1/plexus-io-1.0-alpha-1.jar\n",
      "Downloading: https://repo.maven.apache.org/maven2/commons-lang/commons-lang/2.1/commons-lang-2.1.jar\n",
      "Downloading: https://repo.maven.apache.org/maven2/org/codehaus/plexus/plexus-utils/1.4.9/plexus-utils-1.4.9.jar\n",
      "Downloaded: https://repo.maven.apache.org/maven2/org/codehaus/plexus/plexus-io/1.0-alpha-1/plexus-io-1.0-alpha-1.jar (12 KB at 542.9 KB/sec)\n",
      "Downloaded: https://repo.maven.apache.org/maven2/org/apache/maven/maven-archiver/2.3/maven-archiver-2.3.jar (18 KB at 753.3 KB/sec)\n",
      "Downloaded: https://repo.maven.apache.org/maven2/commons-lang/commons-lang/2.1/commons-lang-2.1.jar (203 KB at 6995.0 KB/sec)\n",
      "Downloaded: https://repo.maven.apache.org/maven2/org/codehaus/plexus/plexus-utils/1.4.9/plexus-utils-1.4.9.jar (200 KB at 6226.0 KB/sec)\n",
      "Downloaded: https://repo.maven.apache.org/maven2/org/codehaus/plexus/plexus-archiver/1.0-alpha-9/plexus-archiver-1.0-alpha-9.jar (154 KB at 2130.4 KB/sec)\n",
      "[WARNING] JAR will be empty - no content was marked for inclusion!\n",
      "[INFO] Building jar: /home/cc/orca5/target/orca.orca-5.4.9-SNAPSHOT.jar\n",
      "[INFO] \n",
      "[INFO] --- maven-jar-plugin:2.2:test-jar (default) @ orca ---\n",
      "[WARNING] JAR will be empty - no content was marked for inclusion!\n",
      "[INFO] Building jar: /home/cc/orca5/target/orca.orca-5.4.9-SNAPSHOT-tests.jar\n",
      "[INFO] \n",
      "[INFO] --- maven-install-plugin:2.3.1:install (default-install) @ orca ---\n",
      "Downloading: http://ci-dev.renci.org/nexus/content/repositories/geni-orca-libs/org/codehaus/plexus/plexus-digest/1.0/plexus-digest-1.0.pom\n",
      "Downloading: http://repository.apache.org/snapshots/org/codehaus/plexus/plexus-digest/1.0/plexus-digest-1.0.pom\n",
      "Downloading: https://repo.maven.apache.org/maven2/org/codehaus/plexus/plexus-digest/1.0/plexus-digest-1.0.pom\n",
      "Downloaded: https://repo.maven.apache.org/maven2/org/codehaus/plexus/plexus-digest/1.0/plexus-digest-1.0.pom (2 KB at 51.7 KB/sec)\n",
      "Downloading: http://ci-dev.renci.org/nexus/content/repositories/geni-orca-libs/org/codehaus/plexus/plexus-components/1.1.7/plexus-components-1.1.7.pom\n",
      "Downloading: http://repository.apache.org/snapshots/org/codehaus/plexus/plexus-components/1.1.7/plexus-components-1.1.7.pom\n",
      "Downloading: https://repo.maven.apache.org/maven2/org/codehaus/plexus/plexus-components/1.1.7/plexus-components-1.1.7.pom\n",
      "Downloaded: https://repo.maven.apache.org/maven2/org/codehaus/plexus/plexus-components/1.1.7/plexus-components-1.1.7.pom (5 KB at 242.9 KB/sec)\n",
      "Downloading: http://ci-dev.renci.org/nexus/content/repositories/geni-orca-libs/org/codehaus/plexus/plexus-digest/1.0/plexus-digest-1.0.jar\n",
      "Downloading: http://repository.apache.org/snapshots/org/codehaus/plexus/plexus-digest/1.0/plexus-digest-1.0.jar\n",
      "Downloading: https://repo.maven.apache.org/maven2/org/codehaus/plexus/plexus-digest/1.0/plexus-digest-1.0.jar\n",
      "Downloaded: https://repo.maven.apache.org/maven2/org/codehaus/plexus/plexus-digest/1.0/plexus-digest-1.0.jar (12 KB at 503.5 KB/sec)\n",
      "[INFO] Installing /home/cc/orca5/pom.xml to /root/.m2/repository/orca/orca/5.4.9-SNAPSHOT/orca-5.4.9-SNAPSHOT.pom\n",
      "[INFO] Installing /home/cc/orca5/target/orca.orca-5.4.9-SNAPSHOT-tests.jar to /root/.m2/repository/orca/orca/5.4.9-SNAPSHOT/orca-5.4.9-SNAPSHOT-tests.jar\n",
      "[INFO]                                                                         \n",
      "[INFO] ------------------------------------------------------------------------\n",
      "[INFO] Building Orca Dependencies 5.4.9-SNAPSHOT\n",
      "[INFO] ------------------------------------------------------------------------\n",
      "[INFO] \n",
      "[INFO] --- buildnumber-maven-plugin:1.3:create (default) @ dependencies ---\n",
      "[INFO] Executing: /bin/sh -c cd /home/cc/orca5/tools/dependencies && git rev-parse --verify HEAD\n",
      "[INFO] Working directory: /home/cc/orca5/tools/dependencies\n",
      "[INFO] Storing buildNumber: 3fa38c44c7f7fae1122916a6649038a75bae38bb at timestamp: 1550850008894\n",
      "[INFO] Storing buildScmBranch: master\n",
      "[INFO] \n",
      "[INFO] >>> maven-source-plugin:2.0.2:jar (default) @ dependencies >>>\n",
      "[INFO] \n",
      "[INFO] --- buildnumber-maven-plugin:1.3:create (default) @ dependencies ---\n",
      "[INFO] Executing: /bin/sh -c cd /home/cc/orca5/tools/dependencies && git rev-parse --verify HEAD\n",
      "[INFO] Working directory: /home/cc/orca5/tools/dependencies\n",
      "[INFO] Storing buildNumber: 3fa38c44c7f7fae1122916a6649038a75bae38bb at timestamp: 1550850008904\n",
      "[INFO] Storing buildScmBranch: master\n",
      "[INFO] \n",
      "[INFO] <<< maven-source-plugin:2.0.2:jar (default) @ dependencies <<<\n",
      "[INFO] \n",
      "[INFO] --- maven-source-plugin:2.0.2:jar (default) @ dependencies ---\n",
      "[INFO] NOT adding sources to attached artifacts for packaging: 'pom'.\n",
      "[INFO] \n",
      "[INFO] >>> maven-source-plugin:2.0.2:test-jar (default) @ dependencies >>>\n",
      "[INFO] \n",
      "[INFO] --- buildnumber-maven-plugin:1.3:create (default) @ dependencies ---\n",
      "[INFO] Executing: /bin/sh -c cd /home/cc/orca5/tools/dependencies && git rev-parse --verify HEAD\n",
      "[INFO] Working directory: /home/cc/orca5/tools/dependencies\n",
      "[INFO] Storing buildNumber: 3fa38c44c7f7fae1122916a6649038a75bae38bb at timestamp: 1550850008913\n",
      "[INFO] Storing buildScmBranch: master\n",
      "[INFO] \n",
      "[INFO] <<< maven-source-plugin:2.0.2:test-jar (default) @ dependencies <<<\n",
      "[INFO] \n",
      "[INFO] --- maven-source-plugin:2.0.2:test-jar (default) @ dependencies ---\n",
      "[INFO] NOT adding test sources to attached artifacts for packaging: 'pom'.\n",
      "[INFO] \n",
      "[INFO] --- maven-jar-plugin:2.2:jar (default) @ dependencies ---\n",
      "[WARNING] JAR will be empty - no content was marked for inclusion!\n",
      "[INFO] Building jar: /home/cc/orca5/tools/dependencies/target/orca.dependencies-5.4.9-SNAPSHOT.jar\n",
      "[INFO] \n",
      "[INFO] --- maven-jar-plugin:2.2:test-jar (default) @ dependencies ---\n",
      "[WARNING] JAR will be empty - no content was marked for inclusion!\n",
      "[INFO] Building jar: /home/cc/orca5/tools/dependencies/target/orca.dependencies-5.4.9-SNAPSHOT-tests.jar\n",
      "[INFO] \n",
      "[INFO] --- maven-install-plugin:2.3.1:install (default-install) @ dependencies ---\n",
      "[INFO] Installing /home/cc/orca5/tools/dependencies/pom.xml to /root/.m2/repository/orca/dependencies/5.4.9-SNAPSHOT/dependencies-5.4.9-SNAPSHOT.pom\n",
      "[INFO] Installing /home/cc/orca5/tools/dependencies/target/orca.dependencies-5.4.9-SNAPSHOT-tests.jar to /root/.m2/repository/orca/dependencies/5.4.9-SNAPSHOT/dependencies-5.4.9-SNAPSHOT-tests.jar\n",
      "[INFO]                                                                         \n",
      "[INFO] ------------------------------------------------------------------------\n",
      "[INFO] Building Orca Dependencies AntContrib 5.4.9-SNAPSHOT\n",
      "[INFO] ------------------------------------------------------------------------\n",
      "Downloading: http://ci-dev.renci.org/nexus/content/repositories/geni-orca-libs/bcel/bcel/5.1/bcel-5.1.pom\n",
      "Downloaded: http://ci-dev.renci.org/nexus/content/repositories/geni-orca-libs/bcel/bcel/5.1/bcel-5.1.pom (178 B at 1.1 KB/sec)\n",
      "Downloading: http://ci-dev.renci.org/nexus/content/repositories/geni-orca-libs/commons-logging/commons-logging/1.2/commons-logging-1.2.pom\n",
      "Downloading: http://ci-dev.renci.org/nexus/content/repositories/geni-orca-snapshot/commons-logging/commons-logging/1.2/commons-logging-1.2.pom\n",
      "Downloading: http://ci-dev.renci.org/nexus/content/repositories/geni-orca-release/commons-logging/commons-logging/1.2/commons-logging-1.2.pom\n",
      "Downloading: http://download.java.net/maven/2/commons-logging/commons-logging/1.2/commons-logging-1.2.pom\n",
      "Downloading: http://repository.springsource.com/maven/bundles/release/commons-logging/commons-logging/1.2/commons-logging-1.2.pom\n",
      "Downloading: http://repo.jwhoisserver.net/m2/commons-logging/commons-logging/1.2/commons-logging-1.2.pom\n",
      "Downloading: https://oss.sonatype.org/content/repositories/releases/commons-logging/commons-logging/1.2/commons-logging-1.2.pom\n",
      "Downloaded: https://oss.sonatype.org/content/repositories/releases/commons-logging/commons-logging/1.2/commons-logging-1.2.pom (19 KB at 143.2 KB/sec)\n",
      "Downloading: http://ci-dev.renci.org/nexus/content/repositories/geni-orca-libs/org/apache/commons/commons-parent/34/commons-parent-34.pom\n",
      "Downloading: http://ci-dev.renci.org/nexus/content/repositories/geni-orca-snapshot/org/apache/commons/commons-parent/34/commons-parent-34.pom\n",
      "Downloading: http://ci-dev.renci.org/nexus/content/repositories/geni-orca-release/org/apache/commons/commons-parent/34/commons-parent-34.pom\n",
      "Downloading: http://download.java.net/maven/2/org/apache/commons/commons-parent/34/commons-parent-34.pom\n"
     ]
    }
   ],
   "source": [
    "#Tail log until complete. Note: YOU MUST MANUALLY STOP THIS TO CONTINUE!\n",
    "ssh -i ${SSH_PRIVATE_KEY} \\\n",
    "    -o UserKnownHostsFile=/dev/null \\\n",
    "    -o StrictHostKeyChecking=no \\\n",
    "    cc@${CLIENT_PUBLIC_IP} \\\n",
    "    sudo tail -F /home/cc/boot.log"
   ]
  },
  {
   "cell_type": "markdown",
   "metadata": {},
   "source": [
    "#### Start ExoGENI Client 2"
   ]
  },
  {
   "cell_type": "code",
   "execution_count": null,
   "metadata": {},
   "outputs": [],
   "source": [
    "cd $WORKING_DIR\n",
    "CLIENT_NETWORK='sharednet1'\n",
    "CLIENT_NODE_NAME2=${USERNAME}-client2\n",
    "CLIENT_STACK_NAME2=${USERNAME}-clien2\n",
    "GIT_BRANCH='tridentcom'\n",
    "SLICE_NAME2='c1-tri'\n",
    "IP_PREFIX2='192.168.20.1/24'\n",
    "CLIENT_SITE2='UFL'\n",
    "SAFE_KEYPAIR2='key_p11'\n",
    "\n",
    "echo Creating SDX client. This will take several minutes!\n",
    "openstack stack create  --max-width 80 \\\n",
    "        --template client.yaml \\\n",
    "        --parameter \"key_name=${SSH_KEY_NAME}\" \\\n",
    "        --parameter \"reservation_id=${CLIENT_RESERVATION_ID}\" \\\n",
    "        --parameter \"network_name=${CLIENT_NETWORK}\" \\\n",
    "        --parameter \"client_name=${CLIENT_NODE_NAME2}\" \\\n",
    "        --parameter \"github_branch=${GIT_BRANCH}\" \\\n",
    "        --parameter \"riak_ip=${RIAK_PUBLIC_IP2}\" \\\n",
    "        --parameter \"slice_name=${SLICE_NAME2}\"\\\n",
    "        --parameter \"ip_prefix=${IP_PREFIX2}\"\\\n",
    "        --parameter \"client_site=${CLIENT_SITE2}\"\\\n",
    "        --parameter \"safe_keypair=${SAFE_KEYPAIR2}\"\\\n",
    "        --parameter \"sdx_server=${SDX_PUBLIC_IP}:8888\"\\\n",
    "        --wait \\\n",
    "        ${CLIENT_STACK_NAME2}"
   ]
  },
  {
   "cell_type": "code",
   "execution_count": null,
   "metadata": {},
   "outputs": [],
   "source": [
    "echo SDX client creation complete! \n",
    "echo ${CLIENT_NODE_NAME2} status `openstack server show  --format value -c status ${CLIENT_NODE_NAME2}`\n",
    "\n",
    "CLIENT_PUBLIC_IP2=`openstack server show  --format value -c addresses ${CLIENT_NODE_NAME2} | cut -d \" \" -f 2`\n",
    "echo The client public IP is $CLIENT_PUBLIC_IP2\n",
    "\n",
    "result=255\n",
    "while [[ \"$result\" != \"0\" ]]\n",
    "do \n",
    "    sleep 5\n",
    "\tssh -q -i ${SSH_PRIVATE_KEY} \\\n",
    "    -o UserKnownHostsFile=/dev/null \\\n",
    "    -o StrictHostKeyChecking=no \\\n",
    "    cc@${CLIENT_PUBLIC_IP2} \\\n",
    "    exit\n",
    "\tresult=$?\n",
    "done\n",
    "\n",
    "echo COPY your geni pem to cc@$CLIENT_PUBLIC_IP2:~/geni.pem\n",
    "\n",
    "ssh -i ${SSH_PRIVATE_KEY} \\\n",
    "    -o UserKnownHostsFile=/dev/null \\\n",
    "    -o StrictHostKeyChecking=no \\\n",
    "    cc@${CLIENT_PUBLIC_IP2} \\\n",
    "    sudo tail /root/boot.log\n"
   ]
  },
  {
   "cell_type": "markdown",
   "metadata": {},
   "source": [
    "#### Client 1 stitch to SDX"
   ]
  },
  {
   "cell_type": "code",
   "execution_count": null,
   "metadata": {},
   "outputs": [],
   "source": [
    "ssh -i ${SSH_PRIVATE_KEY} \\\n",
    "    -o UserKnownHostsFile=/dev/null \\\n",
    "    -o StrictHostKeyChecking=no \\\n",
    "    cc@${CLIENT_PUBLIC_IP1} \\\n",
    "    \"cd ~/CICI-SAFE/SDX-Simple &&\n",
    "    sudo ./scripts/sdx_exogeni_client.sh -c ~/client.conf -e 'stitch CNode1 192.168.10.2 192.168.10.1/24'\""
   ]
  },
  {
   "cell_type": "markdown",
   "metadata": {},
   "source": [
    "#### Client 1 advertise its IP prefix"
   ]
  },
  {
   "cell_type": "code",
   "execution_count": null,
   "metadata": {},
   "outputs": [],
   "source": [
    "ssh -i ${SSH_PRIVATE_KEY} \\\n",
    "    -o UserKnownHostsFile=/dev/null \\\n",
    "    -o StrictHostKeyChecking=no \\\n",
    "    cc@${CLIENT_PUBLIC_IP1} \\\n",
    "    \"cd ~/CICI-SAFE/SDX-Simple && pwd&&\n",
    "    sudo ./scripts/sdx_exogeni_client.sh -c ~/client.conf -e 'route 192.168.10.1/24 192.168.10.2'\""
   ]
  },
  {
   "cell_type": "markdown",
   "metadata": {},
   "source": [
    "#### Client 2 stitch to SDX"
   ]
  },
  {
   "cell_type": "code",
   "execution_count": null,
   "metadata": {},
   "outputs": [],
   "source": [
    "ssh -i ${SSH_PRIVATE_KEY} \\\n",
    "    -o UserKnownHostsFile=/dev/null \\\n",
    "    -o StrictHostKeyChecking=no \\\n",
    "    cc@${CLIENT_PUBLIC_IP2} \\\n",
    "    \"cd ~/CICI-SAFE/SDX-Simple && pwd&&\n",
    "    sudo ./scripts/sdx_exogeni_client.sh -c ~/client.conf -e 'stitch CNode1 192.168.20.2 192.168.20.1/24'\""
   ]
  },
  {
   "cell_type": "markdown",
   "metadata": {},
   "source": [
    "#### Client 2 advertise its IP prefix"
   ]
  },
  {
   "cell_type": "code",
   "execution_count": null,
   "metadata": {},
   "outputs": [],
   "source": [
    "ssh -i ${SSH_PRIVATE_KEY} \\\n",
    "    -o UserKnownHostsFile=/dev/null \\\n",
    "    -o StrictHostKeyChecking=no \\\n",
    "    cc@${CLIENT_PUBLIC_IP2} \\\n",
    "    \"cd ~/CICI-SAFE/SDX-Simple && pwd&&\n",
    "    sudo ./scripts/sdx_exogeni_client.sh -c ~/client.conf -e 'route 192.168.20.1/24 192.168.20.2'\""
   ]
  },
  {
   "cell_type": "markdown",
   "metadata": {},
   "source": [
    "#### Connect client 1 and client 2"
   ]
  },
  {
   "cell_type": "code",
   "execution_count": null,
   "metadata": {},
   "outputs": [],
   "source": [
    "ssh -i ${SSH_PRIVATE_KEY} \\\n",
    "    -o UserKnownHostsFile=/dev/null \\\n",
    "    -o StrictHostKeyChecking=no \\\n",
    "    cc@${CLIENT_PUBLIC_IP1} \\\n",
    "    \"cd ~/CICI-SAFE/SDX-Simple && pwd&&\n",
    "    sudo ./scripts/sdx_exogeni_client.sh -c ~/client.conf -e 'link 192.168.10.1/24 192.168.20.1/24'\""
   ]
  },
  {
   "cell_type": "markdown",
   "metadata": {},
   "source": [
    "#### Undo stitching"
   ]
  },
  {
   "cell_type": "code",
   "execution_count": null,
   "metadata": {},
   "outputs": [],
   "source": [
    "ssh -i ${SSH_PRIVATE_KEY} \\\n",
    "    -o UserKnownHostsFile=/dev/null \\\n",
    "    -o StrictHostKeyChecking=no \\\n",
    "    cc@${CLIENT_PUBLIC_IP1} \\\n",
    "    \"cd ~/CICI-SAFE/SDX-Simple &&\n",
    "    sudo ./scripts/sdx_exogeni_client.sh -c ~/client.conf -e 'unstitch CNode1'\""
   ]
  },
  {
   "cell_type": "code",
   "execution_count": null,
   "metadata": {},
   "outputs": [],
   "source": [
    "ssh -i ${SSH_PRIVATE_KEY} \\\n",
    "    -o UserKnownHostsFile=/dev/null \\\n",
    "    -o StrictHostKeyChecking=no \\\n",
    "    cc@${CLIENT_PUBLIC_IP2} \\\n",
    "    \"cd ~/CICI-SAFE/SDX-Simple &&\n",
    "    sudo ./scripts/sdx_exogeni_client.sh -c ~/client.conf -e 'unstitch CNode1'\""
   ]
  },
  {
   "cell_type": "markdown",
   "metadata": {},
   "source": [
    "# Please Cleanup Your Resources!!!\n",
    "\n",
    "#### Delete SDX Stack"
   ]
  },
  {
   "cell_type": "code",
   "execution_count": null,
   "metadata": {},
   "outputs": [],
   "source": [
    "echo Deleting stack ${SDX_STACK_NAME}\n",
    "openstack stack delete -y --wait ${SDX_STACK_NAME}\n",
    "echo Stack ${SDX_STACK_NAME} deleted"
   ]
  },
  {
   "cell_type": "markdown",
   "metadata": {},
   "source": [
    "#### Delete RIAK Stack"
   ]
  },
  {
   "cell_type": "code",
   "execution_count": null,
   "metadata": {},
   "outputs": [],
   "source": [
    "echo Deleting stack ${RIAK_STACK_NAME}\n",
    "openstack stack delete -y --wait ${RIAK_STACK_NAME}\n",
    "echo Stack ${RIAK_STACK_NAME} deleted"
   ]
  },
  {
   "cell_type": "markdown",
   "metadata": {},
   "source": [
    "#### Delete Client Stack"
   ]
  },
  {
   "cell_type": "code",
   "execution_count": null,
   "metadata": {},
   "outputs": [],
   "source": [
    "echo Deleting stack ${CLIENT_STACK_NAME1}\n",
    "openstack stack delete -y --wait ${CLIENT_STACK_NAME1}\n",
    "echo Stack ${CLIENT_STACK_NAME1} deleted"
   ]
  },
  {
   "cell_type": "code",
   "execution_count": null,
   "metadata": {},
   "outputs": [],
   "source": [
    "echo Deleting stack ${CLIENT_STACK_NAME2}\n",
    "openstack stack delete -y --wait ${CLIENT_STACK_NAME2}\n",
    "echo Stack ${CLIENT_STACK_NAME2} deleted"
   ]
  },
  {
   "cell_type": "code",
   "execution_count": null,
   "metadata": {},
   "outputs": [],
   "source": []
  },
  {
   "cell_type": "code",
   "execution_count": null,
   "metadata": {},
   "outputs": [],
   "source": []
  },
  {
   "cell_type": "code",
   "execution_count": null,
   "metadata": {},
   "outputs": [],
   "source": []
  }
 ],
 "metadata": {
  "kernelspec": {
   "display_name": "Bash",
   "language": "bash",
   "name": "bash"
  },
  "language_info": {
   "codemirror_mode": "shell",
   "file_extension": ".sh",
   "mimetype": "text/x-sh",
   "name": "bash"
  }
 },
 "nbformat": 4,
 "nbformat_minor": 2
}
