{
 "cells": [
  {
   "cell_type": "markdown",
   "metadata": {},
   "source": [
    "# Run the CICI SAFE vSDX\n",
    "\n",
    "#### Configure the Envrionment"
   ]
  },
  {
   "cell_type": "code",
   "execution_count": null,
   "metadata": {},
   "outputs": [],
   "source": [
    "# Set up user's project (user's can be multiple ones, so there is no default currently)\n",
    "export OS_PROJECT_NAME='CH-819993'\n",
    "\n",
    "# Set region (again, no default currently)\n",
    "export OS_REGION_NAME='CHI@TACC'\n",
    "\n",
    "# Set chameleon keypair name and path to the private ssh key\n",
    "export SSH_KEY_NAME='yjyao_jupyter1'\n",
    "export SSH_PRIVATE_KEY=${HOME}/.ssh/id_rsa\n",
    "\n",
    "# Set the reservations to use.  \n",
    "# CONTROLLER_RESERVATION_ID can be for any type of node\n",
    "export CLIENT_RESERVATION_ID='c3f9c003-888b-4dbd-86c6-e79a388d136a'\n",
    "\n",
    "#Set the working directory\n",
    "export WORKING_DIR=${HOME}/work/ExoGENI-Client\n",
    "\n",
    "#Set GENI CERT file\n",
    "export GENI_CERT=${HOME}/work/geni.pem\n",
    "\n",
    "export SDX_PUBLIC_IP='129.114.109.69'"
   ]
  },
  {
   "cell_type": "code",
   "execution_count": 2,
   "metadata": {},
   "outputs": [],
   "source": [
    "#need to install exogeni phython script in the container\n",
    "#python delete ${DATAPLANE_SLICE_NAME}"
   ]
  },
  {
   "cell_type": "markdown",
   "metadata": {},
   "source": [
    "#### Start ExoGENI Client"
   ]
  },
  {
   "cell_type": "code",
   "execution_count": 3,
   "metadata": {},
   "outputs": [
    {
     "name": "stdout",
     "output_type": "stream",
     "text": [
      "Creating SDX client. This will take several minutes!\n",
      "ERROR: The Stack (yaoyj11-client2) already exists.\n"
     ]
    },
    {
     "ename": "",
     "evalue": "1",
     "execution_count": 3,
     "output_type": "error",
     "traceback": []
    }
   ],
   "source": [
    "cd $WORKING_DIR\n",
    "CLIENT_NETWORK='sharednet1'\n",
    "CLIENT_NODE_NAME=${USERNAME}-client2\n",
    "CLIENT_STACK_NAME=${USERNAME}-client2\n",
    "GIT_BRANCH='tridentcom'\n",
    "SLICE_NAME=c1-${USERNAME}\n",
    "IP_PREFIX='192.168.20.1/24'\n",
    "CLIENT_SITE='UNF'\n",
    "SAFE_KEYPAIR='key_p11'\n",
    "\n",
    "echo Creating SDX client. This will take several minutes!\n",
    "openstack stack create  --max-width 80 \\\n",
    "        --template ${WORKING_DIR}/client.yaml \\\n",
    "        --parameter \"key_name=${SSH_KEY_NAME}\" \\\n",
    "        --parameter \"reservation_id=${CLIENT_RESERVATION_ID}\" \\\n",
    "        --parameter \"network_name=${CLIENT_NETWORK}\" \\\n",
    "        --parameter \"client_name=${CLIENT_NODE_NAME}\" \\\n",
    "        --parameter \"github_branch=${GIT_BRANCH}\" \\\n",
    "        --parameter \"riak_ip=${RIAK_PUBLIC_IP}\" \\\n",
    "        --parameter \"slice_name=${SLICE_NAME}\"\\\n",
    "        --parameter \"ip_prefix=${IP_PREFIX}\"\\\n",
    "        --parameter \"client_site=${CLIENT_SITE}\"\\\n",
    "        --parameter \"safe_keypair=${SAFE_KEYPAIR}\"\\\n",
    "        --parameter \"sdx_server=${SDX_PUBLIC_IP}:8888\"\\\n",
    "        --wait \\\n",
    "        ${CLIENT_STACK_NAME}"
   ]
  },
  {
   "cell_type": "code",
   "execution_count": null,
   "metadata": {},
   "outputs": [],
   "source": [
    "echo SDX client creation complete! \n",
    "echo ${CLIENT_NODE_NAME} status `openstack server show  --format value -c status ${CLIENT_NODE_NAME}`\n",
    "\n",
    "CLIENT_PUBLIC_IP=`openstack server show  --format value -c addresses ${CLIENT_NODE_NAME} | cut -d \" \" -f 2`\n",
    "echo The client public IP is $CLIENT_PUBLIC_IP\n",
    "\n",
    "\n",
    "#Poll for node to be ready for ssh\n",
    "while [[ true ]]\n",
    "do \n",
    "\tssh -q -i ${SSH_PRIVATE_KEY} \\\n",
    "    -o UserKnownHostsFile=/dev/null \\\n",
    "    -o StrictHostKeyChecking=no \\\n",
    "    cc@${CLIENT_PUBLIC_IP} \\\n",
    "    exit\n",
    "    \n",
    "    if [[ \"$?\" == \"0\" ]]; then break; fi\n",
    "    \n",
    "    echo Node not ready for ssh. retrying in 5 seconds.\n",
    "    sleep 5\n",
    "done\n",
    "\n",
    "echo SDX node ready for ssh"
   ]
  },
  {
   "cell_type": "code",
   "execution_count": 5,
   "metadata": {},
   "outputs": [
    {
     "name": "stdout",
     "output_type": "stream",
     "text": [
      "Copying GENI cert to cc@129.114.108.105:~/geni.pem\n",
      "Done\n"
     ]
    }
   ],
   "source": [
    "#Copy GENI pem file to node\n",
    "REMOTE_GENI_CERT=/home/cc/geni.pem\n",
    "\n",
    "echo Copying GENI cert to cc@$CLIENT_PUBLIC_IP:~/geni.pem\n",
    "scp -q -i ${SSH_PRIVATE_KEY} \\\n",
    "    -o UserKnownHostsFile=/dev/null \\\n",
    "    -o StrictHostKeyChecking=no \\\n",
    "    ${GENI_CERT} \\\n",
    "    cc@${CLIENT_PUBLIC_IP}:${REMOTE_GENI_CERT}\n",
    "echo Done"
   ]
  },
  {
   "cell_type": "code",
   "execution_count": null,
   "metadata": {},
   "outputs": [
    {
     "name": "stdout",
     "output_type": "stream",
     "text": [
      "Warning: Permanently added '129.114.108.105' (ECDSA) to the list of known hosts.\n",
      "[INFO] Installing artifact /root/.m2/repository/commons-cli/commons-cli/1.4/commons-cli-1.4.jar to /home/cc/CICI-SAFE/SDX-Simple/SAFE_SDX/target/appassembler/repo/commons-cli/commons-cli/1.4/commons-cli-1.4.jar\n",
      "[INFO] Installing artifact /home/cc/CICI-SAFE/SDX-Simple/SAFE_SDX/target/exoplex.sdx-simple-0.1-SNAPSHOT.jar to /home/cc/CICI-SAFE/SDX-Simple/SAFE_SDX/target/appassembler/repo/safe/exoplex.sdx-simple/0.1-SNAPSHOT/exoplex.sdx-simple-0.1-SNAPSHOT.jar\n",
      "[INFO] ------------------------------------------------------------------------\n",
      "[INFO] BUILD SUCCESS\n",
      "[INFO] ------------------------------------------------------------------------\n",
      "[INFO] Total time: 1:22.482s\n",
      "[INFO] Finished at: Fri Mar 01 21:00:10 UTC 2019\n",
      "[INFO] Final Memory: 33M/1100M\n",
      "[INFO] ------------------------------------------------------------------------\n",
      "Boot Script Done!\n"
     ]
    }
   ],
   "source": [
    "#Tail log until complete. Note: YOU MUST MANUALLY STOP THIS TO CONTINUE!\n",
    "ssh -i ${SSH_PRIVATE_KEY} \\\n",
    "    -o UserKnownHostsFile=/dev/null \\\n",
    "    -o StrictHostKeyChecking=no \\\n",
    "    cc@${CLIENT_PUBLIC_IP} \\\n",
    "    sudo tail -F /home/cc/boot.log"
   ]
  },
  {
   "cell_type": "markdown",
   "metadata": {},
   "source": [
    "#### Create SAFE keypair"
   ]
  },
  {
   "cell_type": "code",
   "execution_count": null,
   "metadata": {},
   "outputs": [],
   "source": [
    "SAFE_KEYPAIR=\"client2\"\n",
    "\n",
    "ssh -i ${SSH_PRIVATE_KEY} \\\n",
    "    -o UserKnownHostsFile=/dev/null \\\n",
    "    -o StrictHostKeyChecking=no \\\n",
    "    cc@${CLIENT_PUBLIC_IP} \\\n",
    "    'sudo docker exec -itd safe /bin/bash /root/safe_keygen.sh '${SAFE_KEYPAIR}' /root/safe/safe-server/src/main/resources/prdnsmall'\n",
    "\n",
    "res=$(curl http://${CLIENT_PUBLIC_IP}:7777/whoami \\\n",
    "     -H \"Cntent-Type:application/json\" \\\n",
    "     -d '{\"principal\":\"'${SAFE_KEYPAIR}'\",\"methodParams\":[]}'\n",
    "     )\n",
    "     \n",
    "principalId=$(echo $res | cut -d\"'\" -f 2)\n",
    "\n",
    "echo principalId for ${SAFE_KEYPAIR} is $principalId\n"
   ]
  },
  {
   "cell_type": "code",
   "execution_count": null,
   "metadata": {},
   "outputs": [],
   "source": [
    "LOCAL_CLIENT_CONFIG=${WORKING_DIR}/client1.conf\n",
    "\n",
    "REMOTE_CLIENT_CONFIG=/home/cc/client1.conf\n",
    "REMOTE_WORKING_DIR=/home/cc\n",
    "REMOTE_BIN_DIR=${REMOTE_WORKING_DIR}/CICI-SAFE/SDX-Simple/SAFE_SDX/target/appassembler/bin\n",
    "\n",
    "cat << EOF > $LOCAL_CLIENT_CONFIG\n",
    "config {\n",
    "slicename=\"${SLICE_NAME}\"\n",
    "type=\"client\"\n",
    "sshkey=\"/root/.ssh/id_rsa\"\n",
    "safekey=\"${SAFE_KEYPAIR}\"\n",
    "safeserver=\"127.0.0.1\"\n",
    "safe=true\n",
    "serverinslice=false\n",
    "exogenipem=\"${REMOTE_GENI_CERT}\"\n",
    "exogenism=\"https://geni.renci.org:11443/orca/xmlrpc\"\n",
    "scriptsdir=\"${REMOTE_WORKING_DIR}/CICI-SAFE/SDX-Simple/SAFE_SDX/src/main/resources/scripts/\"\n",
    "resourcedir=\"${REMOTE_WORKING_DIR}/CICI-SAFE/SDX-Simple/SAFE_SDX/src/main/resources/\"\n",
    "ipprefix=\"${IP_PREFIX}\"\n",
    "serverurl=\"http://${SDX_PUBLIC_IP}:8888/\"\n",
    "routersite=\"${CLIENT_SITE}\"\n",
    "}\n",
    "EOF\n",
    "\n",
    "echo Copying SDX config to cc@$CLIENT_PUBLIC_IP\n",
    "scp -q -i ${SSH_PRIVATE_KEY} \\\n",
    "    -o UserKnownHostsFile=/dev/null \\\n",
    "    -o StrictHostKeyChecking=no \\\n",
    "    $LOCAL_CLIENT_CONFIG \\\n",
    "    cc@${CLIENT_PUBLIC_IP}:${REMOTE_CLIENT_CONFIG}\n",
    "echo Done"
   ]
  },
  {
   "cell_type": "code",
   "execution_count": null,
   "metadata": {},
   "outputs": [],
   "source": [
    "echo Start Client Slice\n",
    "\n",
    "echo $REMOTE_CLIENT_CONFIG\n",
    "\n",
    "ssh -i ${SSH_PRIVATE_KEY} \\\n",
    "    -o UserKnownHostsFile=/dev/null \\\n",
    "    -o StrictHostKeyChecking=no \\\n",
    "    cc@${CLIENT_PUBLIC_IP} \\\n",
    "    sudo ${REMOTE_BIN_DIR}/SafeSdxClientSliceServer -c $REMOTE_CLIENT_CONFIG\n",
    "\n",
    "echo \"Slice creation done\"\n",
    "#cd ${HOME}/work/CICI-SAFE/SDX-Simple\n",
    "#./scripts/build.sh\n",
    "#./scripts/createclientslice.sh -c $LOCAL_CLIENT_CONFIG"
   ]
  },
  {
   "cell_type": "markdown",
   "metadata": {},
   "source": [
    "#### Client 2 stitch to SDX"
   ]
  },
  {
   "cell_type": "code",
   "execution_count": null,
   "metadata": {},
   "outputs": [],
   "source": [
    "ssh -i ${SSH_PRIVATE_KEY} \\\n",
    "    -o UserKnownHostsFile=/dev/null \\\n",
    "    -o StrictHostKeyChecking=no \\\n",
    "    cc@${CLIENT_PUBLIC_IP} \\\n",
    "    \"sudo ${REMOTE_BIN_DIR}/SafeSdxExogeniClient -c ${REMOTE_CLIENT_CONFIG} -e 'stitch CNode1 192.168.20.2 192.168.20.1/24'\""
   ]
  },
  {
   "cell_type": "markdown",
   "metadata": {},
   "source": [
    "#### Client 2 advertise its IP prefix"
   ]
  },
  {
   "cell_type": "code",
   "execution_count": null,
   "metadata": {},
   "outputs": [],
   "source": [
    "ssh -i ${SSH_PRIVATE_KEY} \\\n",
    "    -o UserKnownHostsFile=/dev/null \\\n",
    "    -o StrictHostKeyChecking=no \\\n",
    "    cc@${CLIENT_PUBLIC_IP} \\\n",
    "    \"sudo ${REMOTE_BIN_DIR}/SafeSdxExogeniClient -c ${REMOTE_CLIENT_CONFIG} -e 'route 192.168.20.1/24 192.168.20.2'\""
   ]
  },
  {
   "cell_type": "markdown",
   "metadata": {},
   "source": [
    "#### Connect client 1 and client 2"
   ]
  },
  {
   "cell_type": "code",
   "execution_count": null,
   "metadata": {},
   "outputs": [],
   "source": [
    "ssh -i ${SSH_PRIVATE_KEY} \\\n",
    "    -o UserKnownHostsFile=/dev/null \\\n",
    "    -o StrictHostKeyChecking=no \\\n",
    "    cc@${CLIENT_PUBLIC_IP} \\\n",
    "    \"sudo ${REMOTE_BIN_DIR}/SafeSdxExogeniClient -c ${REMOTE_CLIENT_CONFIG} -e 'link 192.168.20.1/24 192.168.10.1/24'\""
   ]
  },
  {
   "cell_type": "markdown",
   "metadata": {},
   "source": [
    "#### Undo stitching"
   ]
  },
  {
   "cell_type": "code",
   "execution_count": null,
   "metadata": {},
   "outputs": [],
   "source": [
    "ssh -i ${SSH_PRIVATE_KEY} \\\n",
    "    -o UserKnownHostsFile=/dev/null \\\n",
    "    -o StrictHostKeyChecking=no \\\n",
    "    cc@${CLIENT_PUBLIC_IP} \\\n",
    "    \"sudo ${REMOTE_BIN_DIR}/SafeSdxExogeniClient -c ${REMOTE_CLIENT_CONFIG} -e 'unstitch CNode1'\""
   ]
  },
  {
   "cell_type": "markdown",
   "metadata": {},
   "source": [
    "# Please Cleanup Your Resources!!!\n",
    "\n",
    "#### Delete Dataplane Slice"
   ]
  },
  {
   "cell_type": "markdown",
   "metadata": {},
   "source": [
    "#### Delete Client Stack"
   ]
  },
  {
   "cell_type": "code",
   "execution_count": null,
   "metadata": {},
   "outputs": [],
   "source": [
    "echo Deleting stack ${CLIENT_STACK_NAME}\n",
    "openstack stack delete -y --wait ${CLIENT_STACK_NAME}\n",
    "echo Stack ${CLIENT_STACK_NAME} deleted"
   ]
  },
  {
   "cell_type": "code",
   "execution_count": null,
   "metadata": {},
   "outputs": [],
   "source": []
  },
  {
   "cell_type": "code",
   "execution_count": null,
   "metadata": {},
   "outputs": [],
   "source": []
  },
  {
   "cell_type": "code",
   "execution_count": null,
   "metadata": {},
   "outputs": [],
   "source": []
  }
 ],
 "metadata": {
  "kernelspec": {
   "display_name": "Bash",
   "language": "bash",
   "name": "bash"
  },
  "language_info": {
   "codemirror_mode": "shell",
   "file_extension": ".sh",
   "mimetype": "text/x-sh",
   "name": "bash"
  }
 },
 "nbformat": 4,
 "nbformat_minor": 2
}
