{
 "cells": [
  {
   "cell_type": "markdown",
   "metadata": {},
   "source": [
    "## Tutorial: Create an Isolated VLAN and Servers\n",
    "\n",
    "This notebook demonstrates how to create isolated VLANs and attach servers. Works after creating networks with corsa-eval-tacc\n",
    "\n",
    "\n",
    "#### Modules \n",
    "\n",
    "- [Reserve a Mulitple Resources](../modules-python/reservations/reserve_multiple_resources.ipynb)\n",
    "- [Get Lease by Name](../modules-python/reservations/get_lease_by_name.ipynb)\n",
    "- [Get Reservation](../modules-python/reservations/get_reservations_from_lease.ipynb)\n",
    "- [Create Server](../modules-python/servers/create_server.ipynb)\n",
    "- [Delete Server](../modules-python/servers/delete_server.ipynb)\n",
    "- [Create Network](../modules-python/network/create_network.ipynb)\n",
    "- [Delete Network](../modules-python/network/delete_network.ipynb)\n",
    "- [Create Subnet](../modules-python/network/create_subnet.ipynb)\n",
    "- [Delete Subnet](../modules-python/network/delete_subnet.ipynb)\n",
    "\n",
    "#### Import Library\n",
    "\n",
    "```\n",
    "import chi\n",
    "from chi.server_api_examples import *\n",
    "from chi.reservation_api_examples import *\n",
    "from chi.networking_api_examples import *\n",
    "```\n",
    "\n",
    "\n"
   ]
  },
  {
   "cell_type": "markdown",
   "metadata": {},
   "source": [
    "## Tutorial: "
   ]
  },
  {
   "cell_type": "markdown",
   "metadata": {},
   "source": [
    "#### Configure the Environment"
   ]
  },
  {
   "cell_type": "code",
   "execution_count": null,
   "metadata": {},
   "outputs": [],
   "source": [
    "import json\n",
    "import os\n",
    "import chi\n",
    "import time\n",
    "\n",
    "from chi.server_api_examples import *\n",
    "from chi.reservation_api_examples import *\n",
    "from chi.networking_api_examples import *\n",
    "\n",
    "#Config with your project and site\n",
    "chi.set('project_name', 'CICI SAFE') # Replace with your project name\n",
    "chi.set('region_name', 'CHI@TACC')     # Optional, defaults to 'CHI@UC'\n",
    "\n",
    "#Insert keypair name\n",
    "key_name = 'dukepc'  # Change to your keypair\n",
    "\n",
    "# Tip: Name resources with your username for easier identification\n",
    "username = os.getenv(\"USER\")\n",
    "\n",
    "suffix = \"v4\"\n",
    "\n",
    "vfc_name = username + \"vfc\" + suffix\n",
    "\n",
    "server_name1 = username+'Server1' + suffix\n",
    "network_name1 = vfc_name+'Net1' + suffix\n",
    "subnet_name1 = username+'subnet1' + suffix\n",
    "router_name1 = username+'Router1' + suffix\n",
    "subnet1 = \"192.168.110.1/24\"\n",
    "\n",
    "network_name3 = vfc_name+'ExoGENINet3' + suffix\n",
    "subnet_name3 = username+'subnet3' + suffix\n",
    "router_name3 = username+'Router3' + suffix\n",
    "subnet3 = \"192.168.160.1/24\"\n",
    "\n",
    "sdn_controller_ip = \"24.163.82.116\"\n",
    "#sdn_controller_ip = \"129.114.109.117\"\n",
    "sdn_controller_port = \"6633\"\n",
    "\n",
    "node_lease_name = username + 'vfcnodes' + suffix\n",
    "net_lease_name1= username+'vfcevalnet1' + suffix\n",
    "net_lease_name3= username+'vfcevalnet3' + suffix\n",
    "\n",
    "#Server attributes\n",
    "image_name='CC-Ubuntu16.04'\n",
    "flavor_name='baremetal'\n",
    "node_type=\"compute_skylake\"\n",
    "server_count=1\n",
    "physical_network=\"physnet1\"\n",
    "exogeni_network=\"exogeni\"\n",
    "\n",
    "DAYS = 7\n",
    "\n"
   ]
  },
  {
   "cell_type": "markdown",
   "metadata": {},
   "source": [
    "#### Create a Lease"
   ]
  },
  {
   "cell_type": "code",
   "execution_count": null,
   "metadata": {},
   "outputs": [],
   "source": [
    "# Set start/end date for lease\n",
    "# Start one minute into future to avoid Blazar thinking lease is in past\n",
    "# due to rounding to closest minute.\n",
    "\n",
    "start_date = (datetime.now(tz=tz.tzutc()) + timedelta(minutes=1)).strftime(BLAZAR_TIME_FORMAT)\n",
    "end_date   = (datetime.now(tz=tz.tzutc()) + timedelta(days=DAYS)).strftime(BLAZAR_TIME_FORMAT)\n",
    "\n",
    "# Build list of reservations (in this case there is only one reservation)\n",
    "reservation_list = []\n",
    "add_node_reservation(reservation_list, count=server_count, node_type=node_type)\n",
    "#add_network_reservation(reservation_list, network_name=network_name1, of_controller_ip = sdn_controller_ip, of_controller_port = sdn_controller_port, vswitch_name = vfc_name, physical_network=physical_network)\n",
    "#add_network_reservation(reservation_list, network_name=network_name2, of_controller_ip = sdn_controller_ip, of_controller_port = sdn_controller_port, vswitch_name = vfc_name, physical_network=physical_network)\n",
    "#add_fip_reservation(reservation_list, count=1)\n",
    "\n",
    "# Create the lease\n",
    "chi.blazar().lease.create(name=node_lease_name, \n",
    "                            start=start_date,\n",
    "                            end=end_date,\n",
    "                            reservations=reservation_list, events=[])\n"
   ]
  },
  {
   "cell_type": "code",
   "execution_count": null,
   "metadata": {},
   "outputs": [],
   "source": [
    "# Reserve networks\n",
    "start_date = (datetime.now(tz=tz.tzutc()) + timedelta(minutes=1)).strftime(BLAZAR_TIME_FORMAT)\n",
    "end_date   = (datetime.now(tz=tz.tzutc()) + timedelta(days=DAYS)).strftime(BLAZAR_TIME_FORMAT)\n",
    "\n",
    "# Build list of reservations (in this case there is only one reservation)\n",
    "reservation_list = []\n",
    "#add_node_reservation(reservation_list, count=server_count, node_type=node_type)\n",
    "add_network_reservation(reservation_list, network_name=network_name1, of_controller_ip = sdn_controller_ip, of_controller_port = sdn_controller_port, vswitch_name = vfc_name, physical_network=physical_network)\n",
    "#add_network_reservation(reservation_list, network_name=network_name2, of_controller_ip = sdn_controller_ip, of_controller_port = sdn_controller_port, vswitch_name = vfc_name, physical_network=physical_network)\n",
    "#add_network_reservation(reservation_list, network_name=network_name3, of_controller_ip = sdn_controller_ip, of_controller_port = sdn_controller_port, vswitch_name = vfc_name, physical_network=exogeni_network)\n",
    "#add_fip_reservation(reservation_list, count=1)\n",
    "\n",
    "# Create the lease\n",
    "chi.blazar().lease.create(name=net_lease_name1, \n",
    "                            start=start_date,\n",
    "                            end=end_date,\n",
    "                            reservations=reservation_list, events=[])\n",
    "\n"
   ]
  },
  {
   "cell_type": "code",
   "execution_count": null,
   "metadata": {},
   "outputs": [],
   "source": [
    "# Reserve networks\n",
    "start_date = (datetime.now(tz=tz.tzutc()) + timedelta(minutes=1)).strftime(BLAZAR_TIME_FORMAT)\n",
    "end_date   = (datetime.now(tz=tz.tzutc()) + timedelta(days=DAYS)).strftime(BLAZAR_TIME_FORMAT)\n",
    "\n",
    "# Build list of reservations (in this case there is only one reservation)\n",
    "reservation_list = []\n",
    "#add_node_reservation(reservation_list, count=server_count, node_type=node_type)\n",
    "#add_network_reservation(reservation_list, network_name=network_name1, of_controller_ip = sdn_controller_ip, of_controller_port = sdn_controller_port, vswitch_name = vfc_name, physical_network=physical_network)\n",
    "#add_network_reservation(reservation_list, network_name=network_name2, of_controller_ip = sdn_controller_ip, of_controller_port = sdn_controller_port, vswitch_name = vfc_name, physical_network=physical_network)\n",
    "add_network_reservation(reservation_list, network_name=network_name3, of_controller_ip = sdn_controller_ip, of_controller_port = sdn_controller_port, vswitch_name = vfc_name, physical_network=exogeni_network)\n",
    "#add_fip_reservation(reservation_list, count=1)\n",
    "\n",
    "# Create the lease\n",
    "chi.blazar().lease.create(name=net_lease_name3, \n",
    "                            start=start_date,\n",
    "                            end=end_date,\n",
    "                            reservations=reservation_list, events=[])\n",
    "\n"
   ]
  },
  {
   "cell_type": "markdown",
   "metadata": {},
   "source": [
    "#### Get the Reservations"
   ]
  },
  {
   "cell_type": "code",
   "execution_count": null,
   "metadata": {},
   "outputs": [],
   "source": [
    "#Get the lease by name\n",
    "lease = get_lease_by_name(node_lease_name)\n",
    "\n",
    "#Print the lease info\n",
    "print(json.dumps(lease, indent=2))\n",
    "\n",
    "compute_reservation_id = list(filter(lambda reservation: reservation['resource_type'] == 'physical:host', lease['reservations']))[0]['id']\n",
    "#network_reservation_id = list(filter(lambda reservation: reservation['resource_type'] == 'network', lease['reservations']))[0]['id']\n",
    "#floatingip_reservation_id = list(filter(lambda reservation: reservation['resource_type'] == 'virtual:floatingip', lease['reservations']))[0]['id']\n",
    "\n",
    "print(\"compute_reservation_id: \" + compute_reservation_id)\n",
    "\n",
    "#print(\"network_reservation_id: \" + network_reservation_id)\n",
    "#print(\"floatingip_reservation_id: \" + floatingip_reservation_id)"
   ]
  },
  {
   "cell_type": "markdown",
   "metadata": {},
   "source": [
    "#### Configute the Network"
   ]
  },
  {
   "cell_type": "code",
   "execution_count": null,
   "metadata": {},
   "outputs": [],
   "source": [
    "time.sleep(90)\n",
    "\n",
    "network1 = get_network_by_name(network_name1)\n",
    "network_id1 = network1['id']\n",
    "print('Network ID1: ' + str(network_id1))\n",
    "network_vlan1 = network1['provider:segmentation_id']\n",
    "print('network_vlan1: ' + str(network_vlan1))"
   ]
  },
  {
   "cell_type": "code",
   "execution_count": null,
   "metadata": {},
   "outputs": [],
   "source": [
    "subnet1 = add_subnet(subnet_name1, network_name1, cidr = subnet1)\n",
    "router1 = create_router(router_name1, \"public\")\n",
    "attach_router_to_subnet(router_name=router_name1, subnet_name=subnet_name1)"
   ]
  },
  {
   "cell_type": "code",
   "execution_count": null,
   "metadata": {},
   "outputs": [],
   "source": [
    "network3 = get_network_by_name(network_name3)\n",
    "print(network_name3)\n",
    "network_id3 = network3['id']\n",
    "print('Network ID3: ' + str(network_id3))\n",
    "network_vlan3 = network3['provider:segmentation_id']\n",
    "print('network_vlan3: ' + str(network_vlan3))"
   ]
  },
  {
   "cell_type": "markdown",
   "metadata": {},
   "source": [
    "#### Start the Server"
   ]
  },
  {
   "cell_type": "code",
   "execution_count": null,
   "metadata": {},
   "outputs": [],
   "source": [
    "#create the server\n",
    "server1 = create_server(server_name1, \n",
    "                       reservation_id=compute_reservation_id, \n",
    "                       key_name=key_name, \n",
    "                       network_name=network_name1, \n",
    "                       image_name=image_name, \n",
    "                       flavor_name=flavor_name)"
   ]
  },
  {
   "cell_type": "markdown",
   "metadata": {},
   "source": [
    "#### Associate the Floating IP   (TODO: need to find floating_ip from the reservation that was just made)"
   ]
  },
  {
   "cell_type": "code",
   "execution_count": null,
   "metadata": {},
   "outputs": [],
   "source": [
    "time.sleep(1200)"
   ]
  },
  {
   "cell_type": "code",
   "execution_count": null,
   "metadata": {},
   "outputs": [],
   "source": [
    "floating_ip1 = associate_floating_ip(server_name1)\n",
    "print('Floating IP: ' + str(floating_ip1))"
   ]
  },
  {
   "cell_type": "markdown",
   "metadata": {},
   "source": [
    "#### Delete Server"
   ]
  },
  {
   "cell_type": "markdown",
   "metadata": {},
   "source": [
    "delete_server_by_name(server_name1)"
   ]
  },
  {
   "cell_type": "markdown",
   "metadata": {},
   "source": [
    "delete_server_by_name(server_name2)"
   ]
  },
  {
   "cell_type": "markdown",
   "metadata": {},
   "source": [
    "#### De-configure Network"
   ]
  },
  {
   "cell_type": "code",
   "execution_count": null,
   "metadata": {},
   "outputs": [],
   "source": [
    "try:\n",
    "    result = detach_router_by_name(router_name=router_name1, subnet_name=subnet_name1)\n",
    "   # result = detach_router_by_name(router_name=router_name2, subnet_name=subnet_name2)\n",
    "    #result = detach_router_by_name(router_name=router_name3, subnet_name=subnet_name3)\n",
    "except Exception as e:\n",
    "    print(\"detach_router_by_name error:\" + str(e))\n",
    "    pass\n",
    "\n",
    "try:\n",
    "    result = delete_router_by_name(router_name1)\n",
    "    #result = delete_router_by_name(router_name2)\n",
    "    #result = delete_router_by_name(router_name3)\n",
    "except Exception as e:\n",
    "    print(\"delete_router_by_name error: \" + str(e))\n",
    "    pass\n",
    "\n",
    "try:\n",
    "    result = delete_subnet_by_name(subnet_name1)\n",
    "    #result = delete_subnet_by_name(subnet_name2)\n",
    "    #result = delete_subnet_by_name(subnet_name3)\n",
    "except Exception as e:\n",
    "    print(\"delete_subnet_by_name error: \" + str(e))\n",
    "    pass\n",
    "\n",
    "try:\n",
    "    print(\"\")\n",
    "    #result = delete_network_by_name(network_name1)\n",
    "    #result = delete_network_by_name(network_name2)\n",
    "   # result = delete_network_by_name(network_name3)\n",
    "except Exception as e:\n",
    "    print(\"delete_network_by_name error: \" + str(e))\n",
    "    pass"
   ]
  },
  {
   "cell_type": "markdown",
   "metadata": {},
   "source": [
    "#### Release Lease"
   ]
  },
  {
   "cell_type": "markdown",
   "metadata": {},
   "source": [
    "delete_lease_by_name(node_lease_name)\n"
   ]
  },
  {
   "cell_type": "markdown",
   "metadata": {},
   "source": [
    "delete_lease_by_name(net_lease_name1)"
   ]
  },
  {
   "cell_type": "code",
   "execution_count": null,
   "metadata": {},
   "outputs": [],
   "source": []
  },
  {
   "cell_type": "code",
   "execution_count": null,
   "metadata": {},
   "outputs": [],
   "source": []
  }
 ],
 "metadata": {
  "kernelspec": {
   "display_name": "Python 3",
   "language": "python",
   "name": "python3"
  },
  "language_info": {
   "codemirror_mode": {
    "name": "ipython",
    "version": 3
   },
   "file_extension": ".py",
   "mimetype": "text/x-python",
   "name": "python",
   "nbconvert_exporter": "python",
   "pygments_lexer": "ipython3",
   "version": "3.7.6"
  }
 },
 "nbformat": 4,
 "nbformat_minor": 4
}
