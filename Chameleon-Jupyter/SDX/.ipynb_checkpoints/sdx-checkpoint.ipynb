{
 "cells": [
  {
   "cell_type": "markdown",
   "metadata": {},
   "source": [
    "# Run the CICI SAFE vSDX\n",
    "\n",
    "#### Configure the Envrionment"
   ]
  },
  {
   "cell_type": "code",
   "execution_count": 1,
   "metadata": {},
   "outputs": [],
   "source": [
    "# Set up user's project (user's can be multiple ones, so there is no default currently)\n",
    "export OS_PROJECT_NAME='CH-816532'\n",
    "\n",
    "# Set region (again, no default currently)\n",
    "export OS_REGION_NAME='CHI@UC'\n",
    "\n",
    "# Set chameleon keypair name and path to the private ssh key\n",
    "export SSH_KEY_NAME=${USERNAME}-chameleon-jupyter\n",
    "export SSH_PRIVATE_KEY=${HOME}/work/${SSH_KEY_NAME}\n",
    "\n",
    "# Set the reservations to use.  \n",
    "# CONTROLLER_RESERVATION_ID can be for any type of node\n",
    "# NODE_RESERVATION_ID must be for Skylake nodes\n",
    "export CONTROLLER_RESERVATION_ID='df3dee64-4298-40bd-a535-ec7cffc41176'\n",
    "export NODE_RESERVATION_ID='df3dee64-4298-40bd-a535-ec7cffc41176'"
   ]
  },
  {
   "cell_type": "markdown",
   "metadata": {},
   "source": [
    "#### Start the vSDX  "
   ]
  },
  {
   "cell_type": "code",
   "execution_count": 3,
   "metadata": {},
   "outputs": [],
   "source": [
    "# Set the name of the orcestration stack. We suggest embedding your user\n",
    "# name or some other identifiable string to make it easier to find\n",
    "# you nodes.  This is especially important if you are in a formal \n",
    "# tutorial with many other participants.\n",
    "CONTROLLER_STACK_NAME=${USERNAME}\"_controller_stack\"\n",
    "\n",
    "# Set the controller node name. See above about using \n",
    "# identifiable names.\n",
    "CONTROLLER_NODE_NAME=${USERNAME}\"_controller\"\n",
    "\n",
    "# Set the network that the controller uses to communicate with the swtich.\n",
    "# This networks must be accessible on the Internet and will not be the network\n",
    "# that the controller is managing. We suggest using \"sharednet1\"\n",
    "CONTROLLER_NETWORK=\"sharednet1\"\n",
    "\n",
    "#Configure the OpenFlow port to be used by the \n",
    "CONTROLLER_OPENFLOW_PORT=6653"
   ]
  },
  {
   "cell_type": "code",
   "execution_count": 4,
   "metadata": {},
   "outputs": [
    {
     "name": "stdout",
     "output_type": "stream",
     "text": [
      "Creating controller. This will take several minutes!\n",
      "2019-02-11 17:13:31Z [pruth_controller_stack]: CREATE_IN_PROGRESS  Stack CREATE started\n",
      "2019-02-11 17:13:32Z [pruth_controller_stack.controller_floating_ip]: CREATE_IN_PROGRESS  state changed\n",
      "2019-02-11 17:13:34Z [pruth_controller_stack.controller]: CREATE_IN_PROGRESS  state changed\n",
      "2019-02-11 17:13:34Z [pruth_controller_stack.controller_floating_ip]: CREATE_COMPLETE  state changed\n",
      "2019-02-11 17:20:47Z [pruth_controller_stack.controller]: CREATE_COMPLETE  state changed\n",
      "2019-02-11 17:20:48Z [pruth_controller_stack.controller_ip_association]: CREATE_IN_PROGRESS  state changed\n",
      "2019-02-11 17:20:57Z [pruth_controller_stack.controller_ip_association]: CREATE_COMPLETE  state changed\n",
      "2019-02-11 17:20:57Z [pruth_controller_stack]: CREATE_COMPLETE  Stack CREATE completed successfully\n",
      "+---------------------+--------------------------------------------------------+\n",
      "| Field               | Value                                                  |\n",
      "+---------------------+--------------------------------------------------------+\n",
      "| id                  | 293f7cb7-fb9e-460b-bbfb-0ee4a055db09                   |\n",
      "| stack_name          | pruth_controller_stack                                 |\n",
      "| description         | Ryu OpenFlow controller deployed with Heat on          |\n",
      "|                     | Chameleon                                              |\n",
      "| creation_time       | 2019-02-11T17:13:31Z                                   |\n",
      "| updated_time        | None                                                   |\n",
      "| stack_status        | CREATE_COMPLETE                                        |\n",
      "| stack_status_reason | Stack CREATE completed successfully                    |\n",
      "+---------------------+--------------------------------------------------------+\n",
      "Controller creation complete!\n",
      "pruth_controller status ACTIVE\n"
     ]
    }
   ],
   "source": [
    "echo Creating controller. This will take several minutes!\n",
    "openstack stack create --max-width 80 \\\n",
    "   --template \"/home/..../ client.yaml\" \\\n",
    "   --parameter \"key_name=${SSH_KEY_NAME}\" \\\n",
    "   --parameter \"reservation_id=${CONTROLLER_RESERVATION_ID}\" \\\n",
    "   --parameter \"ryu_port=${CONTROLLER_OPENFLOW_PORT}\" \\\n",
    "   --parameter \"network_name=${CONTROLLER_NETWORK}\" \\\n",
    "   --parameter \"controller_name=${CONTROLLER_NODE_NAME}\" \\\n",
    "   --wait \\\n",
    "   ${CONTROLLER_STACK_NAME}\n",
    "   \n",
    "echo Controller creation complete! \n",
    "echo ${CONTROLLER_NODE_NAME} status `openstack server show  --format value -c status ${CONTROLLER_NODE_NAME}`"
   ]
  },
  {
   "cell_type": "code",
   "execution_count": 2,
   "metadata": {},
   "outputs": [
    {
     "name": "stdout",
     "output_type": "stream",
     "text": [
      "usage: openstack server show [-h] [-f {json,shell,table,value,yaml}]\n",
      "                             [-c COLUMN] [--noindent] [--prefix PREFIX]\n",
      "                             [--max-width <integer>] [--fit-width]\n",
      "                             [--print-empty] [--diagnostics]\n",
      "                             <server>\n",
      "openstack server show: error: the following arguments are required: <server>\n",
      "The controller public IP is\n",
      "Please wait a few more minutes until the controller is completely configured and ready for logins.\n"
     ]
    }
   ],
   "source": [
    "CONTROLLER_PUBLIC_IP=`openstack server show  --format value -c addresses ${CONTROLLER_NODE_NAME} | cut -d \" \" -f 2`\n",
    "echo The controller public IP is $CONTROLLER_PUBLIC_IP\n",
    "\n",
    "echo Please wait a few more minutes until the controller is completely configured and ready for logins."
   ]
  },
  {
   "cell_type": "markdown",
   "metadata": {},
   "source": [
    "#### View the controller log file"
   ]
  },
  {
   "cell_type": "markdown",
   "metadata": {},
   "source": [
    "The controller node will be automatically configured with the simple Ryu controller service ready for an OpenFlow switch to attach to it. It will be useful to view the Ryu log file within the controller at various steps in this tutorial, as well as when modifying the controller for your experiment(s).   \n",
    "\n",
    "You can view the tail of the log file in thie notbook with the following cell.  A jupyter notebook can only run one cell at a time and cannot continously watch the log as you proceed with the tutorial. You can rerun this cell at anytime but may wish to open a terminal window on you local machine (or within this Jupyter container) and continuously watch the controller log.  \n",
    "\n",
    "Note that you will likely need to wait several minutes after the controller node is ACTIVE before the controller server is completely configured and ready."
   ]
  },
  {
   "cell_type": "code",
   "execution_count": 6,
   "metadata": {},
   "outputs": [
    {
     "name": "stdout",
     "output_type": "stream",
     "text": [
      "Warning: Permanently added '192.5.87.108' (ECDSA) to the list of known hosts.\n",
      "loading app /opt/ryu/simple_switch_13_custom_chameleon.py\n",
      "loading app ryu.controller.ofp_handler\n",
      "instantiating app /opt/ryu/simple_switch_13_custom_chameleon.py of SimpleSwitch13\n",
      "instantiating app ryu.controller.ofp_handler of OFPHandler\n"
     ]
    }
   ],
   "source": [
    "CONTROLLER_PUBLIC_IP=`openstack server show --format value -c addresses ${CONTROLLER_NODE_NAME} | cut -d \" \" -f 2`\n",
    "\n",
    "ssh -i ${SSH_PRIVATE_KEY} \\\n",
    "    -o UserKnownHostsFile=/dev/null \\\n",
    "    -o StrictHostKeyChecking=no \\\n",
    "    cc@${CONTROLLER_PUBLIC_IP} \\\n",
    "    tail -n 20 /var/log/ryu/ryu-manager.log \n"
   ]
  },
  {
   "cell_type": "markdown",
   "metadata": {},
   "source": [
    "#### Start the OpenFlow Switch"
   ]
  },
  {
   "cell_type": "code",
   "execution_count": 7,
   "metadata": {},
   "outputs": [],
   "source": [
    "# Set the subnet to use on the OpenFlow network\n",
    "OPENFLOW_NETWORK_SUBNET_CIDR=\"192.168.100.0/24\"\n",
    "\n",
    "# Set the OpenStack names for the network, subnet, router, and switch. \n",
    "# See above about using identifiable names.  \n",
    "# Note that OPENFLOW_SWITCH_NAME cannot include the '-' character.\n",
    "OPENFLOW_NETWORK_NAME=${USERNAME}\"Network\"\n",
    "OPENFLOW_SUBNET_NAME=${USERNAME}\"Subnet\"\n",
    "OPENFLOW_ROUTER_NAME=${USERNAME}\"Router\"\n",
    "\n",
    "# Note that OPENFLOW_SWITCH_NAME cannot include the '-' character. \n",
    "# This name is used to add additional uplink ports to the same OpenFlow switch.\n",
    "OPENFLOW_SWITCH_NAME=${USERNAME}\"Switch\""
   ]
  },
  {
   "cell_type": "code",
   "execution_count": 8,
   "metadata": {},
   "outputs": [
    {
     "name": "stdout",
     "output_type": "stream",
     "text": [
      "Creating network pruthNetwork\n",
      "+---------------------------+--------------------------------------------------+\n",
      "| Field                     | Value                                            |\n",
      "+---------------------------+--------------------------------------------------+\n",
      "| admin_state_up            | UP                                               |\n",
      "| availability_zone_hints   |                                                  |\n",
      "| availability_zones        |                                                  |\n",
      "| created_at                | 2019-02-11T17:44:33Z                             |\n",
      "| description               | OFController=192.5.87.108:6653,VSwitchName=pruth |\n",
      "|                           | Switch                                           |\n",
      "| dns_domain                | None                                             |\n",
      "| id                        | bd81ab90-bef7-4aee-af91-fd8d02f1e216             |\n",
      "| ipv4_address_scope        | None                                             |\n",
      "| ipv6_address_scope        | None                                             |\n",
      "| is_default                | None                                             |\n",
      "| is_vlan_transparent       | None                                             |\n",
      "| location                  | Munch({'cloud': '', 'region_name': 'CHI@UC',     |\n",
      "|                           | 'zone': None, 'project': Munch({'id':            |\n",
      "|                           | 'd9faac3973a847f1b718fa765fe312e2', 'name':      |\n",
      "|                           | 'CH-816532', 'domain_id': None, 'domain_name':   |\n",
      "|                           | 'default'})})                                    |\n",
      "| mtu                       | 1500                                             |\n",
      "| name                      | pruthNetwork                                     |\n",
      "| port_security_enabled     | True                                             |\n",
      "| project_id                | d9faac3973a847f1b718fa765fe312e2                 |\n",
      "| provider:network_type     | vlan                                             |\n",
      "| provider:physical_network | physnet1                                         |\n",
      "| provider:segmentation_id  | 3077                                             |\n",
      "| qos_policy_id             | None                                             |\n",
      "| revision_number           | 3                                                |\n",
      "| router:external           | Internal                                         |\n",
      "| segments                  | None                                             |\n",
      "| shared                    | False                                            |\n",
      "| status                    | ACTIVE                                           |\n",
      "| subnets                   |                                                  |\n",
      "| tags                      |                                                  |\n",
      "| updated_at                | 2019-02-11T17:44:33Z                             |\n",
      "+---------------------------+--------------------------------------------------+\n",
      "Primary uplink VLAN and port ID: 3077\n"
     ]
    }
   ],
   "source": [
    "echo Creating network ${OPENFLOW_NETWORK_NAME}\n",
    "openstack network create --max-width 80 \\\n",
    "                         --provider-network-type vlan \\\n",
    "                         --provider-physical-network physnet1 \\\n",
    "                         --description OFController=${CONTROLLER_PUBLIC_IP}:${CONTROLLER_OPENFLOW_PORT},VSwitchName=${OPENFLOW_SWITCH_NAME} \\\n",
    "                         ${OPENFLOW_NETWORK_NAME}\n",
    "                         \n",
    "PRIMARY_UPLINK_VLAN=`openstack network show -c provider:segmentation_id -f value ${OPENFLOW_NETWORK_NAME}`\n",
    "echo Primary uplink VLAN and port ID: $PRIMARY_UPLINK_VLAN "
   ]
  },
  {
   "cell_type": "markdown",
   "metadata": {},
   "source": [
    "#### Observe the controller log file \n",
    "\n",
    "You should see that a port was added with the ID of the primary uplink VLAN tag."
   ]
  },
  {
   "cell_type": "code",
   "execution_count": 9,
   "metadata": {},
   "outputs": [
    {
     "name": "stdout",
     "output_type": "stream",
     "text": [
      "Warning: Permanently added '192.5.87.108' (ECDSA) to the list of known hosts.\n",
      "loading app /opt/ryu/simple_switch_13_custom_chameleon.py\n",
      "loading app ryu.controller.ofp_handler\n",
      "instantiating app /opt/ryu/simple_switch_13_custom_chameleon.py of SimpleSwitch13\n",
      "instantiating app ryu.controller.ofp_handler of OFPHandler\n",
      "port added 3077\n"
     ]
    }
   ],
   "source": [
    "CONTROLLER_PUBLIC_IP=`openstack server show --format value -c addresses ${CONTROLLER_NODE_NAME} | cut -d \" \" -f 2`\n",
    "\n",
    "ssh -i ${SSH_PRIVATE_KEY} \\\n",
    "    -o UserKnownHostsFile=/dev/null \\\n",
    "    -o StrictHostKeyChecking=no \\\n",
    "    cc@${CONTROLLER_PUBLIC_IP} \\\n",
    "    tail -n 20 /var/log/ryu/ryu-manager.log \n"
   ]
  },
  {
   "cell_type": "markdown",
   "metadata": {},
   "source": [
    "#### Add a subnet and router to the network"
   ]
  },
  {
   "cell_type": "code",
   "execution_count": 10,
   "metadata": {},
   "outputs": [
    {
     "name": "stdout",
     "output_type": "stream",
     "text": [
      "Creating Subnet\n",
      "+-------------------+----------------------------------------------------------+\n",
      "| Field             | Value                                                    |\n",
      "+-------------------+----------------------------------------------------------+\n",
      "| allocation_pools  | 192.168.100.2-192.168.100.254                            |\n",
      "| cidr              | 192.168.100.0/24                                         |\n",
      "| created_at        | 2019-02-11T17:45:11Z                                     |\n",
      "| description       |                                                          |\n",
      "| dns_nameservers   |                                                          |\n",
      "| enable_dhcp       | True                                                     |\n",
      "| gateway_ip        | 192.168.100.1                                            |\n",
      "| host_routes       |                                                          |\n",
      "| id                | e4d9d65c-4ef5-486a-8286-f9e09ce3c616                     |\n",
      "| ip_version        | 4                                                        |\n",
      "| ipv6_address_mode | None                                                     |\n",
      "| ipv6_ra_mode      | None                                                     |\n",
      "| location          | Munch({'cloud': '', 'region_name': 'CHI@UC', 'zone':     |\n",
      "|                   | None, 'project': Munch({'id':                            |\n",
      "|                   | 'd9faac3973a847f1b718fa765fe312e2', 'name': 'CH-816532', |\n",
      "|                   | 'domain_id': None, 'domain_name': 'default'})})          |\n",
      "| name              | pruthSubnet                                              |\n",
      "| network_id        | bd81ab90-bef7-4aee-af91-fd8d02f1e216                     |\n",
      "| prefix_length     | None                                                     |\n",
      "| project_id        | d9faac3973a847f1b718fa765fe312e2                         |\n",
      "| revision_number   | 2                                                        |\n",
      "| segment_id        | None                                                     |\n",
      "| service_types     |                                                          |\n",
      "| subnetpool_id     | None                                                     |\n",
      "| tags              |                                                          |\n",
      "| updated_at        | 2019-02-11T17:45:11Z                                     |\n",
      "+-------------------+----------------------------------------------------------+\n",
      "Creating Router\n",
      "+-------------------------+----------------------------------------------------+\n",
      "| Field                   | Value                                              |\n",
      "+-------------------------+----------------------------------------------------+\n",
      "| admin_state_up          | UP                                                 |\n",
      "| availability_zone_hints |                                                    |\n",
      "| availability_zones      |                                                    |\n",
      "| created_at              | 2019-02-11T17:45:18Z                               |\n",
      "| description             |                                                    |\n",
      "| distributed             | None                                               |\n",
      "| external_gateway_info   | None                                               |\n",
      "| flavor_id               | None                                               |\n",
      "| ha                      | None                                               |\n",
      "| id                      | 79f1918d-8992-47fc-8bd6-6123b8836a5b               |\n",
      "| location                | Munch({'cloud': '', 'region_name': 'CHI@UC',       |\n",
      "|                         | 'zone': None, 'project': Munch({'id':              |\n",
      "|                         | 'd9faac3973a847f1b718fa765fe312e2', 'name':        |\n",
      "|                         | 'CH-816532', 'domain_id': None, 'domain_name':     |\n",
      "|                         | 'default'})})                                      |\n",
      "| name                    | pruthRouter                                        |\n",
      "| project_id              | d9faac3973a847f1b718fa765fe312e2                   |\n",
      "| revision_number         | 5                                                  |\n",
      "| routes                  |                                                    |\n",
      "| status                  | ACTIVE                                             |\n",
      "| tags                    |                                                    |\n",
      "| updated_at              | 2019-02-11T17:45:19Z                               |\n",
      "+-------------------------+----------------------------------------------------+\n",
      "Linking router to subnet\n",
      "Linking router to external gateway\n",
      "Network pruthNetwork is ready for nodes!\n"
     ]
    }
   ],
   "source": [
    "echo Creating Subnet\n",
    "openstack subnet create --max-width 80 \\\n",
    "                        --subnet-range ${OPENFLOW_NETWORK_SUBNET_CIDR} \\\n",
    "                        --dhcp \\\n",
    "                        --network ${OPENFLOW_NETWORK_NAME} \\\n",
    "                        ${OPENFLOW_SUBNET_NAME}\n",
    "                        \n",
    "echo Creating Router\n",
    "openstack router create --max-width 80 ${OPENFLOW_ROUTER_NAME}\n",
    "\n",
    "echo Linking router to subnet\n",
    "openstack router add subnet ${OPENFLOW_ROUTER_NAME} ${OPENFLOW_SUBNET_NAME}\n",
    "\n",
    "echo Linking router to external gateway\n",
    "openstack router set --external-gateway public ${OPENFLOW_ROUTER_NAME}\n",
    "\n",
    "echo Network ${OPENFLOW_NETWORK_NAME} is ready for nodes!"
   ]
  },
  {
   "cell_type": "markdown",
   "metadata": {},
   "source": [
    "#### Launch servers connected to the new network\n",
    "\n",
    "At this point your OpenFlow network is ready for compute nodes. You can add nodes using the CLI commands below or by any other method you are comfortable with. "
   ]
  },
  {
   "cell_type": "code",
   "execution_count": 11,
   "metadata": {},
   "outputs": [
    {
     "name": "stdout",
     "output_type": "stream",
     "text": [
      "Creating servers... This will take several minutes!\n",
      "\n",
      "+-------------------------------------+----------------------------------------+\n",
      "| Field                               | Value                                  |\n",
      "+-------------------------------------+----------------------------------------+\n",
      "| OS-DCF:diskConfig                   | MANUAL                                 |\n",
      "| OS-EXT-AZ:availability_zone         | nova                                   |\n",
      "| OS-EXT-SRV-ATTR:host                | admin01.uc.chameleoncloud.org          |\n",
      "| OS-EXT-SRV-ATTR:hypervisor_hostname | 44d95746-3573-47c2-8912-aaea639ed6ad   |\n",
      "| OS-EXT-SRV-ATTR:instance_name       | instance-0000782a                      |\n",
      "| OS-EXT-STS:power_state              | Running                                |\n",
      "| OS-EXT-STS:task_state               | None                                   |\n",
      "| OS-EXT-STS:vm_state                 | active                                 |\n",
      "| OS-SRV-USG:launched_at              | 2019-02-11T17:59:48.000000             |\n",
      "| OS-SRV-USG:terminated_at            | None                                   |\n",
      "| accessIPv4                          |                                        |\n",
      "| accessIPv6                          |                                        |\n",
      "| addresses                           | pruthNetwork=192.168.100.5             |\n",
      "| adminPass                           | y9iwQCSq99sf                           |\n",
      "| config_drive                        |                                        |\n",
      "| created                             | 2019-02-11T17:52:24Z                   |\n",
      "| flavor                              | baremetal (baremetal)                  |\n",
      "| hostId                              | 4b37a7178a2b7e972b95f05799876960f54ceb |\n",
      "|                                     | a02e4ddd8c8c6974d9                     |\n",
      "| id                                  | 30df0b28-0c32-455c-8cf0-fbdac574d41c   |\n",
      "| image                               | CC-CentOS7                             |\n",
      "|                                     | (73e74c82-ad47-4d21-bfb3-071d10d1a2d9) |\n",
      "| key_name                            | pruth-chameleon-jupyter                |\n",
      "| name                                | pruth-node-1                           |\n",
      "| progress                            | 0                                      |\n",
      "| project_id                          | d9faac3973a847f1b718fa765fe312e2       |\n",
      "| properties                          |                                        |\n",
      "| security_groups                     | name='default'                         |\n",
      "| status                              | ACTIVE                                 |\n",
      "| updated                             | 2019-02-11T17:59:49Z                   |\n",
      "| user_id                             | f3a422ce5a4442e3a7a247ddfd98bfc3       |\n",
      "| volumes_attached                    |                                        |\n",
      "+-------------------------------------+----------------------------------------+\n",
      "Server creation complete!\n",
      "pruth-node-1 is ACTIVE\n",
      "pruth-node-2 is BUILD\n"
     ]
    }
   ],
   "source": [
    "echo Creating servers... This will take several minutes! \n",
    "openstack server create --max-width 80 \\\n",
    "                        --flavor \"baremetal\" \\\n",
    "                        --image \"CC-CentOS7\" \\\n",
    "                        --key-name ${SSH_KEY_NAME} \\\n",
    "                        --hint reservation=${NODE_RESERVATION_ID} \\\n",
    "                        --security-group default  \\\n",
    "                        --nic net-id=${OPENFLOW_NETWORK_NAME} \\\n",
    "                        --min 2 \\\n",
    "                        --max 2 \\\n",
    "                        --wait \\\n",
    "                        ${USERNAME}-node\n",
    "\n",
    "echo Server creation complete! \n",
    "echo ${USERNAME}-node-1 is `openstack server show --format value -c status ${USERNAME}-node-1`\n",
    "echo ${USERNAME}-node-2 is `openstack server show --format value -c status ${USERNAME}-node-2`"
   ]
  },
  {
   "cell_type": "markdown",
   "metadata": {},
   "source": [
    "### Experiment with you new OpenFlow controller and switch\n",
    "\n",
    "Check the controller log to see when the nodes of added to the swtich. \n",
    "\n",
    "Add public IPs, login to the nodes, ping, eachother, etc..  While experimenting with the nodes, continue to  watch the controller log and see all the packet_in calls."
   ]
  },
  {
   "cell_type": "markdown",
   "metadata": {},
   "source": [
    "NOTE ABOUT DESIGNING THE TUTORIAL\":  From here we should have the tutorial do something in the nodes.  Maybe have them edit the controller to do something interesting"
   ]
  },
  {
   "cell_type": "markdown",
   "metadata": {},
   "source": [
    "# Please Cleanup Your Resources!!!\n",
    "\n",
    "Delete your nodes.\n",
    "\n",
    "If you added more nodes outside of this notebook you will need to delete them as well.  You will not beable to delete the network if there are nodes still attached to it."
   ]
  },
  {
   "cell_type": "code",
   "execution_count": 12,
   "metadata": {},
   "outputs": [
    {
     "name": "stdout",
     "output_type": "stream",
     "text": [
      "Deleting servers pruth-node-1 and pruth-node-2\n",
      "\n",
      "\n",
      "Servers deleted!\n"
     ]
    }
   ],
   "source": [
    "echo Deleting servers ${USERNAME}-node-1 and ${USERNAME}-node-2\n",
    "openstack server delete --wait ${USERNAME}-node-1 ${USERNAME}-node-2\n",
    "\n",
    "echo Servers deleted!"
   ]
  },
  {
   "cell_type": "markdown",
   "metadata": {},
   "source": [
    "Unlink and delete all pieces of the OpenFlow network."
   ]
  },
  {
   "cell_type": "code",
   "execution_count": 37,
   "metadata": {},
   "outputs": [
    {
     "name": "stdout",
     "output_type": "stream",
     "text": [
      "Unlinking router from gateway\n",
      "Unlinking router from subnet\n",
      "Deleting router\n",
      "Deleting network\n",
      "All routers, subnets, and networks are deleted!\n"
     ]
    }
   ],
   "source": [
    "echo Unlinking router from gateway\n",
    "openstack router unset --external-gateway ${OPENFLOW_ROUTER_NAME}\n",
    "\n",
    "echo Unlinking router from subnet\n",
    "openstack router remove subnet ${OPENFLOW_ROUTER_NAME} ${OPENFLOW_SUBNET_NAME}\n",
    "\n",
    "echo Deleting router\n",
    "openstack router delete ${OPENFLOW_ROUTER_NAME}\n",
    "\n",
    "echo Deleting network\n",
    "openstack network delete ${OPENFLOW_NETWORK_NAME}\n",
    "\n",
    "echo All routers, subnets, and networks are deleted!"
   ]
  },
  {
   "cell_type": "markdown",
   "metadata": {},
   "source": [
    "Delete your OpenFlow controller and stack"
   ]
  },
  {
   "cell_type": "code",
   "execution_count": 38,
   "metadata": {},
   "outputs": [
    {
     "name": "stdout",
     "output_type": "stream",
     "text": [
      "Deleting stack\n",
      "usage: openstack stack delete [-h] [-y] [--wait] <stack> [<stack> ...]\n",
      "openstack stack delete: error: the following arguments are required: <stack>\n",
      "Stack deleted\n"
     ]
    }
   ],
   "source": [
    "echo Deleting stack ${OPENFLOW_CONTROLLER_STACK_NAME}\n",
    "openstack stack delete -y --wait ${OPENFLOW_CONTROLLER_STACK_NAME}\n",
    "echo Stack ${OPENFLOW_CONTROLLER_STACK_NAME} deleted"
   ]
  },
  {
   "cell_type": "code",
   "execution_count": null,
   "metadata": {},
   "outputs": [],
   "source": []
  }
 ],
 "metadata": {
  "kernelspec": {
   "display_name": "Bash",
   "language": "bash",
   "name": "bash"
  },
  "language_info": {
   "codemirror_mode": "shell",
   "file_extension": ".sh",
   "mimetype": "text/x-sh",
   "name": "bash"
  }
 },
 "nbformat": 4,
 "nbformat_minor": 2
}
