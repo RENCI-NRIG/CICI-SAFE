{
 "cells": [
  {
   "cell_type": "markdown",
   "metadata": {},
   "source": [
    "# Mocked Authorities\n",
    "\n",
    "#### Use SDX stack for authorities temporarily"
   ]
  },
  {
   "cell_type": "code",
   "execution_count": null,
   "metadata": {},
   "outputs": [],
   "source": [
    "# Set up user's project (user's can be multiple ones, so there is no default currently)\n",
    "export OS_PROJECT_NAME='CH-819993'\n",
    "\n",
    "# Set region (again, no default currently)\n",
    "export OS_REGION_NAME='CHI@TACC'\n",
    "\n",
    "# Set chameleon keypair name and path to the private ssh key\n",
    "export SSH_KEY_NAME=${USERNAME}-jupyter\n",
    "export SSH_PRIVATE_KEY=${HOME}/.ssh/id_rsa\n",
    "\n",
    "# Set the reservations to use.  \n",
    "# CONTROLLER_RESERVATION_ID can be for any type of node\n",
    "# NODE_RESERVATION_ID must be for Skylake nodes\n",
    "export SDX_RESERVATION_ID='c3f9c003-888b-4dbd-86c6-e79a388d136a'\n",
    "export CLIENT_RESERVATION_ID='c3f9c003-888b-4dbd-86c6-e79a388d136a'\n",
    "export RIAK_RESERVATION_ID='c3f9c003-888b-4dbd-86c6-e79a388d136a'\n",
    "\n",
    "#Set the working directory\n",
    "export WORKING_DIR=${HOME}/work/SDX\n",
    "export AUTH_PUBLIC_IP='129.114.108.12'"
   ]
  },
  {
   "cell_type": "markdown",
   "metadata": {},
   "source": [
    "#### Make delegations to a user\n",
    "##### Geni delegations, IP delegation, Tag delegation\n"
   ]
  },
  {
   "cell_type": "code",
   "execution_count": null,
   "metadata": {},
   "outputs": [],
   "source": [
    "USERKEYHASH=\"UlmWq21crEd9GVwsPRHP_oSpW4br8Mt4sqPb2qujlds=\"\n",
    "USERSLICE=\"c0-yaoyj11\"\n",
    "USERIP=\"192.168.10.1/24\"\n",
    "USERTAG=\"tag0\"\n",
    "REMOTE_SDX_CONFIG=/home/cc/sdx.conf\n",
    "REMOTE_WORKING_DIR=/root\n",
    "REMOTE_BIN_DIR=${REMOTE_WORKING_DIR}/CICI-SAFE/SDX-Simple/SAFE_SDX/target/appassembler/bin\n",
    "\n",
    "\n",
    "ssh -i ${SSH_PRIVATE_KEY} \\\n",
    "    -o UserKnownHostsFile=/dev/null \\\n",
    "    -o StrictHostKeyChecking=no \\\n",
    "    cc@${AUTH_PUBLIC_IP} \\\n",
    "    \"sudo ${REMOTE_BIN_DIR}/AuthorityMock auth ${USERKEYHASH} ${USERSLICE} ${USERIP} ${USERTAG} ${AUTH_PUBLIC_IP}\"\n",
    "    \n",
    "echo Authority delegations done"
   ]
  },
  {
   "cell_type": "code",
   "execution_count": null,
   "metadata": {},
   "outputs": [],
   "source": []
  }
 ],
 "metadata": {
  "kernelspec": {
   "display_name": "Bash",
   "language": "bash",
   "name": "bash"
  },
  "language_info": {
   "codemirror_mode": "shell",
   "file_extension": ".sh",
   "mimetype": "text/x-sh",
   "name": "bash"
  }
 },
 "nbformat": 4,
 "nbformat_minor": 2
}
