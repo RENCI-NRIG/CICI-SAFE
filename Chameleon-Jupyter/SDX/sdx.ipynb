{
 "cells": [
  {
   "cell_type": "markdown",
   "metadata": {},
   "source": [
    "# Run the CICI SAFE vSDX\n",
    "\n",
    "#### Configure the Envrionment"
   ]
  },
  {
   "cell_type": "code",
   "execution_count": null,
   "metadata": {},
   "outputs": [],
   "source": [
    "# Set up user's project (user's can be multiple ones, so there is no default currently)\n",
    "export OS_PROJECT_NAME='CH-816532'\n",
    "\n",
    "# Set region (again, no default currently)\n",
    "export OS_REGION_NAME='CHI@UC'\n",
    "\n",
    "# Set chameleon keypair name and path to the private ssh key\n",
    "export SSH_KEY_NAME='pruth-jupyter'\n",
    "export SSH_PRIVATE_KEY=${HOME}/.ssh/id_rsa\n",
    "\n",
    "# Set the reservations to use.  \n",
    "# CONTROLLER_RESERVATION_ID can be for any type of node\n",
    "# NODE_RESERVATION_ID must be for Skylake nodes\n",
    "export SDX_RESERVATION_ID='a9f90471-ac8e-447c-bcd0-41e52d11ff49'\n",
    "export RIAK_RESERVATION_ID='a9f90471-ac8e-447c-bcd0-41e52d11ff49'\n",
    "\n",
    "#Set the working directory\n",
    "export WORKING_DIR=${HOME}/work/CICI-SAFE/Chameleon-Jupyter/SDX"
   ]
  },
  {
   "cell_type": "markdown",
   "metadata": {},
   "source": [
    "#### Start RIAK Server"
   ]
  },
  {
   "cell_type": "code",
   "execution_count": null,
   "metadata": {},
   "outputs": [],
   "source": [
    "cd $WORKING_DIR\n",
    "\n",
    "RIAK_NETWORK='sharednet1'\n",
    "RIAK_NODE_NAME=${USERNAME}-riak\n",
    "RIAK_STACK_NAME=${USERNAME}-riak1\n",
    "\n",
    "echo Creating RIAK server. This will take several minutes!\n",
    "openstack stack create  --max-width 80 \\\n",
    "        --template riak.yaml \\\n",
    "        --parameter \"key_name=${SSH_KEY_NAME}\" \\\n",
    "        --parameter \"reservation_id=${SDX_RESERVATION_ID}\" \\\n",
    "        --parameter \"network_name=${RIAK_NETWORK}\" \\\n",
    "        --parameter \"riak_node_name=${RIAK_NODE_NAME}\" \\\n",
    "        --wait \\\n",
    "        ${RIAK_STACK_NAME}"
   ]
  },
  {
   "cell_type": "code",
   "execution_count": null,
   "metadata": {},
   "outputs": [],
   "source": [
    "echo RIAK server creation complete! \n",
    "echo ${RIAK_NODE_NAME} status `openstack server show  --format value -c status ${RIAK_NODE_NAME}`\n",
    "\n",
    "RIAK_PUBLIC_IP=`openstack server show  --format value -c addresses ${RIAK_NODE_NAME} | cut -d \" \" -f 2`\n",
    "echo The RIAK se public IP is $RIAK_PUBLIC_IP"
   ]
  },
  {
   "cell_type": "code",
   "execution_count": null,
   "metadata": {},
   "outputs": [],
   "source": [
    "cd $WORKING_DIR\n",
    "\n",
    "SDX_NETWORK='sharednet1'\n",
    "SDX_NODE_NAME=${USERNAME}-sdx\n",
    "SDX_STACK_NAME=${USERNAME}-sdx1\n",
    "\n",
    "echo Creating SDX server. This will take several minutes!\n",
    "openstack stack create  --max-width 80 \\\n",
    "        --template sdx.yaml \\\n",
    "        --parameter \"key_name=${SSH_KEY_NAME}\" \\\n",
    "        --parameter \"reservation_id=${SDX_RESERVATION_ID}\" \\\n",
    "        --parameter \"network_name=${SDX_NETWORK}\" \\\n",
    "        --parameter \"sdx_node_name=${SDX_NODE_NAME}\" \\\n",
    "        --parameter \"riak_ip=${RIAK_PUBLIC_IP}\" \\\n",
    "        --wait \\\n",
    "        ${SDX_STACK_NAME}"
   ]
  },
  {
   "cell_type": "code",
   "execution_count": null,
   "metadata": {},
   "outputs": [],
   "source": [
    "echo SDX server creation complete! \n",
    "echo ${SDX_NODE_NAME} status `openstack server show  --format value -c status ${SDX_NODE_NAME}`\n",
    "\n",
    "SDX_PUBLIC_IP=`openstack server show  --format value -c addresses ${SDX_NODE_NAME} | cut -d \" \" -f 2`\n",
    "echo The SDX se public IP is $SDX_PUBLIC_IP"
   ]
  },
  {
   "cell_type": "code",
   "execution_count": null,
   "metadata": {},
   "outputs": [],
   "source": [
    "SDX_PUBLIC_IP=`openstack server show --format value -c addresses ${SDX_NODE_NAME} | cut -d \" \" -f 2`\n",
    "echo SDX_NODE_NAME is $SDX_PUBLIC_IP\n",
    "\n",
    "ssh -i ${SSH_PRIVATE_KEY} \\\n",
    "    -o UserKnownHostsFile=/dev/null \\\n",
    "    -o StrictHostKeyChecking=no \\\n",
    "    cc@${SDX_PUBLIC_IP} \\\n",
    "    sudo tail /root/boot.log\n"
   ]
  },
  {
   "cell_type": "markdown",
   "metadata": {},
   "source": [
    "# Please Cleanup Your Resources!!!\n",
    "\n",
    "#### Delete SDX Stack"
   ]
  },
  {
   "cell_type": "code",
   "execution_count": null,
   "metadata": {},
   "outputs": [],
   "source": [
    "echo Deleting stack ${SDX_STACK_NAME}\n",
    "openstack stack delete -y --wait ${SDX_STACK_NAME}\n",
    "echo Stack ${SDX_STACK_NAME} deleted"
   ]
  },
  {
   "cell_type": "markdown",
   "metadata": {},
   "source": [
    "#### Delete RIAK Stack"
   ]
  },
  {
   "cell_type": "code",
   "execution_count": null,
   "metadata": {},
   "outputs": [],
   "source": [
    "echo Deleting stack ${RIAK_STACK_NAME}\n",
    "openstack stack delete -y --wait ${RIAK_STACK_NAME}\n",
    "echo Stack ${RIAK_STACK_NAME} deleted"
   ]
  },
  {
   "cell_type": "code",
   "execution_count": null,
   "metadata": {},
   "outputs": [],
   "source": []
  }
 ],
 "metadata": {
  "kernelspec": {
   "display_name": "Bash",
   "language": "bash",
   "name": "bash"
  },
  "language_info": {
   "codemirror_mode": "shell",
   "file_extension": ".sh",
   "mimetype": "text/x-sh",
   "name": "bash"
  }
 },
 "nbformat": 4,
 "nbformat_minor": 2
}
