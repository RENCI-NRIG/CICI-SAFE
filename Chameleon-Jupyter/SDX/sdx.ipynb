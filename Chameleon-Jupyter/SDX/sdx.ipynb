{
 "cells": [
  {
   "cell_type": "markdown",
   "metadata": {},
   "source": [
    "# Run the CICI SAFE vSDX\n",
    "\n",
    "#### Configure the Envrionment"
   ]
  },
  {
   "cell_type": "code",
   "execution_count": null,
   "metadata": {},
   "outputs": [],
   "source": [
    "# Set up user's project (user's can be multiple ones, so there is no default currently)\n",
    "export OS_PROJECT_NAME='CH-819993'\n",
    "\n",
    "# Set region (again, no default currently)\n",
    "export OS_REGION_NAME='CHI@TACC'\n",
    "\n",
    "# Set chameleon keypair name and path to the private ssh key\n",
    "export SSH_KEY_NAME='yjyao_jupyter1'\n",
    "export SSH_PRIVATE_KEY=${HOME}/.ssh/id_rsa\n",
    "\n",
    "# Set the reservations to use.  \n",
    "# CONTROLLER_RESERVATION_ID can be for any type of node\n",
    "# NODE_RESERVATION_ID must be for Skylake nodes\n",
    "export SDX_RESERVATION_ID='b88365d8-9904-4569-9c3c-9fcaf61d79f3'\n",
    "export CLIENT_RESERVATION_ID='b88365d8-9904-4569-9c3c-9fcaf61d79f3'\n",
    "export RIAK_RESERVATION_ID='b88365d8-9904-4569-9c3c-9fcaf61d79f3'\n",
    "\n",
    "#Set the working directory\n",
    "export WORKING_DIR=${HOME}/work/SDX"
   ]
  },
  {
   "cell_type": "markdown",
   "metadata": {},
   "source": [
    "#### Start RIAK Server"
   ]
  },
  {
   "cell_type": "code",
   "execution_count": null,
   "metadata": {},
   "outputs": [],
   "source": [
    "cd $WORKING_DIR\n",
    "\n",
    "RIAK_NETWORK='sharednet1'\n",
    "RIAK_NODE_NAME=${USERNAME}-riak\n",
    "RIAK_STACK_NAME=${USERNAME}-riak\n",
    "\n",
    "echo Creating RIAK server. This will take several minutes!\n",
    "openstack stack create  --max-width 80 \\\n",
    "        --template riak.yaml \\\n",
    "        --parameter \"key_name=${SSH_KEY_NAME}\" \\\n",
    "        --parameter \"reservation_id=${SDX_RESERVATION_ID}\" \\\n",
    "        --parameter \"network_name=${RIAK_NETWORK}\" \\\n",
    "        --parameter \"riak_node_name=${RIAK_NODE_NAME}\" \\\n",
    "        --wait \\\n",
    "        ${RIAK_STACK_NAME}"
   ]
  },
  {
   "cell_type": "code",
   "execution_count": null,
   "metadata": {},
   "outputs": [],
   "source": [
    "echo RIAK server creation complete! \n",
    "echo ${RIAK_NODE_NAME} status `openstack server show  --format value -c status ${RIAK_NODE_NAME}`\n",
    "\n",
    "RIAK_PUBLIC_IP=`openstack server show  --format value -c addresses ${RIAK_NODE_NAME} | cut -d \" \" -f 2`\n",
    "echo The RIAK se public IP is $RIAK_PUBLIC_IP"
   ]
  },
  {
   "cell_type": "markdown",
   "metadata": {},
   "source": [
    "#### Start SDX Server"
   ]
  },
  {
   "cell_type": "code",
   "execution_count": null,
   "metadata": {},
   "outputs": [],
   "source": [
    "cd $WORKING_DIR\n",
    "\n",
    "SDX_NETWORK='sharednet1'\n",
    "SDX_NODE_NAME=${USERNAME}-sdx\n",
    "SDX_STACK_NAME=${USERNAME}-sdx\n",
    "\n",
    "echo Creating SDX server. This will take several minutes!\n",
    "openstack stack create  --max-width 80 \\\n",
    "        --template sdx.yaml \\\n",
    "        --parameter \"key_name=${SSH_KEY_NAME}\" \\\n",
    "        --parameter \"reservation_id=${SDX_RESERVATION_ID}\" \\\n",
    "        --parameter \"network_name=${SDX_NETWORK}\" \\\n",
    "        --parameter \"sdx_node_name=${SDX_NODE_NAME}\" \\\n",
    "        --parameter \"riak_ip=${RIAK_PUBLIC_IP}\" \\\n",
    "        --wait \\\n",
    "        ${SDX_STACK_NAME}"
   ]
  },
  {
   "cell_type": "code",
   "execution_count": null,
   "metadata": {},
   "outputs": [],
   "source": [
    "echo SDX server creation complete! \n",
    "echo ${SDX_NODE_NAME} status `openstack server show  --format value -c status ${SDX_NODE_NAME}`\n",
    "\n",
    "SDX_PUBLIC_IP=`openstack server show  --format value -c addresses ${SDX_NODE_NAME} | cut -d \" \" -f 2`\n",
    "echo The SDX se public IP is $SDX_PUBLIC_IP"
   ]
  },
  {
   "cell_type": "code",
   "execution_count": null,
   "metadata": {},
   "outputs": [],
   "source": [
    "SDX_PUBLIC_IP=`openstack server show --format value -c addresses ${SDX_NODE_NAME} | cut -d \" \" -f 2`\n",
    "echo SDX_PUBLIC_IP is $SDX_PUBLIC_IP\n",
    "\n",
    "result=255\n",
    "while [[ \"$result\" != \"0\" ]]\n",
    "do \n",
    "    sleep 5\n",
    "\tssh -q -i ${SSH_PRIVATE_KEY} \\\n",
    "    -o UserKnownHostsFile=/dev/null \\\n",
    "    -o StrictHostKeyChecking=no \\\n",
    "    cc@${SDX_PUBLIC_IP} \\\n",
    "    exit\n",
    "\tresult=$?\n",
    "done\n",
    "\n",
    "echo COPY your geni pem to cc@$SDX_PUBLIC_IP:~/geni.pem\n",
    "\n",
    "ssh -i ${SSH_PRIVATE_KEY} \\\n",
    "    -o UserKnownHostsFile=/dev/null \\\n",
    "    -o StrictHostKeyChecking=no \\\n",
    "    cc@${SDX_PUBLIC_IP} \\\n",
    "    sudo tail /root/boot.log\n"
   ]
  },
  {
   "cell_type": "markdown",
   "metadata": {},
   "source": [
    "#### Start ExoGENI Client 1"
   ]
  },
  {
   "cell_type": "code",
   "execution_count": null,
   "metadata": {},
   "outputs": [],
   "source": [
    "cd $WORKING_DIR\n",
    "CLIENT_NETWORK='sharednet1'\n",
    "CLIENT_NODE_NAME1=${USERNAME}-client1\n",
    "CLIENT_STACK_NAME1=${USERNAME}-clien1\n",
    "GIT_BRANCH='tridentcom'\n",
    "SLICE_NAME1='c0-tri'\n",
    "IP_PREFIX1='192.168.10.1/24'\n",
    "CLIENT_SITE1='TAMU'\n",
    "SAFE_KEYPAIR1='key_p10'\n",
    "\n",
    "echo Creating SDX client. This will take several minutes!\n",
    "openstack stack create  --max-width 80 \\\n",
    "        --template client.yaml \\\n",
    "        --parameter \"key_name=${SSH_KEY_NAME}\" \\\n",
    "        --parameter \"reservation_id=${CLIENT_RESERVATION_ID}\" \\\n",
    "        --parameter \"network_name=${CLIENT_NETWORK}\" \\\n",
    "        --parameter \"client_name=${CLIENT_NODE_NAME1}\" \\\n",
    "        --parameter \"github_branch=${GIT_BRANCH}\" \\\n",
    "        --parameter \"riak_ip=${RIAK_PUBLIC_IP}\" \\\n",
    "        --parameter \"slice_name=${SLICE_NAME1}\"\\\n",
    "        --parameter \"ip_prefix=${IP_PREFIX1}\"\\\n",
    "        --parameter \"client_site=${CLIENT_SITE1}\"\\\n",
    "        --parameter \"safe_keypair=${SAFE_KEYPAIR1}\"\\\n",
    "        --parameter \"sdx_server=${SDX_PUBLIC_IP}:8888\"\\\n",
    "        --wait \\\n",
    "        ${CLIENT_STACK_NAME1}"
   ]
  },
  {
   "cell_type": "code",
   "execution_count": null,
   "metadata": {},
   "outputs": [],
   "source": [
    "echo SDX client creation complete! \n",
    "echo ${CLIENT_NODE_NAME1} status `openstack server show  --format value -c status ${CLIENT_NODE_NAME1}`\n",
    "\n",
    "CLIENT_PUBLIC_IP1=`openstack server show  --format value -c addresses ${CLIENT_NODE_NAME1} | cut -d \" \" -f 2`\n",
    "echo The client public IP is $CLIENT_PUBLIC_IP1\n",
    "\n",
    "result=255\n",
    "while [[ \"$result\" != \"0\" ]]\n",
    "do \n",
    "    sleep 5\n",
    "\tssh -q -i ${SSH_PRIVATE_KEY} \\\n",
    "    -o UserKnownHostsFile=/dev/null \\\n",
    "    -o StrictHostKeyChecking=no \\\n",
    "    cc@${CLIENT_PUBLIC_IP1} \\\n",
    "    exit\n",
    "\tresult=$?\n",
    "done\n",
    "\n",
    "echo COPY your geni pem to cc@$CLIENT_PUBLIC_IP1:~/geni.pem\n",
    "\n",
    "ssh -i ${SSH_PRIVATE_KEY} \\\n",
    "    -o UserKnownHostsFile=/dev/null \\\n",
    "    -o StrictHostKeyChecking=no \\\n",
    "    cc@${CLIENT_PUBLIC_IP1} \\\n",
    "    sudo tail ~/boot.log\n"
   ]
  },
  {
   "cell_type": "markdown",
   "metadata": {},
   "source": [
    "#### Start ExoGENI Client 2"
   ]
  },
  {
   "cell_type": "code",
   "execution_count": null,
   "metadata": {},
   "outputs": [],
   "source": [
    "cd $WORKING_DIR\n",
    "CLIENT_NETWORK='sharednet1'\n",
    "CLIENT_NODE_NAME2=${USERNAME}-client2\n",
    "CLIENT_STACK_NAME2=${USERNAME}-clien2\n",
    "GIT_BRANCH='tridentcom'\n",
    "SLICE_NAME2='c1-tri'\n",
    "IP_PREFIX2='192.168.20.1/24'\n",
    "CLIENT_SITE2='UFL'\n",
    "SAFE_KEYPAIR2='key_p11'\n",
    "\n",
    "echo Creating SDX client. This will take several minutes!\n",
    "openstack stack create  --max-width 80 \\\n",
    "        --template client.yaml \\\n",
    "        --parameter \"key_name=${SSH_KEY_NAME}\" \\\n",
    "        --parameter \"reservation_id=${CLIENT_RESERVATION_ID}\" \\\n",
    "        --parameter \"network_name=${CLIENT_NETWORK}\" \\\n",
    "        --parameter \"client_name=${CLIENT_NODE_NAME2}\" \\\n",
    "        --parameter \"github_branch=${GIT_BRANCH}\" \\\n",
    "        --parameter \"riak_ip=${RIAK_PUBLIC_IP2}\" \\\n",
    "        --parameter \"slice_name=${SLICE_NAME2}\"\\\n",
    "        --parameter \"ip_prefix=${IP_PREFIX2}\"\\\n",
    "        --parameter \"client_site=${CLIENT_SITE2}\"\\\n",
    "        --parameter \"safe_keypair=${SAFE_KEYPAIR2}\"\\\n",
    "        --parameter \"sdx_server=${SDX_PUBLIC_IP}:8888\"\\\n",
    "        --wait \\\n",
    "        ${CLIENT_STACK_NAME2}"
   ]
  },
  {
   "cell_type": "code",
   "execution_count": null,
   "metadata": {},
   "outputs": [],
   "source": [
    "echo SDX client creation complete! \n",
    "echo ${CLIENT_NODE_NAME2} status `openstack server show  --format value -c status ${CLIENT_NODE_NAME2}`\n",
    "\n",
    "CLIENT_PUBLIC_IP2=`openstack server show  --format value -c addresses ${CLIENT_NODE_NAME2} | cut -d \" \" -f 2`\n",
    "echo The client public IP is $CLIENT_PUBLIC_IP2\n",
    "\n",
    "result=255\n",
    "while [[ \"$result\" != \"0\" ]]\n",
    "do \n",
    "    sleep 5\n",
    "\tssh -q -i ${SSH_PRIVATE_KEY} \\\n",
    "    -o UserKnownHostsFile=/dev/null \\\n",
    "    -o StrictHostKeyChecking=no \\\n",
    "    cc@${CLIENT_PUBLIC_IP2} \\\n",
    "    exit\n",
    "\tresult=$?\n",
    "done\n",
    "\n",
    "echo COPY your geni pem to cc@$CLIENT_PUBLIC_IP2:~/geni.pem\n",
    "\n",
    "ssh -i ${SSH_PRIVATE_KEY} \\\n",
    "    -o UserKnownHostsFile=/dev/null \\\n",
    "    -o StrictHostKeyChecking=no \\\n",
    "    cc@${CLIENT_PUBLIC_IP2} \\\n",
    "    sudo tail /root/boot.log\n"
   ]
  },
  {
   "cell_type": "markdown",
   "metadata": {},
   "source": [
    "#### Client 1 stitch to SDX"
   ]
  },
  {
   "cell_type": "code",
   "execution_count": null,
   "metadata": {},
   "outputs": [],
   "source": [
    "ssh -i ${SSH_PRIVATE_KEY} \\\n",
    "    -o UserKnownHostsFile=/dev/null \\\n",
    "    -o StrictHostKeyChecking=no \\\n",
    "    cc@${CLIENT_PUBLIC_IP1} \\\n",
    "    \"cd ~/CICI-SAFE/SDX-Simple &&\n",
    "    sudo ./scripts/sdx_exogeni_client.sh -c ~/client.conf -e 'stitch CNode1 192.168.10.2 192.168.10.1/24'\""
   ]
  },
  {
   "cell_type": "markdown",
   "metadata": {},
   "source": [
    "#### Client 1 advertise its IP prefix"
   ]
  },
  {
   "cell_type": "code",
   "execution_count": null,
   "metadata": {},
   "outputs": [],
   "source": [
    "ssh -i ${SSH_PRIVATE_KEY} \\\n",
    "    -o UserKnownHostsFile=/dev/null \\\n",
    "    -o StrictHostKeyChecking=no \\\n",
    "    cc@${CLIENT_PUBLIC_IP1} \\\n",
    "    \"cd ~/CICI-SAFE/SDX-Simple && pwd&&\n",
    "    sudo ./scripts/sdx_exogeni_client.sh -c ~/client.conf -e 'route 192.168.10.1/24 192.168.10.2'\""
   ]
  },
  {
   "cell_type": "markdown",
   "metadata": {},
   "source": [
    "#### Client 2 stitch to SDX"
   ]
  },
  {
   "cell_type": "code",
   "execution_count": null,
   "metadata": {},
   "outputs": [],
   "source": [
    "ssh -i ${SSH_PRIVATE_KEY} \\\n",
    "    -o UserKnownHostsFile=/dev/null \\\n",
    "    -o StrictHostKeyChecking=no \\\n",
    "    cc@${CLIENT_PUBLIC_IP2} \\\n",
    "    \"cd ~/CICI-SAFE/SDX-Simple && pwd&&\n",
    "    sudo ./scripts/sdx_exogeni_client.sh -c ~/client.conf -e 'stitch CNode1 192.168.20.2 192.168.20.1/24'\""
   ]
  },
  {
   "cell_type": "markdown",
   "metadata": {},
   "source": [
    "#### Client 2 advertise its IP prefix"
   ]
  },
  {
   "cell_type": "code",
   "execution_count": null,
   "metadata": {},
   "outputs": [],
   "source": [
    "ssh -i ${SSH_PRIVATE_KEY} \\\n",
    "    -o UserKnownHostsFile=/dev/null \\\n",
    "    -o StrictHostKeyChecking=no \\\n",
    "    cc@${CLIENT_PUBLIC_IP2} \\\n",
    "    \"cd ~/CICI-SAFE/SDX-Simple && pwd&&\n",
    "    sudo ./scripts/sdx_exogeni_client.sh -c ~/client.conf -e 'route 192.168.20.1/24 192.168.20.2'\""
   ]
  },
  {
   "cell_type": "markdown",
   "metadata": {},
   "source": [
    "#### Connect client 1 and client 2"
   ]
  },
  {
   "cell_type": "code",
   "execution_count": null,
   "metadata": {},
   "outputs": [],
   "source": [
    "ssh -i ${SSH_PRIVATE_KEY} \\\n",
    "    -o UserKnownHostsFile=/dev/null \\\n",
    "    -o StrictHostKeyChecking=no \\\n",
    "    cc@${CLIENT_PUBLIC_IP1} \\\n",
    "    \"cd ~/CICI-SAFE/SDX-Simple && pwd&&\n",
    "    sudo ./scripts/sdx_exogeni_client.sh -c ~/client.conf -e 'link 192.168.10.1/24 192.168.20.1/24'\""
   ]
  },
  {
   "cell_type": "markdown",
   "metadata": {},
   "source": [
    "#### Undo stitching"
   ]
  },
  {
   "cell_type": "code",
   "execution_count": null,
   "metadata": {},
   "outputs": [],
   "source": [
    "ssh -i ${SSH_PRIVATE_KEY} \\\n",
    "    -o UserKnownHostsFile=/dev/null \\\n",
    "    -o StrictHostKeyChecking=no \\\n",
    "    cc@${CLIENT_PUBLIC_IP1} \\\n",
    "    \"cd ~/CICI-SAFE/SDX-Simple &&\n",
    "    sudo ./scripts/sdx_exogeni_client.sh -c ~/client.conf -e 'unstitch CNode1'\""
   ]
  },
  {
   "cell_type": "code",
   "execution_count": null,
   "metadata": {},
   "outputs": [],
   "source": [
    "ssh -i ${SSH_PRIVATE_KEY} \\\n",
    "    -o UserKnownHostsFile=/dev/null \\\n",
    "    -o StrictHostKeyChecking=no \\\n",
    "    cc@${CLIENT_PUBLIC_IP2} \\\n",
    "    \"cd ~/CICI-SAFE/SDX-Simple &&\n",
    "    sudo ./scripts/sdx_exogeni_client.sh -c ~/client.conf -e 'unstitch CNode1'\""
   ]
  },
  {
   "cell_type": "markdown",
   "metadata": {},
   "source": [
    "# Please Cleanup Your Resources!!!\n",
    "\n",
    "#### Delete SDX Stack"
   ]
  },
  {
   "cell_type": "code",
   "execution_count": null,
   "metadata": {},
   "outputs": [],
   "source": [
    "echo Deleting stack ${SDX_STACK_NAME}\n",
    "openstack stack delete -y --wait ${SDX_STACK_NAME}\n",
    "echo Stack ${SDX_STACK_NAME} deleted"
   ]
  },
  {
   "cell_type": "markdown",
   "metadata": {},
   "source": [
    "#### Delete RIAK Stack"
   ]
  },
  {
   "cell_type": "code",
   "execution_count": null,
   "metadata": {},
   "outputs": [],
   "source": [
    "echo Deleting stack ${RIAK_STACK_NAME}\n",
    "openstack stack delete -y --wait ${RIAK_STACK_NAME}\n",
    "echo Stack ${RIAK_STACK_NAME} deleted"
   ]
  },
  {
   "cell_type": "markdown",
   "metadata": {},
   "source": [
    "#### Delete Client Stack"
   ]
  },
  {
   "cell_type": "code",
   "execution_count": null,
   "metadata": {},
   "outputs": [],
   "source": [
    "echo Deleting stack ${CLIENT_STACK_NAME1}\n",
    "openstack stack delete -y --wait ${CLIENT_STACK_NAME1}\n",
    "echo Stack ${CLIENT_STACK_NAME1} deleted"
   ]
  },
  {
   "cell_type": "code",
   "execution_count": null,
   "metadata": {},
   "outputs": [],
   "source": [
    "echo Deleting stack ${CLIENT_STACK_NAME2}\n",
    "openstack stack delete -y --wait ${CLIENT_STACK_NAME2}\n",
    "echo Stack ${CLIENT_STACK_NAME2} deleted"
   ]
  },
  {
   "cell_type": "code",
   "execution_count": null,
   "metadata": {},
   "outputs": [],
   "source": []
  },
  {
   "cell_type": "code",
   "execution_count": null,
   "metadata": {},
   "outputs": [],
   "source": []
  },
  {
   "cell_type": "code",
   "execution_count": null,
   "metadata": {},
   "outputs": [],
   "source": []
  }
 ],
 "metadata": {
  "kernelspec": {
   "display_name": "Bash",
   "language": "bash",
   "name": "bash"
  },
  "language_info": {
   "codemirror_mode": "shell",
   "file_extension": ".sh",
   "mimetype": "text/x-sh",
   "name": "bash"
  }
 },
 "nbformat": 4,
 "nbformat_minor": 2
}
