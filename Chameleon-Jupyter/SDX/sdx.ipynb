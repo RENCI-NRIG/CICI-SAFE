{
 "cells": [
  {
   "cell_type": "markdown",
   "metadata": {},
   "source": [
    "# Run the CICI SAFE vSDX Using Chameleon\n",
    "\n",
    "#### Configure the Envrionment"
   ]
  },
  {
   "cell_type": "code",
   "execution_count": 14,
   "metadata": {},
   "outputs": [],
   "source": [
    "# Set up user's project (user's can be multiple ones, so there is no default currently)\n",
    "export OS_PROJECT_NAME='CH-816532'\n",
    "\n",
    "# Set region (again, no default currently)\n",
    "export OS_REGION_NAME='CHI@TACC'\n",
    "\n",
    "# Set chameleon keypair name and path to the private ssh key\n",
    "export SSH_KEY_NAME=${USERNAME}'-jupyter'\n",
    "export SSH_PRIVATE_KEY=${HOME}/.ssh/id_rsa\n",
    "\n",
    "# Set the reservations to use.  \n",
    "# CONTROLLER_RESERVATION_ID can be for any type of node\n",
    "export SDX_RESERVATION_ID='8478da29-7d05-4a65-a02a-0bc73557e196'\n",
    "export RIAK_RESERVATION_ID='8478da29-7d05-4a65-a02a-0bc73557e196'\n",
    "\n",
    "#Set the working directory\n",
    "export WORKING_DIR=${HOME}/work/CICI-SAFE/Chameleon-Jupyter/SDX\n",
    "\n",
    "#Set GENI CERT file\n",
    "export GENI_CERT=${HOME}/work/geni-pruth.pem"
   ]
  },
  {
   "cell_type": "markdown",
   "metadata": {},
   "source": [
    "#### Start RIAK Server"
   ]
  },
  {
   "cell_type": "code",
   "execution_count": 15,
   "metadata": {},
   "outputs": [],
   "source": [
    "cd $WORKING_DIR\n",
    "\n",
    "RIAK_NETWORK='sharednet1'\n",
    "RIAK_NODE_NAME=${USERNAME}-riak\n",
    "RIAK_STACK_NAME=${USERNAME}-riak"
   ]
  },
  {
   "cell_type": "code",
   "execution_count": 16,
   "metadata": {},
   "outputs": [
    {
     "name": "stdout",
     "output_type": "stream",
     "text": [
      "Creating RIAK server. This will take several minutes!\n",
      "2019-02-26 18:41:04Z [pruth-riak]: CREATE_IN_PROGRESS  Stack CREATE started\n",
      "2019-02-26 18:41:05Z [pruth-riak.riak_floating_ip]: CREATE_IN_PROGRESS  state changed\n",
      "2019-02-26 18:41:07Z [pruth-riak.riak-server]: CREATE_IN_PROGRESS  state changed\n",
      "2019-02-26 18:41:08Z [pruth-riak.riak_floating_ip]: CREATE_COMPLETE  state changed\n",
      "2019-02-26 18:50:20Z [pruth-riak.riak-server]: CREATE_COMPLETE  state changed\n",
      "2019-02-26 18:50:21Z [pruth-riak.riak_ip_association]: CREATE_IN_PROGRESS  state changed\n",
      "2019-02-26 18:50:24Z [pruth-riak.riak_ip_association]: CREATE_COMPLETE  state changed\n",
      "2019-02-26 18:50:24Z [pruth-riak]: CREATE_COMPLETE  Stack CREATE completed successfully\n",
      "+---------------------+--------------------------------------------------------+\n",
      "| Field               | Value                                                  |\n",
      "+---------------------+--------------------------------------------------------+\n",
      "| id                  | 96935b20-45a7-494a-9849-115aa5d561c1                   |\n",
      "| stack_name          | pruth-riak                                             |\n",
      "| description         | Ryu OpenFlow controller deployed with Heat on          |\n",
      "|                     | Chameleon                                              |\n",
      "| creation_time       | 2019-02-26T18:41:04Z                                   |\n",
      "| updated_time        | None                                                   |\n",
      "| stack_status        | CREATE_COMPLETE                                        |\n",
      "| stack_status_reason | Stack CREATE completed successfully                    |\n",
      "+---------------------+--------------------------------------------------------+\n"
     ]
    }
   ],
   "source": [
    "echo Creating RIAK server. This will take several minutes!\n",
    "openstack stack create  --max-width 80 \\\n",
    "        --template riak.yaml \\\n",
    "        --parameter \"key_name=${SSH_KEY_NAME}\" \\\n",
    "        --parameter \"reservation_id=${RIAK_RESERVATION_ID}\" \\\n",
    "        --parameter \"network_name=${RIAK_NETWORK}\" \\\n",
    "        --parameter \"riak_node_name=${RIAK_NODE_NAME}\" \\\n",
    "        --wait \\\n",
    "        ${RIAK_STACK_NAME}"
   ]
  },
  {
   "cell_type": "code",
   "execution_count": 17,
   "metadata": {},
   "outputs": [
    {
     "name": "stdout",
     "output_type": "stream",
     "text": [
      "RIAK server creation complete!\n",
      "pruth-riak status ACTIVE\n",
      "The RIAK se public IP is 129.114.108.53\n"
     ]
    }
   ],
   "source": [
    "echo RIAK server creation complete! \n",
    "echo ${RIAK_NODE_NAME} status `openstack server show  --format value -c status ${RIAK_NODE_NAME}`\n",
    "\n",
    "RIAK_PUBLIC_IP=`openstack server show  --format value -c addresses ${RIAK_NODE_NAME} | cut -d \" \" -f 2`\n",
    "echo The RIAK se public IP is $RIAK_PUBLIC_IP"
   ]
  },
  {
   "cell_type": "markdown",
   "metadata": {},
   "source": [
    "#### Start SDX Server"
   ]
  },
  {
   "cell_type": "code",
   "execution_count": 18,
   "metadata": {},
   "outputs": [],
   "source": [
    "cd $WORKING_DIR\n",
    "\n",
    "SDX_NETWORK='sharednet1'\n",
    "SDX_NODE_NAME=${USERNAME}-sdx\n",
    "SDX_STACK_NAME=${USERNAME}-sdx"
   ]
  },
  {
   "cell_type": "code",
   "execution_count": 19,
   "metadata": {},
   "outputs": [
    {
     "name": "stdout",
     "output_type": "stream",
     "text": [
      "Creating SDX server. This will take several minutes!\n",
      "2019-02-26 18:53:29Z [pruth-sdx]: CREATE_IN_PROGRESS  Stack CREATE started\n",
      "2019-02-26 18:53:30Z [pruth-sdx.sdx_floating_ip]: CREATE_IN_PROGRESS  state changed\n",
      "2019-02-26 18:53:32Z [pruth-sdx.sdx_floating_ip]: CREATE_COMPLETE  state changed\n",
      "2019-02-26 18:53:34Z [pruth-sdx.sdx]: CREATE_IN_PROGRESS  state changed\n",
      "2019-02-26 19:04:33Z [pruth-sdx.sdx]: CREATE_COMPLETE  state changed\n",
      "2019-02-26 19:04:33Z [pruth-sdx.sdx_ip_association]: CREATE_IN_PROGRESS  state changed\n",
      "2019-02-26 19:04:36Z [pruth-sdx.sdx_ip_association]: CREATE_COMPLETE  state changed\n",
      "2019-02-26 19:04:36Z [pruth-sdx]: CREATE_COMPLETE  Stack CREATE completed successfully\n",
      "+---------------------+--------------------------------------------------------+\n",
      "| Field               | Value                                                  |\n",
      "+---------------------+--------------------------------------------------------+\n",
      "| id                  | be935e78-81c6-4973-89c3-0540471d343a                   |\n",
      "| stack_name          | pruth-sdx                                              |\n",
      "| description         | Ryu OpenFlow controller deployed with Heat on          |\n",
      "|                     | Chameleon                                              |\n",
      "| creation_time       | 2019-02-26T18:53:29Z                                   |\n",
      "| updated_time        | None                                                   |\n",
      "| stack_status        | CREATE_COMPLETE                                        |\n",
      "| stack_status_reason | Stack CREATE completed successfully                    |\n",
      "+---------------------+--------------------------------------------------------+\n"
     ]
    }
   ],
   "source": [
    "echo Creating SDX server. This will take several minutes!\n",
    "openstack stack create  --max-width 80 \\\n",
    "        --template sdx.yaml \\\n",
    "        --parameter \"key_name=${SSH_KEY_NAME}\" \\\n",
    "        --parameter \"reservation_id=${SDX_RESERVATION_ID}\" \\\n",
    "        --parameter \"network_name=${SDX_NETWORK}\" \\\n",
    "        --parameter \"sdx_node_name=${SDX_NODE_NAME}\" \\\n",
    "        --parameter \"riak_ip=${RIAK_PUBLIC_IP}\" \\\n",
    "        --wait \\\n",
    "        ${SDX_STACK_NAME}"
   ]
  },
  {
   "cell_type": "code",
   "execution_count": 21,
   "metadata": {},
   "outputs": [
    {
     "name": "stdout",
     "output_type": "stream",
     "text": [
      "SDX server creation complete!\n",
      "pruth-sdx status ACTIVE\n",
      "The SDX se public IP is 129.114.108.17\n"
     ]
    }
   ],
   "source": [
    "echo SDX server creation complete! \n",
    "echo ${SDX_NODE_NAME} status `openstack server show  --format value -c status ${SDX_NODE_NAME}`\n",
    "\n",
    "SDX_PUBLIC_IP=`openstack server show  --format value -c addresses ${SDX_NODE_NAME} | cut -d \" \" -f 2`\n",
    "echo The SDX se public IP is $SDX_PUBLIC_IP"
   ]
  },
  {
   "cell_type": "code",
   "execution_count": 22,
   "metadata": {},
   "outputs": [
    {
     "name": "stdout",
     "output_type": "stream",
     "text": [
      "SDX_PUBLIC_IP is 129.114.108.17\n",
      "SDX node ready for ssh\n"
     ]
    }
   ],
   "source": [
    "SDX_PUBLIC_IP=`openstack server show --format value -c addresses ${SDX_NODE_NAME} | cut -d \" \" -f 2`\n",
    "echo SDX_PUBLIC_IP is $SDX_PUBLIC_IP\n",
    "\n",
    "#Poll for node to be ready for ssh\n",
    "while [[ true ]]\n",
    "do \n",
    "\tssh -q -i ${SSH_PRIVATE_KEY} \\\n",
    "    -o UserKnownHostsFile=/dev/null \\\n",
    "    -o StrictHostKeyChecking=no \\\n",
    "    cc@${SDX_PUBLIC_IP} \\\n",
    "    exit\n",
    "    \n",
    "    if [[ \"$?\" == \"0\" ]]; then break; fi\n",
    "    \n",
    "    echo Node not ready for ssh. retrying in 5 seconds.\n",
    "    sleep 5\n",
    "done\n",
    "\n",
    "echo SDX node ready for ssh"
   ]
  },
  {
   "cell_type": "code",
   "execution_count": 23,
   "metadata": {},
   "outputs": [
    {
     "name": "stdout",
     "output_type": "stream",
     "text": [
      "Warning: Permanently added '129.114.108.17' (ECDSA) to the list of known hosts.\n",
      "[INFO] Installing artifact /root/CICI-SAFE/SDX-Simple/SAFE_SDX/target/exoplex.sdx-simple-0.1-SNAPSHOT.jar to /root/CICI-SAFE/SDX-Simple/SAFE_SDX/target/appassembler/repo/safe/exoplex.sdx-simple/0.1-SNAPSHOT/exoplex.sdx-simple-0.1-SNAPSHOT.jar\n",
      "[INFO] ------------------------------------------------------------------------\n",
      "[INFO] BUILD SUCCESS\n",
      "[INFO] ------------------------------------------------------------------------\n",
      "[INFO] Total time: 1:20.411s\n",
      "[INFO] Finished at: Tue Feb 26 19:23:23 UTC 2019\n",
      "[INFO] Final Memory: 33M/1100M\n",
      "[INFO] ------------------------------------------------------------------------\n",
      "Create ssh key\n",
      "Boot Script Done!\n"
     ]
    }
   ],
   "source": [
    "#Tail log until complete. Note: YOU MUST MANUALLY STOP THIS TO CONTINUE!\n",
    "ssh -i ${SSH_PRIVATE_KEY} \\\n",
    "    -o UserKnownHostsFile=/dev/null \\\n",
    "    -o StrictHostKeyChecking=no \\\n",
    "    cc@${SDX_PUBLIC_IP} \\\n",
    "    sudo tail /root/boot.log"
   ]
  },
  {
   "cell_type": "markdown",
   "metadata": {},
   "source": [
    "#### Configure the SDX node"
   ]
  },
  {
   "cell_type": "code",
   "execution_count": 24,
   "metadata": {},
   "outputs": [
    {
     "name": "stdout",
     "output_type": "stream",
     "text": [
      "Copying GENI cert to cc@129.114.108.17:~/geni.pem\n",
      "Done\n"
     ]
    }
   ],
   "source": [
    "#Copy GENI pem file to node\n",
    "REMOTE_GENI_CERT=/home/cc/geni.pem\n",
    "\n",
    "echo Copying GENI cert to cc@$SDX_PUBLIC_IP:~/geni.pem\n",
    "scp -q -i ${SSH_PRIVATE_KEY} \\\n",
    "    -o UserKnownHostsFile=/dev/null \\\n",
    "    -o StrictHostKeyChecking=no \\\n",
    "    ${GENI_CERT} \\\n",
    "    cc@${SDX_PUBLIC_IP}:${REMOTE_GENI_CERT}\n",
    "echo Done"
   ]
  },
  {
   "cell_type": "code",
   "execution_count": 25,
   "metadata": {},
   "outputs": [
    {
     "name": "stdout",
     "output_type": "stream",
     "text": [
      "Copying SDX config to cc@129.114.108.17\n",
      "Done\n"
     ]
    }
   ],
   "source": [
    "LOCAL_SDX_CONFIG=${WORKING_DIR}/sdx.conf\n",
    "\n",
    "REMOTE_SDX_CONFIG=/home/cc/sdx.conf\n",
    "REMOTE_WORKING_DIR=/root\n",
    "REMOTE_BIN_DIR=${REMOTE_WORKING_DIR}/CICI-SAFE/SDX-Simple/SAFE_SDX/target/appassembler/bin\n",
    "\n",
    "DATAPLANE_SLICE_NAME=${USERNAME}-sdx-dataplane\n",
    "\n",
    "cat << EOF > $LOCAL_SDX_CONFIG\n",
    "config {\n",
    "safe=false\n",
    "slicename=\"${DATAPLANE_SLICE_NAME}\"\n",
    "type=\"server\"\n",
    "sshkey=\"/root/.ssh/id_rsa\"\n",
    "safekey=\"bphJZn3RJBnNqoCZk6k9SBD8mwSb054PXbwV7HpE80E\"\n",
    "exogenipem=\"${REMOTE_GENI_CERT}\"\n",
    "exogenism=\"https://geni.renci.org:11443/orca/xmlrpc\"\n",
    "ipprefix=\"192.168.30.1/20\"\n",
    "riakserver=\"${RIAK_PUBLIC_IP}\"\n",
    "serverinslice=false\n",
    "safeserver=\"${SDX_PUBLIC_IP}\"\n",
    "plexusserver=\"${SDX_PUBLIC_IP}\"\n",
    "serverurl=\"http://0.0.0.0:8888/\"\n",
    "scriptsdir=\"${REMOTE_WORKING_DIR}/CICI-SAFE/SDX-Simple/SAFE_SDX/src/main/resources/scripts/\"\n",
    "clientsites:\"TAMU:UH:UFL:UNF\"\n",
    "controllersite:\"UFL (Gainesville, FL USA) XO Rack\"\n",
    "serversite:\"RENCI (Chapel Hill, NC USA) XO Rack\"\n",
    "}\n",
    "EOF\n",
    "\n",
    "echo Copying SDX config to cc@$SDX_PUBLIC_IP\n",
    "scp -q -i ${SSH_PRIVATE_KEY} \\\n",
    "    -o UserKnownHostsFile=/dev/null \\\n",
    "    -o StrictHostKeyChecking=no \\\n",
    "    $LOCAL_SDX_CONFIG \\\n",
    "    cc@${SDX_PUBLIC_IP}:${REMOTE_SDX_CONFIG}\n",
    "echo Done"
   ]
  },
  {
   "cell_type": "markdown",
   "metadata": {},
   "source": [
    "#### Start the Dataplane Slice"
   ]
  },
  {
   "cell_type": "code",
   "execution_count": 26,
   "metadata": {},
   "outputs": [
    {
     "name": "stdout",
     "output_type": "stream",
     "text": [
      "Start SDX dataplane Slice\n",
      "Warning: Permanently added '129.114.108.17' (ECDSA) to the list of known hosts.\n",
      "Slice Creation Done!\n"
     ]
    }
   ],
   "source": [
    "echo Start SDX dataplane Slice\n",
    "ssh -i ${SSH_PRIVATE_KEY} \\\n",
    "    -o UserKnownHostsFile=/dev/null \\\n",
    "    -o StrictHostKeyChecking=no \\\n",
    "    cc@${SDX_PUBLIC_IP} \\\n",
    "    sudo ${REMOTE_BIN_DIR}/SafeSdxSliceServer -c $REMOTE_SDX_CONFIG  \n",
    "echo Slice Creation Done!"
   ]
  },
  {
   "cell_type": "markdown",
   "metadata": {},
   "source": [
    "#### Start the SDX Server"
   ]
  },
  {
   "cell_type": "code",
   "execution_count": null,
   "metadata": {},
   "outputs": [
    {
     "name": "stdout",
     "output_type": "stream",
     "text": [
      "Start the SDX Server\n",
      "Warning: Permanently added '129.114.108.17' (ECDSA) to the list of known hosts.\n",
      "starting exoplex.sdx server\n",
      "\u001b[30m20:01:30 [main] INFO  exoplex.sdx.core.SdxManager - Carrier Slice server with Service API: START\n",
      "\u001b[mFeb 26, 2019 8:01:46 PM org.glassfish.grizzly.http.server.NetworkListener start\n",
      "INFO: Started listener bound to [0.0.0.0:8888]\n",
      "Feb 26, 2019 8:01:46 PM org.glassfish.grizzly.http.server.HttpServer start\n",
      "INFO: [HttpServer] Started.\n",
      "Sdx server has started, listening on http://0.0.0.0:8888/\n"
     ]
    }
   ],
   "source": [
    "echo Start the SDX Server\n",
    "ssh -i ${SSH_PRIVATE_KEY} \\\n",
    "    -o UserKnownHostsFile=/dev/null \\\n",
    "    -o StrictHostKeyChecking=no \\\n",
    "    cc@${SDX_PUBLIC_IP} \\\n",
    "    sudo ${REMOTE_BIN_DIR}/SafeSdxServer -c $REMOTE_SDX_CONFIG"
   ]
  },
  {
   "cell_type": "markdown",
   "metadata": {},
   "source": [
    "# Please Cleanup Your Resources!!!\n",
    "\n",
    "#### Delete SDX Stack"
   ]
  },
  {
   "cell_type": "code",
   "execution_count": null,
   "metadata": {},
   "outputs": [],
   "source": [
    "echo Deleting stack ${SDX_STACK_NAME}\n",
    "openstack stack delete -y --wait ${SDX_STACK_NAME}\n",
    "echo Stack ${SDX_STACK_NAME} deleted"
   ]
  },
  {
   "cell_type": "markdown",
   "metadata": {},
   "source": [
    "#### Delete Dataplane Slice"
   ]
  },
  {
   "cell_type": "code",
   "execution_count": null,
   "metadata": {},
   "outputs": [],
   "source": [
    "#need to install exogeni phython script in the container\n",
    "#python delete ${DATAPLANE_SLICE_NAME}"
   ]
  },
  {
   "cell_type": "markdown",
   "metadata": {},
   "source": [
    "#### Delete RIAK Stack"
   ]
  },
  {
   "cell_type": "code",
   "execution_count": null,
   "metadata": {},
   "outputs": [],
   "source": [
    "echo Deleting stack ${RIAK_STACK_NAME}\n",
    "openstack stack delete -y --wait ${RIAK_STACK_NAME}\n",
    "echo Stack ${RIAK_STACK_NAME} deleted"
   ]
  },
  {
   "cell_type": "code",
   "execution_count": null,
   "metadata": {},
   "outputs": [],
   "source": []
  }
 ],
 "metadata": {
  "kernelspec": {
   "display_name": "Bash",
   "language": "bash",
   "name": "bash"
  },
  "language_info": {
   "codemirror_mode": "shell",
   "file_extension": ".sh",
   "mimetype": "text/x-sh",
   "name": "bash"
  }
 },
 "nbformat": 4,
 "nbformat_minor": 2
}
