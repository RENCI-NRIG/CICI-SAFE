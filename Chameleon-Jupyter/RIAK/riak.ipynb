{
 "cells": [
  {
   "cell_type": "markdown",
   "metadata": {},
   "source": [
    "# Start the RIAK Server for the CICI SAFE vSDX\n",
    "\n",
    "#### Configure the Envrionment"
   ]
  },
  {
   "cell_type": "code",
   "execution_count": null,
   "metadata": {},
   "outputs": [],
   "source": [
    "# Set up user's project (user's can be multiple ones, so there is no default currently)\n",
    "export OS_PROJECT_NAME='CH-816532'\n",
    "\n",
    "# Set region (again, no default currently)\n",
    "export OS_REGION_NAME='CHI@TACC'\n",
    "\n",
    "# Set chameleon keypair name and path to the private ssh key\n",
    "export SSH_KEY_NAME=${USERNAME}-jupyter\n",
    "export SSH_PRIVATE_KEY=${HOME}/work/pruth-chameleon-jupyter\n",
    "\n",
    "# Set the reservations to use.  \n",
    "# CONTROLLER_RESERVATION_ID can be for any type of node\n",
    "# NODE_RESERVATION_ID must be for Skylake nodes\n",
    "#export RIAK_RESERVATION_ID='8882c0ea-e92a-404e-8637-73b4c38f4101'\n",
    "\n",
    "\n",
    "#Set the working directory\n",
    "export WORKING_DIR=${HOME}/work/CICI-SAFE/Chameleon-Jupyter-Tridentcom\n",
    "\n",
    "export UNIVERSAL_INFO_FILE=${WORKING_DIR}/universal_info\n",
    "export RIAK_INFO_FILE=${WORKING_DIR}/riak_info\n",
    "echo \"\" > $RIAK_INFO_FILE"
   ]
  },
  {
   "cell_type": "markdown",
   "metadata": {},
   "source": [
    "#### Create Lease (if necessary)"
   ]
  },
  {
   "cell_type": "code",
   "execution_count": null,
   "metadata": {},
   "outputs": [],
   "source": [
    "#Check of universal reservation\n",
    "if [ -f \"${UNIVERSAL_INFO_FILE}\" ]; then\n",
    "   LEASE_NAME=`cat $UNIVERSAL_INFO_FILE | grep LEASE_NAME | cut -d \" \" -f 2`\n",
    "   echo $LEASE_NAME\n",
    "   echo LEASE_NAME $LEASE_NAME >> $RIAK_INFO_FILE\n",
    "fi\n",
    "\n",
    "if  [ -z $LEASE_NAME ]; then\n",
    "  \n",
    "    echo No universal reservation. Creating new reservation\n",
    "    # --start-date \"2019-02-10 17:50\" \\\n",
    "    # --end-date \"2019-02-11 12:00\" \\\n",
    "    START_DATE=`date -d \"+2 min\" +'%F %H:%M'`\n",
    "    END_DATE=`date -d \"+1 day\" +'%F %H:%M'`\n",
    "    LEASE_NAME=${USERNAME}\"-riak-lease\"\n",
    "    echo LEASE_NAME $LEASE_NAME >> $RIAK_INFO_FILE\n",
    "\n",
    "    NODE_MIN=1\n",
    "    NODE_MAX=1\n",
    "\n",
    "    NODE_TYPE='compute_haswell'\n",
    "    #NODE_TYPE='compute_skylake'\n",
    "\n",
    "    echo Creating Lease ${LEASE_NAME}\n",
    "    blazar lease-create \\\n",
    "       --physical-reservation min=${NODE_MIN},max=${NODE_MAX},resource_properties='[\"=\", \"$node_type\", \"'${NODE_TYPE}'\"]' \\\n",
    "       --start-date \"${START_DATE}\" \\\n",
    "       --end-date \"${END_DATE}\" \\\n",
    "       ${LEASE_NAME}\n",
    "\n",
    "fi\n",
    "\n",
    "echo LEASE_NAME: $LEASE_NAME\n",
    "cat  $RIAK_INFO_FILE"
   ]
  },
  {
   "cell_type": "code",
   "execution_count": null,
   "metadata": {},
   "outputs": [],
   "source": [
    "LEASE_NAME=`cat $RIAK_INFO_FILE | grep LEASE_NAME | cut -d \" \" -f 2`\n",
    "RESERVATION_ID=`blazar lease-show --format value -c id ${LEASE_NAME}`\n",
    "echo RESERVATION_ID $RESERVATION_ID\n",
    "\n",
    "RESERVATION_RESOURCE_ID=`blazar lease-show --format value -c reservations ${RESERVATION_ID} | grep \\\"id\\\" | cut -d \"\\\"\" -f 4`\n",
    "echo RESERVATION_RESOURCE_ID $RESERVATION_RESOURCE_ID\n",
    "\n",
    "#blazar lease-show ${RESERVATION_ID}\n",
    "\n",
    "while [[ true ]]\n",
    "do \n",
    "\tRESERVATION_STATUS=`blazar lease-show --format value -c status ${RESERVATION_ID}`\n",
    "    \n",
    "    if [[ \"${RESERVATION_STATUS}\" == \"ACTIVE\" ]]; then break; fi\n",
    "    \n",
    "    echo Reservation is ${RESERVATION_STATUS}. retrying in 5 seconds.\n",
    "    sleep 5\n",
    "done\n",
    "\n",
    "echo RESERVATION_STATUS ${RESERVATION_STATUS}\n",
    "echo RESERVATION_RESOURCE_ID $RESERVATION_RESOURCE_ID >> $RIAK_INFO_FILE\n",
    "\n",
    "cat $RIAK_INFO_FILE\n",
    "#blazar lease-show ${RESERVATION_ID}"
   ]
  },
  {
   "cell_type": "markdown",
   "metadata": {},
   "source": [
    "#### Start RIAK Server"
   ]
  },
  {
   "cell_type": "code",
   "execution_count": null,
   "metadata": {},
   "outputs": [],
   "source": [
    "#RESERVATION_RESOURCE_ID=`cat $RIAK_RESERVATION_FILE`\n",
    "RESERVATION_RESOURCE_ID=`cat $RIAK_INFO_FILE | grep RESERVATION_RESOURCE_ID | cut -d \" \" -f 2`\n",
    "echo  RESERVATION_RESOURCE_ID $RESERVATION_RESOURCE_ID\n",
    "\n",
    "RIAK_NETWORK='sharednet1'\n",
    "RIAK_NODE_NAME=${USERNAME}-riak\n",
    "RIAK_STACK_NAME=${USERNAME}-riak\n",
    "\n",
    "echo RIAK_NODE_NAME $RIAK_NODE_NAME >> $RIAK_INFO_FILE\n",
    "echo RIAK_STACK_NAME $RIAK_STACK_NAME >> $RIAK_INFO_FILE"
   ]
  },
  {
   "cell_type": "code",
   "execution_count": null,
   "metadata": {},
   "outputs": [],
   "source": [
    "echo Creating RIAK server. This will take several minutes!\n",
    "openstack stack create  --max-width 80 \\\n",
    "        --template riak.yaml \\\n",
    "        --parameter \"key_name=${SSH_KEY_NAME}\" \\\n",
    "        --parameter \"reservation_id=${RESERVATION_RESOURCE_ID}\" \\\n",
    "        --parameter \"network_name=${RIAK_NETWORK}\" \\\n",
    "        --parameter \"riak_node_name=${RIAK_NODE_NAME}\" \\\n",
    "        --wait \\\n",
    "        ${RIAK_STACK_NAME}"
   ]
  },
  {
   "cell_type": "code",
   "execution_count": null,
   "metadata": {},
   "outputs": [],
   "source": [
    "echo RIAK server creation complete! \n",
    "echo ${RIAK_NODE_NAME} status `openstack server show  --format value -c status ${RIAK_NODE_NAME}`\n",
    "\n",
    "RIAK_PUBLIC_IP=`openstack server show  --format value -c addresses ${RIAK_NODE_NAME} | cut -d \" \" -f 2`\n",
    "echo The RIAK se public IP is $RIAK_PUBLIC_IP\n",
    "echo RIAK_PUBLIC_IP $RIAK_PUBLIC_IP >> $RIAK_INFO_FILE"
   ]
  },
  {
   "cell_type": "code",
   "execution_count": null,
   "metadata": {},
   "outputs": [],
   "source": [
    "RIAK_PUBLIC_IP=`cat $RIAK_INFO_FILE | grep RIAK_PUBLIC_IP | cut -d \" \" -f 2`\n",
    "\n",
    "#Poll for node to be ready for ssh\n",
    "while [[ true ]]\n",
    "do \n",
    "\tssh -q -i ${SSH_PRIVATE_KEY} \\\n",
    "    -o UserKnownHostsFile=/dev/null \\\n",
    "    -o StrictHostKeyChecking=no \\\n",
    "    cc@${RIAK_PUBLIC_IP} \\\n",
    "    exit\n",
    "    \n",
    "    if [[ \"$?\" == \"0\" ]]; then break; fi\n",
    "    \n",
    "    echo Node not ready for ssh. retrying in 5 seconds.\n",
    "    sleep 5\n",
    "done\n",
    "\n",
    "echo RIAK node ready for ssh"
   ]
  },
  {
   "cell_type": "markdown",
   "metadata": {},
   "source": [
    "#### Clean Up RIAK"
   ]
  },
  {
   "cell_type": "code",
   "execution_count": null,
   "metadata": {},
   "outputs": [],
   "source": [
    "RIAK_STACK_NAME=`cat $RIAK_INFO_FILE | grep RIAK_STACK_NAME | cut -d \" \" -f 2`\n",
    "openstack stack delete --wait -y $RIAK_STACK_NAME\n",
    "\n",
    "LEASE_NAME=`cat $RIAK_INFO_FILE | grep LEASE_NAME | cut -d \" \" -f 2`\n",
    "blazar lease-delete $LEASE_NAME\n",
    "\n",
    "cat $RIAK_INFO_FILE\n",
    "mv $RIAK_INFO_FILE ${RIAK_INFO_FILE}.old"
   ]
  },
  {
   "cell_type": "code",
   "execution_count": null,
   "metadata": {},
   "outputs": [],
   "source": []
  }
 ],
 "metadata": {
  "kernelspec": {
   "display_name": "Bash",
   "language": "bash",
   "name": "bash"
  },
  "language_info": {
   "codemirror_mode": "shell",
   "file_extension": ".sh",
   "mimetype": "text/x-sh",
   "name": "bash"
  }
 },
 "nbformat": 4,
 "nbformat_minor": 2
}
